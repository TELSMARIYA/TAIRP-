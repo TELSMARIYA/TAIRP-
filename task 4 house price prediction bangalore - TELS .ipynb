{
 "cells": [
  {
   "cell_type": "markdown",
   "id": "7cfa4912",
   "metadata": {},
   "source": [
    "# HOUSE PRICE PREDICTION -- BENGALURU\n",
    "\n",
    "      \n"
   ]
  },
  {
   "cell_type": "markdown",
   "id": "94397309",
   "metadata": {},
   "source": [
    "##### TECH-A-INTERN - DataScience Intership project submitted by TELS MARIYA THOMAS ( in october 2023)"
   ]
  },
  {
   "cell_type": "markdown",
   "id": "c0629a2d",
   "metadata": {},
   "source": [
    "#### problem statement:\n",
    "Humans are always in need for shelter. As a matter of time through the evolution of human race, housing became an identity to the wealth and status of a person in a community. Now a days,finding  the right home in right locality with the preferred budget is a task for common man. \n",
    "\n",
    "In this project iam trying to predict the house prices, based on the features of the house, area type and locality. \n",
    "     \n",
    "For the project, i opted a real time dataset of house prices in Bengaluru, which is a highly populated metropolitan city in India. \n",
    "     "
   ]
  },
  {
   "cell_type": "markdown",
   "id": "2e5835cc",
   "metadata": {},
   "source": [
    "https://www.kaggle.com/datasets/abhinaykumarsingh/bengaluru-house-price-data\n"
   ]
  },
  {
   "cell_type": "code",
   "execution_count": 1,
   "id": "430f1177",
   "metadata": {},
   "outputs": [],
   "source": [
    "# importing the necessory libraries \n",
    "import numpy as np\n",
    "import pandas as pd\n",
    "import matplotlib.pyplot as plt\n",
    "import seaborn as sns\n",
    "import re\n",
    "\n",
    "import warnings\n",
    "warnings.filterwarnings('ignore')"
   ]
  },
  {
   "cell_type": "markdown",
   "id": "43597290",
   "metadata": {},
   "source": [
    "# LOAD AND READ THE DATASET "
   ]
  },
  {
   "cell_type": "code",
   "execution_count": 2,
   "id": "753b05c7",
   "metadata": {
    "scrolled": true
   },
   "outputs": [
    {
     "data": {
      "text/html": [
       "<div>\n",
       "<style scoped>\n",
       "    .dataframe tbody tr th:only-of-type {\n",
       "        vertical-align: middle;\n",
       "    }\n",
       "\n",
       "    .dataframe tbody tr th {\n",
       "        vertical-align: top;\n",
       "    }\n",
       "\n",
       "    .dataframe thead th {\n",
       "        text-align: right;\n",
       "    }\n",
       "</style>\n",
       "<table border=\"1\" class=\"dataframe\">\n",
       "  <thead>\n",
       "    <tr style=\"text-align: right;\">\n",
       "      <th></th>\n",
       "      <th>area_type</th>\n",
       "      <th>availability</th>\n",
       "      <th>location</th>\n",
       "      <th>size</th>\n",
       "      <th>society</th>\n",
       "      <th>total_sqft</th>\n",
       "      <th>bath</th>\n",
       "      <th>balcony</th>\n",
       "      <th>price</th>\n",
       "    </tr>\n",
       "  </thead>\n",
       "  <tbody>\n",
       "    <tr>\n",
       "      <th>0</th>\n",
       "      <td>Super built-up  Area</td>\n",
       "      <td>19-Dec</td>\n",
       "      <td>Electronic City Phase II</td>\n",
       "      <td>2 BHK</td>\n",
       "      <td>Coomee</td>\n",
       "      <td>1056</td>\n",
       "      <td>2.0</td>\n",
       "      <td>1.0</td>\n",
       "      <td>39.07</td>\n",
       "    </tr>\n",
       "    <tr>\n",
       "      <th>1</th>\n",
       "      <td>Plot  Area</td>\n",
       "      <td>Ready To Move</td>\n",
       "      <td>Chikka Tirupathi</td>\n",
       "      <td>4 Bedroom</td>\n",
       "      <td>Theanmp</td>\n",
       "      <td>2600</td>\n",
       "      <td>5.0</td>\n",
       "      <td>3.0</td>\n",
       "      <td>120.00</td>\n",
       "    </tr>\n",
       "    <tr>\n",
       "      <th>2</th>\n",
       "      <td>Built-up  Area</td>\n",
       "      <td>Ready To Move</td>\n",
       "      <td>Uttarahalli</td>\n",
       "      <td>3 BHK</td>\n",
       "      <td>NaN</td>\n",
       "      <td>1440</td>\n",
       "      <td>2.0</td>\n",
       "      <td>3.0</td>\n",
       "      <td>62.00</td>\n",
       "    </tr>\n",
       "    <tr>\n",
       "      <th>3</th>\n",
       "      <td>Super built-up  Area</td>\n",
       "      <td>Ready To Move</td>\n",
       "      <td>Lingadheeranahalli</td>\n",
       "      <td>3 BHK</td>\n",
       "      <td>Soiewre</td>\n",
       "      <td>1521</td>\n",
       "      <td>3.0</td>\n",
       "      <td>1.0</td>\n",
       "      <td>95.00</td>\n",
       "    </tr>\n",
       "    <tr>\n",
       "      <th>4</th>\n",
       "      <td>Super built-up  Area</td>\n",
       "      <td>Ready To Move</td>\n",
       "      <td>Kothanur</td>\n",
       "      <td>2 BHK</td>\n",
       "      <td>NaN</td>\n",
       "      <td>1200</td>\n",
       "      <td>2.0</td>\n",
       "      <td>1.0</td>\n",
       "      <td>51.00</td>\n",
       "    </tr>\n",
       "  </tbody>\n",
       "</table>\n",
       "</div>"
      ],
      "text/plain": [
       "              area_type   availability                  location       size  \\\n",
       "0  Super built-up  Area         19-Dec  Electronic City Phase II      2 BHK   \n",
       "1            Plot  Area  Ready To Move          Chikka Tirupathi  4 Bedroom   \n",
       "2        Built-up  Area  Ready To Move               Uttarahalli      3 BHK   \n",
       "3  Super built-up  Area  Ready To Move        Lingadheeranahalli      3 BHK   \n",
       "4  Super built-up  Area  Ready To Move                  Kothanur      2 BHK   \n",
       "\n",
       "   society total_sqft  bath  balcony   price  \n",
       "0  Coomee        1056   2.0      1.0   39.07  \n",
       "1  Theanmp       2600   5.0      3.0  120.00  \n",
       "2      NaN       1440   2.0      3.0   62.00  \n",
       "3  Soiewre       1521   3.0      1.0   95.00  \n",
       "4      NaN       1200   2.0      1.0   51.00  "
      ]
     },
     "execution_count": 2,
     "metadata": {},
     "output_type": "execute_result"
    }
   ],
   "source": [
    "# loading the dataset \n",
    "df_hs=pd.read_csv(r\"D:\\datasets kaggle\\datasets_20710_26737_Bengaluru_House_Data.csv\")\n",
    "df_hs.head()"
   ]
  },
  {
   "cell_type": "code",
   "execution_count": null,
   "id": "c0abd51c",
   "metadata": {},
   "outputs": [],
   "source": []
  },
  {
   "cell_type": "code",
   "execution_count": null,
   "id": "4ab37881",
   "metadata": {},
   "outputs": [],
   "source": []
  },
  {
   "cell_type": "markdown",
   "id": "b7154dca",
   "metadata": {},
   "source": [
    "## INITIAL ANALYSIS OF THE DATA "
   ]
  },
  {
   "cell_type": "markdown",
   "id": "1f262a8e",
   "metadata": {},
   "source": [
    "##### info about the dataset"
   ]
  },
  {
   "cell_type": "code",
   "execution_count": 3,
   "id": "3d6c730b",
   "metadata": {
    "scrolled": false
   },
   "outputs": [
    {
     "name": "stdout",
     "output_type": "stream",
     "text": [
      "<class 'pandas.core.frame.DataFrame'>\n",
      "RangeIndex: 13320 entries, 0 to 13319\n",
      "Data columns (total 9 columns):\n",
      " #   Column        Non-Null Count  Dtype  \n",
      "---  ------        --------------  -----  \n",
      " 0   area_type     13320 non-null  object \n",
      " 1   availability  13320 non-null  object \n",
      " 2   location      13319 non-null  object \n",
      " 3   size          13304 non-null  object \n",
      " 4   society       7818 non-null   object \n",
      " 5   total_sqft    13320 non-null  object \n",
      " 6   bath          13247 non-null  float64\n",
      " 7   balcony       12711 non-null  float64\n",
      " 8   price         13320 non-null  float64\n",
      "dtypes: float64(3), object(6)\n",
      "memory usage: 936.7+ KB\n"
     ]
    }
   ],
   "source": [
    "df_hs.info()"
   ]
  },
  {
   "cell_type": "markdown",
   "id": "b505300d",
   "metadata": {},
   "source": [
    "From the info we have 3 numerical columns and 6 object columns "
   ]
  },
  {
   "cell_type": "markdown",
   "id": "2cde6a5e",
   "metadata": {},
   "source": [
    "##### desciption of the dataset"
   ]
  },
  {
   "cell_type": "code",
   "execution_count": 4,
   "id": "7dcda64f",
   "metadata": {
    "scrolled": true
   },
   "outputs": [
    {
     "data": {
      "text/html": [
       "<div>\n",
       "<style scoped>\n",
       "    .dataframe tbody tr th:only-of-type {\n",
       "        vertical-align: middle;\n",
       "    }\n",
       "\n",
       "    .dataframe tbody tr th {\n",
       "        vertical-align: top;\n",
       "    }\n",
       "\n",
       "    .dataframe thead th {\n",
       "        text-align: right;\n",
       "    }\n",
       "</style>\n",
       "<table border=\"1\" class=\"dataframe\">\n",
       "  <thead>\n",
       "    <tr style=\"text-align: right;\">\n",
       "      <th></th>\n",
       "      <th>bath</th>\n",
       "      <th>balcony</th>\n",
       "      <th>price</th>\n",
       "    </tr>\n",
       "  </thead>\n",
       "  <tbody>\n",
       "    <tr>\n",
       "      <th>count</th>\n",
       "      <td>13247.000000</td>\n",
       "      <td>12711.000000</td>\n",
       "      <td>13320.000000</td>\n",
       "    </tr>\n",
       "    <tr>\n",
       "      <th>mean</th>\n",
       "      <td>2.692610</td>\n",
       "      <td>1.584376</td>\n",
       "      <td>112.565627</td>\n",
       "    </tr>\n",
       "    <tr>\n",
       "      <th>std</th>\n",
       "      <td>1.341458</td>\n",
       "      <td>0.817263</td>\n",
       "      <td>148.971674</td>\n",
       "    </tr>\n",
       "    <tr>\n",
       "      <th>min</th>\n",
       "      <td>1.000000</td>\n",
       "      <td>0.000000</td>\n",
       "      <td>8.000000</td>\n",
       "    </tr>\n",
       "    <tr>\n",
       "      <th>25%</th>\n",
       "      <td>2.000000</td>\n",
       "      <td>1.000000</td>\n",
       "      <td>50.000000</td>\n",
       "    </tr>\n",
       "    <tr>\n",
       "      <th>50%</th>\n",
       "      <td>2.000000</td>\n",
       "      <td>2.000000</td>\n",
       "      <td>72.000000</td>\n",
       "    </tr>\n",
       "    <tr>\n",
       "      <th>75%</th>\n",
       "      <td>3.000000</td>\n",
       "      <td>2.000000</td>\n",
       "      <td>120.000000</td>\n",
       "    </tr>\n",
       "    <tr>\n",
       "      <th>max</th>\n",
       "      <td>40.000000</td>\n",
       "      <td>3.000000</td>\n",
       "      <td>3600.000000</td>\n",
       "    </tr>\n",
       "  </tbody>\n",
       "</table>\n",
       "</div>"
      ],
      "text/plain": [
       "               bath       balcony         price\n",
       "count  13247.000000  12711.000000  13320.000000\n",
       "mean       2.692610      1.584376    112.565627\n",
       "std        1.341458      0.817263    148.971674\n",
       "min        1.000000      0.000000      8.000000\n",
       "25%        2.000000      1.000000     50.000000\n",
       "50%        2.000000      2.000000     72.000000\n",
       "75%        3.000000      2.000000    120.000000\n",
       "max       40.000000      3.000000   3600.000000"
      ]
     },
     "execution_count": 4,
     "metadata": {},
     "output_type": "execute_result"
    }
   ],
   "source": [
    "# description of the numerical variables \n",
    "df_hs.describe()"
   ]
  },
  {
   "cell_type": "raw",
   "id": "9263a439",
   "metadata": {},
   "source": [
    "from describe it is clear that:\n",
    "    BATH AND BALCONY HAS NULL VALUES \n",
    "    bath is skewed.\n",
    "    balcony also shows small skeweness in the data \n",
    "    balcony has null values "
   ]
  },
  {
   "cell_type": "code",
   "execution_count": 5,
   "id": "b6736f40",
   "metadata": {
    "scrolled": true
   },
   "outputs": [
    {
     "data": {
      "text/html": [
       "<div>\n",
       "<style scoped>\n",
       "    .dataframe tbody tr th:only-of-type {\n",
       "        vertical-align: middle;\n",
       "    }\n",
       "\n",
       "    .dataframe tbody tr th {\n",
       "        vertical-align: top;\n",
       "    }\n",
       "\n",
       "    .dataframe thead th {\n",
       "        text-align: right;\n",
       "    }\n",
       "</style>\n",
       "<table border=\"1\" class=\"dataframe\">\n",
       "  <thead>\n",
       "    <tr style=\"text-align: right;\">\n",
       "      <th></th>\n",
       "      <th>area_type</th>\n",
       "      <th>availability</th>\n",
       "      <th>location</th>\n",
       "      <th>size</th>\n",
       "      <th>society</th>\n",
       "      <th>total_sqft</th>\n",
       "    </tr>\n",
       "  </thead>\n",
       "  <tbody>\n",
       "    <tr>\n",
       "      <th>count</th>\n",
       "      <td>13320</td>\n",
       "      <td>13320</td>\n",
       "      <td>13319</td>\n",
       "      <td>13304</td>\n",
       "      <td>7818</td>\n",
       "      <td>13320</td>\n",
       "    </tr>\n",
       "    <tr>\n",
       "      <th>unique</th>\n",
       "      <td>4</td>\n",
       "      <td>81</td>\n",
       "      <td>1305</td>\n",
       "      <td>31</td>\n",
       "      <td>2688</td>\n",
       "      <td>2117</td>\n",
       "    </tr>\n",
       "    <tr>\n",
       "      <th>top</th>\n",
       "      <td>Super built-up  Area</td>\n",
       "      <td>Ready To Move</td>\n",
       "      <td>Whitefield</td>\n",
       "      <td>2 BHK</td>\n",
       "      <td>GrrvaGr</td>\n",
       "      <td>1200</td>\n",
       "    </tr>\n",
       "    <tr>\n",
       "      <th>freq</th>\n",
       "      <td>8790</td>\n",
       "      <td>10581</td>\n",
       "      <td>540</td>\n",
       "      <td>5199</td>\n",
       "      <td>80</td>\n",
       "      <td>843</td>\n",
       "    </tr>\n",
       "  </tbody>\n",
       "</table>\n",
       "</div>"
      ],
      "text/plain": [
       "                   area_type   availability    location   size  society  \\\n",
       "count                  13320          13320       13319  13304     7818   \n",
       "unique                     4             81        1305     31     2688   \n",
       "top     Super built-up  Area  Ready To Move  Whitefield  2 BHK  GrrvaGr   \n",
       "freq                    8790          10581         540   5199       80   \n",
       "\n",
       "       total_sqft  \n",
       "count       13320  \n",
       "unique       2117  \n",
       "top          1200  \n",
       "freq          843  "
      ]
     },
     "execution_count": 5,
     "metadata": {},
     "output_type": "execute_result"
    }
   ],
   "source": [
    "# description of the categorical variables \n",
    "df_hs.describe(include=object)"
   ]
  },
  {
   "cell_type": "raw",
   "id": "e2a41a0c",
   "metadata": {},
   "source": [
    "location has null values \n",
    "size has null values \n",
    "society hass null values "
   ]
  },
  {
   "cell_type": "markdown",
   "id": "d80d1122",
   "metadata": {},
   "source": [
    "##### checking for null values "
   ]
  },
  {
   "cell_type": "code",
   "execution_count": 7,
   "id": "98a665ae",
   "metadata": {},
   "outputs": [
    {
     "data": {
      "text/plain": [
       "area_type          0\n",
       "availability       0\n",
       "location           1\n",
       "size              16\n",
       "society         5502\n",
       "total_sqft         0\n",
       "bath              73\n",
       "balcony          609\n",
       "price              0\n",
       "dtype: int64"
      ]
     },
     "execution_count": 7,
     "metadata": {},
     "output_type": "execute_result"
    }
   ],
   "source": [
    "df_hs.isnull().sum()"
   ]
  },
  {
   "cell_type": "markdown",
   "id": "e755b98f",
   "metadata": {},
   "source": [
    "### Plots to understand the uncleaned data"
   ]
  },
  {
   "cell_type": "markdown",
   "id": "199038f9",
   "metadata": {},
   "source": [
    "### univariate analysis"
   ]
  },
  {
   "cell_type": "code",
   "execution_count": 8,
   "id": "1cc76b87",
   "metadata": {},
   "outputs": [],
   "source": [
    "df_num=df_hs.select_dtypes(exclude=object)\n",
    "df_cat=df_hs.select_dtypes(include=object)"
   ]
  },
  {
   "cell_type": "markdown",
   "id": "78863fcc",
   "metadata": {},
   "source": [
    "##### numerical variables"
   ]
  },
  {
   "cell_type": "code",
   "execution_count": 9,
   "id": "28810227",
   "metadata": {
    "scrolled": false
   },
   "outputs": [
    {
     "data": {
      "image/png": "[encoded data removed]",
      "text/plain": [
       "<Figure size 400x800 with 3 Axes>"
      ]
     },
     "metadata": {},
     "output_type": "display_data"
    }
   ],
   "source": [
    "plt.figure(figsize=(4,8))\n",
    "re=1\n",
    "for i in df_num.columns:\n",
    "    plt.subplot(3,1,re)\n",
    "    sns.boxplot(df_hs[i], color='brown')\n",
    "    plt.title(i)\n",
    "    re+=1\n",
    "    \n",
    "plt.tight_layout()\n",
    "plt.show()"
   ]
  },
  {
   "cell_type": "markdown",
   "id": "da05dd85",
   "metadata": {},
   "source": [
    "Bath and price has so many outliers "
   ]
  },
  {
   "cell_type": "markdown",
   "id": "bc844ea4",
   "metadata": {},
   "source": [
    "##### categorical variables"
   ]
  },
  {
   "cell_type": "code",
   "execution_count": 10,
   "id": "f3c32419",
   "metadata": {
    "scrolled": false
   },
   "outputs": [
    {
     "data": {
      "image/png": "[encoded data removed]",
      "text/plain": [
       "<Figure size 1000x600 with 6 Axes>"
      ]
     },
     "metadata": {},
     "output_type": "display_data"
    }
   ],
   "source": [
    "plt.figure(figsize=(10,6))\n",
    "re=1\n",
    "for i in df_cat.columns:\n",
    "    plt.subplot(2,3,re)\n",
    "    sns.boxplot(df_hs[i].value_counts(), color='brown')\n",
    "    plt.title(i)\n",
    "    re+=1\n",
    "    \n",
    "plt.tight_layout()\n",
    "plt.show()"
   ]
  },
  {
   "cell_type": "code",
   "execution_count": null,
   "id": "63d74a50",
   "metadata": {},
   "outputs": [],
   "source": [
    "All the categorical columns has extreme outliers "
   ]
  },
  {
   "cell_type": "markdown",
   "id": "8db0d31d",
   "metadata": {},
   "source": [
    "# Bivariate analysis "
   ]
  },
  {
   "cell_type": "code",
   "execution_count": 11,
   "id": "1ec77a6e",
   "metadata": {
    "scrolled": false
   },
   "outputs": [
    {
     "data": {
      "image/png": "[encoded data removed]",
      "text/plain": [
       "<Figure size 640x480 with 2 Axes>"
      ]
     },
     "metadata": {},
     "output_type": "display_data"
    }
   ],
   "source": [
    "sns.heatmap(df_hs.corr(), annot=True, mask=np.triu(df_hs.corr()))\n",
    "plt.show()"
   ]
  },
  {
   "cell_type": "code",
   "execution_count": null,
   "id": "e637738c",
   "metadata": {},
   "outputs": [],
   "source": [
    "heatmap shows moderate correlation between the numerical variables "
   ]
  },
  {
   "cell_type": "code",
   "execution_count": 12,
   "id": "bb13e7e1",
   "metadata": {
    "scrolled": false
   },
   "outputs": [
    {
     "data": {
      "image/png": "[encoded data removed]",
      "text/plain": [
       "<Figure size 750x750 with 12 Axes>"
      ]
     },
     "metadata": {},
     "output_type": "display_data"
    }
   ],
   "source": [
    "# plotting a pairplot\n",
    "sns.pairplot(df_hs)\n",
    "plt.show()"
   ]
  },
  {
   "cell_type": "markdown",
   "id": "dd0e0f1a",
   "metadata": {},
   "source": [
    "The pairplot doesnot show any direct linear relationship between the variables. "
   ]
  },
  {
   "cell_type": "code",
   "execution_count": null,
   "id": "262c9fe1",
   "metadata": {},
   "outputs": [],
   "source": []
  },
  {
   "cell_type": "code",
   "execution_count": null,
   "id": "4939214c",
   "metadata": {},
   "outputs": [],
   "source": []
  },
  {
   "cell_type": "code",
   "execution_count": null,
   "id": "8d040872",
   "metadata": {},
   "outputs": [],
   "source": []
  },
  {
   "cell_type": "code",
   "execution_count": null,
   "id": "ef44d6de",
   "metadata": {},
   "outputs": [],
   "source": []
  },
  {
   "cell_type": "markdown",
   "id": "7de96486",
   "metadata": {},
   "source": [
    "# PREPROCESSING THE DATA"
   ]
  },
  {
   "cell_type": "markdown",
   "id": "bbff5c91",
   "metadata": {},
   "source": [
    "The given data attributes has to cleaned well. The following steps shows treating each attribute one by one."
   ]
  },
  {
   "cell_type": "markdown",
   "id": "9ca3b94e",
   "metadata": {},
   "source": [
    "# * TREATING COLUMNS "
   ]
  },
  {
   "cell_type": "markdown",
   "id": "6a8fade1",
   "metadata": {},
   "source": [
    "## 1. TREATING THE TOTAL_SQFT COLUMN"
   ]
  },
  {
   "cell_type": "markdown",
   "id": "0f57a7e7",
   "metadata": {},
   "source": [
    "TREATMENTS TO BE DONE:\n",
    "    *The column is given as object but it is actually a numerical attribute. So it has to converted into numerical. \n",
    "    *The column has different units in it. Some are in square feet and some are in acres, square meters etc. everything has to be changed into square feet. \n",
    "    \n",
    "    The following steps will shows the problems with the column i encountered and the changes that i have made. "
   ]
  },
  {
   "cell_type": "code",
   "execution_count": 13,
   "id": "48f1e7ae",
   "metadata": {},
   "outputs": [],
   "source": [
    "df=df_hs  # renamed the data "
   ]
  },
  {
   "cell_type": "code",
   "execution_count": null,
   "id": "136ae809",
   "metadata": {},
   "outputs": [],
   "source": []
  },
  {
   "cell_type": "markdown",
   "id": "8204cb44",
   "metadata": {},
   "source": [
    "#### checking for value_counts"
   ]
  },
  {
   "cell_type": "code",
   "execution_count": 14,
   "id": "04769d3a",
   "metadata": {
    "scrolled": true
   },
   "outputs": [
    {
     "data": {
      "text/plain": [
       "array(['1056', '2600', '1440', ..., '1133 - 1384', '774', '4689'],\n",
       "      dtype=object)"
      ]
     },
     "execution_count": 14,
     "metadata": {},
     "output_type": "execute_result"
    }
   ],
   "source": [
    "# changing the datatype of sqrtfoot. \n",
    "# df_hs['total_sqft']=df_hs['total_sqft'].astype(float) \n",
    "# checking for unique values in total_sqft as  direct convertion didnot worked because some records has given in a range. \n",
    "\n",
    "df['total_sqft'].value_counts()\n",
    "\n",
    "df['total_sqft'].unique()\n"
   ]
  },
  {
   "cell_type": "markdown",
   "id": "9803a9ac",
   "metadata": {},
   "source": [
    "By checking the vakue counts i found that some records are given as in range. so we have to replace that records with its mean value. \n",
    "\n",
    "\n",
    "As the column has range of values for the squarefoot of some houses, iam going to split the attribute and take average of the value and save the average as the total squarefeet. "
   ]
  },
  {
   "cell_type": "raw",
   "id": "92d807d4",
   "metadata": {},
   "source": []
  },
  {
   "cell_type": "markdown",
   "id": "a6e2e56f",
   "metadata": {},
   "source": [
    "#### creating a new dataframe by expanding the column"
   ]
  },
  {
   "cell_type": "code",
   "execution_count": 15,
   "id": "9eb62e80",
   "metadata": {},
   "outputs": [],
   "source": [
    "# expanding the total sqft column and saving as a new dataframe. \n",
    "sqft=df['total_sqft'].str.split(\" - \", expand=True)"
   ]
  },
  {
   "cell_type": "code",
   "execution_count": 16,
   "id": "2b199406",
   "metadata": {
    "scrolled": false
   },
   "outputs": [
    {
     "data": {
      "text/html": [
       "<div>\n",
       "<style scoped>\n",
       "    .dataframe tbody tr th:only-of-type {\n",
       "        vertical-align: middle;\n",
       "    }\n",
       "\n",
       "    .dataframe tbody tr th {\n",
       "        vertical-align: top;\n",
       "    }\n",
       "\n",
       "    .dataframe thead th {\n",
       "        text-align: right;\n",
       "    }\n",
       "</style>\n",
       "<table border=\"1\" class=\"dataframe\">\n",
       "  <thead>\n",
       "    <tr style=\"text-align: right;\">\n",
       "      <th></th>\n",
       "      <th>0</th>\n",
       "      <th>1</th>\n",
       "    </tr>\n",
       "  </thead>\n",
       "  <tbody>\n",
       "    <tr>\n",
       "      <th>0</th>\n",
       "      <td>1056</td>\n",
       "      <td>None</td>\n",
       "    </tr>\n",
       "    <tr>\n",
       "      <th>1</th>\n",
       "      <td>2600</td>\n",
       "      <td>None</td>\n",
       "    </tr>\n",
       "    <tr>\n",
       "      <th>2</th>\n",
       "      <td>1440</td>\n",
       "      <td>None</td>\n",
       "    </tr>\n",
       "    <tr>\n",
       "      <th>3</th>\n",
       "      <td>1521</td>\n",
       "      <td>None</td>\n",
       "    </tr>\n",
       "    <tr>\n",
       "      <th>4</th>\n",
       "      <td>1200</td>\n",
       "      <td>None</td>\n",
       "    </tr>\n",
       "    <tr>\n",
       "      <th>...</th>\n",
       "      <td>...</td>\n",
       "      <td>...</td>\n",
       "    </tr>\n",
       "    <tr>\n",
       "      <th>13315</th>\n",
       "      <td>3453</td>\n",
       "      <td>None</td>\n",
       "    </tr>\n",
       "    <tr>\n",
       "      <th>13316</th>\n",
       "      <td>3600</td>\n",
       "      <td>None</td>\n",
       "    </tr>\n",
       "    <tr>\n",
       "      <th>13317</th>\n",
       "      <td>1141</td>\n",
       "      <td>None</td>\n",
       "    </tr>\n",
       "    <tr>\n",
       "      <th>13318</th>\n",
       "      <td>4689</td>\n",
       "      <td>None</td>\n",
       "    </tr>\n",
       "    <tr>\n",
       "      <th>13319</th>\n",
       "      <td>550</td>\n",
       "      <td>None</td>\n",
       "    </tr>\n",
       "  </tbody>\n",
       "</table>\n",
       "<p>13320 rows × 2 columns</p>\n",
       "</div>"
      ],
      "text/plain": [
       "          0     1\n",
       "0      1056  None\n",
       "1      2600  None\n",
       "2      1440  None\n",
       "3      1521  None\n",
       "4      1200  None\n",
       "...     ...   ...\n",
       "13315  3453  None\n",
       "13316  3600  None\n",
       "13317  1141  None\n",
       "13318  4689  None\n",
       "13319   550  None\n",
       "\n",
       "[13320 rows x 2 columns]"
      ]
     },
     "execution_count": 16,
     "metadata": {},
     "output_type": "execute_result"
    }
   ],
   "source": [
    "# checking how many column has a range of values in the dataframe \n",
    "sqft"
   ]
  },
  {
   "cell_type": "code",
   "execution_count": 17,
   "id": "20d52535",
   "metadata": {},
   "outputs": [],
   "source": [
    "# filling null values with zero. \n",
    "sqft.fillna(0,inplace=True)"
   ]
  },
  {
   "cell_type": "code",
   "execution_count": 18,
   "id": "314bca84",
   "metadata": {
    "scrolled": true
   },
   "outputs": [
    {
     "data": {
      "text/plain": [
       "0    object\n",
       "1    object\n",
       "dtype: object"
      ]
     },
     "execution_count": 18,
     "metadata": {},
     "output_type": "execute_result"
    }
   ],
   "source": [
    "# checking datatype. \n",
    "sqft.dtypes"
   ]
  },
  {
   "cell_type": "markdown",
   "id": "aea06d25",
   "metadata": {},
   "source": [
    "The both columns are in object format. so i tried to convert the first column into numerical in order to perform the arithmetic operation on the columns. \n",
    "\n",
    "                 sqft.iloc[:,0].astype(float)\n",
    "                                      * convertion won't happen bcz we have a value called '34.46Sq. Meter'--- \n",
    "                                      \n",
    "                # concluding there is a possibility to have different units in this columns with texts. \n",
    "                # we have to find those units first and then we have to convert all into sqft \n"
   ]
  },
  {
   "cell_type": "markdown",
   "id": "9db24f65",
   "metadata": {},
   "source": [
    "#### Identifying records with both numerical and alphabetical characters"
   ]
  },
  {
   "cell_type": "code",
   "execution_count": 19,
   "id": "b47d4df2",
   "metadata": {},
   "outputs": [
    {
     "data": {
      "text/html": [
       "<div>\n",
       "<style scoped>\n",
       "    .dataframe tbody tr th:only-of-type {\n",
       "        vertical-align: middle;\n",
       "    }\n",
       "\n",
       "    .dataframe tbody tr th {\n",
       "        vertical-align: top;\n",
       "    }\n",
       "\n",
       "    .dataframe thead th {\n",
       "        text-align: right;\n",
       "    }\n",
       "</style>\n",
       "<table border=\"1\" class=\"dataframe\">\n",
       "  <thead>\n",
       "    <tr style=\"text-align: right;\">\n",
       "      <th></th>\n",
       "      <th>0</th>\n",
       "      <th>1</th>\n",
       "    </tr>\n",
       "  </thead>\n",
       "  <tbody>\n",
       "    <tr>\n",
       "      <th>410</th>\n",
       "      <td>34.46Sq. Meter</td>\n",
       "      <td>0</td>\n",
       "    </tr>\n",
       "    <tr>\n",
       "      <th>648</th>\n",
       "      <td>4125Perch</td>\n",
       "      <td>0</td>\n",
       "    </tr>\n",
       "    <tr>\n",
       "      <th>775</th>\n",
       "      <td>1000Sq. Meter</td>\n",
       "      <td>0</td>\n",
       "    </tr>\n",
       "    <tr>\n",
       "      <th>872</th>\n",
       "      <td>1100Sq. Yards</td>\n",
       "      <td>0</td>\n",
       "    </tr>\n",
       "    <tr>\n",
       "      <th>1019</th>\n",
       "      <td>5.31Acres</td>\n",
       "      <td>0</td>\n",
       "    </tr>\n",
       "    <tr>\n",
       "      <th>1086</th>\n",
       "      <td>30Acres</td>\n",
       "      <td>0</td>\n",
       "    </tr>\n",
       "    <tr>\n",
       "      <th>1400</th>\n",
       "      <td>716Sq. Meter</td>\n",
       "      <td>0</td>\n",
       "    </tr>\n",
       "    <tr>\n",
       "      <th>1712</th>\n",
       "      <td>1500Sq. Meter</td>\n",
       "      <td>0</td>\n",
       "    </tr>\n",
       "    <tr>\n",
       "      <th>1743</th>\n",
       "      <td>142.61Sq. Meter</td>\n",
       "      <td>0</td>\n",
       "    </tr>\n",
       "    <tr>\n",
       "      <th>1821</th>\n",
       "      <td>1574Sq. Yards</td>\n",
       "      <td>0</td>\n",
       "    </tr>\n",
       "    <tr>\n",
       "      <th>2310</th>\n",
       "      <td>361.33Sq. Yards</td>\n",
       "      <td>0</td>\n",
       "    </tr>\n",
       "    <tr>\n",
       "      <th>2881</th>\n",
       "      <td>117Sq. Yards</td>\n",
       "      <td>0</td>\n",
       "    </tr>\n",
       "    <tr>\n",
       "      <th>3228</th>\n",
       "      <td>3040Sq. Meter</td>\n",
       "      <td>0</td>\n",
       "    </tr>\n",
       "    <tr>\n",
       "      <th>3285</th>\n",
       "      <td>500Sq. Yards</td>\n",
       "      <td>0</td>\n",
       "    </tr>\n",
       "    <tr>\n",
       "      <th>4113</th>\n",
       "      <td>167Sq. Meter</td>\n",
       "      <td>0</td>\n",
       "    </tr>\n",
       "    <tr>\n",
       "      <th>4293</th>\n",
       "      <td>315Sq. Yards</td>\n",
       "      <td>0</td>\n",
       "    </tr>\n",
       "    <tr>\n",
       "      <th>5453</th>\n",
       "      <td>3Cents</td>\n",
       "      <td>0</td>\n",
       "    </tr>\n",
       "    <tr>\n",
       "      <th>5537</th>\n",
       "      <td>188.89Sq. Yards</td>\n",
       "      <td>0</td>\n",
       "    </tr>\n",
       "    <tr>\n",
       "      <th>5631</th>\n",
       "      <td>204Sq. Meter</td>\n",
       "      <td>0</td>\n",
       "    </tr>\n",
       "    <tr>\n",
       "      <th>5668</th>\n",
       "      <td>45Sq. Yards</td>\n",
       "      <td>0</td>\n",
       "    </tr>\n",
       "    <tr>\n",
       "      <th>5708</th>\n",
       "      <td>133.3Sq. Yards</td>\n",
       "      <td>0</td>\n",
       "    </tr>\n",
       "    <tr>\n",
       "      <th>5976</th>\n",
       "      <td>78.03Sq. Meter</td>\n",
       "      <td>0</td>\n",
       "    </tr>\n",
       "    <tr>\n",
       "      <th>6268</th>\n",
       "      <td>122Sq. Yards</td>\n",
       "      <td>0</td>\n",
       "    </tr>\n",
       "    <tr>\n",
       "      <th>6303</th>\n",
       "      <td>84.53Sq. Meter</td>\n",
       "      <td>0</td>\n",
       "    </tr>\n",
       "    <tr>\n",
       "      <th>6333</th>\n",
       "      <td>2.09Acres</td>\n",
       "      <td>0</td>\n",
       "    </tr>\n",
       "    <tr>\n",
       "      <th>6552</th>\n",
       "      <td>24Guntha</td>\n",
       "      <td>0</td>\n",
       "    </tr>\n",
       "    <tr>\n",
       "      <th>6592</th>\n",
       "      <td>697Sq. Meter</td>\n",
       "      <td>0</td>\n",
       "    </tr>\n",
       "    <tr>\n",
       "      <th>6953</th>\n",
       "      <td>142.61Sq. Meter</td>\n",
       "      <td>0</td>\n",
       "    </tr>\n",
       "    <tr>\n",
       "      <th>7001</th>\n",
       "      <td>1500Cents</td>\n",
       "      <td>0</td>\n",
       "    </tr>\n",
       "    <tr>\n",
       "      <th>7248</th>\n",
       "      <td>132Sq. Yards</td>\n",
       "      <td>0</td>\n",
       "    </tr>\n",
       "    <tr>\n",
       "      <th>7334</th>\n",
       "      <td>2Acres</td>\n",
       "      <td>0</td>\n",
       "    </tr>\n",
       "    <tr>\n",
       "      <th>7520</th>\n",
       "      <td>1100Sq. Meter</td>\n",
       "      <td>0</td>\n",
       "    </tr>\n",
       "    <tr>\n",
       "      <th>7607</th>\n",
       "      <td>15Acres</td>\n",
       "      <td>0</td>\n",
       "    </tr>\n",
       "    <tr>\n",
       "      <th>7726</th>\n",
       "      <td>1.26Acres</td>\n",
       "      <td>0</td>\n",
       "    </tr>\n",
       "    <tr>\n",
       "      <th>8273</th>\n",
       "      <td>151.11Sq. Yards</td>\n",
       "      <td>0</td>\n",
       "    </tr>\n",
       "    <tr>\n",
       "      <th>9423</th>\n",
       "      <td>1Grounds</td>\n",
       "      <td>0</td>\n",
       "    </tr>\n",
       "    <tr>\n",
       "      <th>9519</th>\n",
       "      <td>2940Sq. Yards</td>\n",
       "      <td>0</td>\n",
       "    </tr>\n",
       "    <tr>\n",
       "      <th>9734</th>\n",
       "      <td>45.06Sq. Meter</td>\n",
       "      <td>0</td>\n",
       "    </tr>\n",
       "    <tr>\n",
       "      <th>10488</th>\n",
       "      <td>1.25Acres</td>\n",
       "      <td>0</td>\n",
       "    </tr>\n",
       "    <tr>\n",
       "      <th>10491</th>\n",
       "      <td>86.72Sq. Meter</td>\n",
       "      <td>0</td>\n",
       "    </tr>\n",
       "    <tr>\n",
       "      <th>11320</th>\n",
       "      <td>38Guntha</td>\n",
       "      <td>0</td>\n",
       "    </tr>\n",
       "    <tr>\n",
       "      <th>11615</th>\n",
       "      <td>6Acres</td>\n",
       "      <td>0</td>\n",
       "    </tr>\n",
       "    <tr>\n",
       "      <th>12186</th>\n",
       "      <td>120Sq. Yards</td>\n",
       "      <td>0</td>\n",
       "    </tr>\n",
       "    <tr>\n",
       "      <th>12252</th>\n",
       "      <td>24Sq. Meter</td>\n",
       "      <td>0</td>\n",
       "    </tr>\n",
       "    <tr>\n",
       "      <th>12560</th>\n",
       "      <td>142.84Sq. Meter</td>\n",
       "      <td>0</td>\n",
       "    </tr>\n",
       "    <tr>\n",
       "      <th>12652</th>\n",
       "      <td>300Sq. Yards</td>\n",
       "      <td>0</td>\n",
       "    </tr>\n",
       "  </tbody>\n",
       "</table>\n",
       "</div>"
      ],
      "text/plain": [
       "                     0  1\n",
       "410     34.46Sq. Meter  0\n",
       "648          4125Perch  0\n",
       "775      1000Sq. Meter  0\n",
       "872      1100Sq. Yards  0\n",
       "1019         5.31Acres  0\n",
       "1086           30Acres  0\n",
       "1400      716Sq. Meter  0\n",
       "1712     1500Sq. Meter  0\n",
       "1743   142.61Sq. Meter  0\n",
       "1821     1574Sq. Yards  0\n",
       "2310   361.33Sq. Yards  0\n",
       "2881      117Sq. Yards  0\n",
       "3228     3040Sq. Meter  0\n",
       "3285      500Sq. Yards  0\n",
       "4113      167Sq. Meter  0\n",
       "4293      315Sq. Yards  0\n",
       "5453            3Cents  0\n",
       "5537   188.89Sq. Yards  0\n",
       "5631      204Sq. Meter  0\n",
       "5668       45Sq. Yards  0\n",
       "5708    133.3Sq. Yards  0\n",
       "5976    78.03Sq. Meter  0\n",
       "6268      122Sq. Yards  0\n",
       "6303    84.53Sq. Meter  0\n",
       "6333         2.09Acres  0\n",
       "6552          24Guntha  0\n",
       "6592      697Sq. Meter  0\n",
       "6953   142.61Sq. Meter  0\n",
       "7001         1500Cents  0\n",
       "7248      132Sq. Yards  0\n",
       "7334            2Acres  0\n",
       "7520     1100Sq. Meter  0\n",
       "7607           15Acres  0\n",
       "7726         1.26Acres  0\n",
       "8273   151.11Sq. Yards  0\n",
       "9423          1Grounds  0\n",
       "9519     2940Sq. Yards  0\n",
       "9734    45.06Sq. Meter  0\n",
       "10488        1.25Acres  0\n",
       "10491   86.72Sq. Meter  0\n",
       "11320         38Guntha  0\n",
       "11615           6Acres  0\n",
       "12186     120Sq. Yards  0\n",
       "12252      24Sq. Meter  0\n",
       "12560  142.84Sq. Meter  0\n",
       "12652     300Sq. Yards  0"
      ]
     },
     "execution_count": 19,
     "metadata": {},
     "output_type": "execute_result"
    }
   ],
   "source": [
    "# Identify records with both numerical and alphabetical characters\n",
    "records_with_units = sqft[sqft.iloc[:,0].apply(lambda x: any(c.isalpha() for c in x)\\\n",
    "                                                       and any(c.isdigit() for c in x))]\n",
    "\n",
    "records_with_units"
   ]
  },
  {
   "cell_type": "markdown",
   "id": "3807b6ef",
   "metadata": {},
   "source": [
    "So we have text units along with umericals in the first column. The text data present in these column are:\n",
    "            1. Sq. Meter\n",
    "            2.Perch\t\n",
    "            3.Sq. Yards\n",
    "            4.Acres\n",
    "            5.Cents\t\n",
    "            6.Guntha\t\n",
    "            7.Grounds\t\n",
    "            \n",
    "            \n",
    "iam going to use regular expressions to get the numberic values and then iam converting it into squarefeet. \n",
    "For that let me define a function which can convert all the numerical values . "
   ]
  },
  {
   "cell_type": "code",
   "execution_count": 21,
   "id": "667e40d1",
   "metadata": {},
   "outputs": [],
   "source": [
    "import re"
   ]
  },
  {
   "cell_type": "markdown",
   "id": "8f6527b6",
   "metadata": {},
   "source": [
    "#### converting all records in 1 column of sqft into sqft using a defined function"
   ]
  },
  {
   "cell_type": "code",
   "execution_count": 22,
   "id": "fd2408bf",
   "metadata": {},
   "outputs": [],
   "source": [
    "def convert_to_sqft(value):\n",
    "    # Check if the value contains 'Sq. Meter' or 'Sq. Mtr'\n",
    "    if re.search(r'Sq\\. Meter|Sq\\. Mtr', value):\n",
    "        # Extract numeric part and convert to float\n",
    "        numeric_value = float(re.findall(r'\\d+\\.\\d+|\\d+', value)[0])\n",
    "        # Convert square meters to square feet (1 sq.mtr = 10.7639 sq.ft)\n",
    "        sqft_value = numeric_value * 10.7639\n",
    "        return sqft_value\n",
    "    elif re.search(r'Perch', value):\n",
    "        numeric_value = float(re.findall(r'\\d+\\.\\d+|\\d+', value)[0])  \n",
    "        sqft_value = numeric_value * 272.25   # 1 Perch = 272.25 Sq. Feet\n",
    "        return sqft_value\n",
    "    elif re.search(r'Sq. Yards', value):\n",
    "        numeric_value = float(re.findall(r'\\d+\\.\\d+|\\d+', value)[0])  \n",
    "        sqft_value = numeric_value * 9      # 1 Sq. Yard = 9 Sq. Feet\n",
    "        return sqft_value\n",
    "    elif re.search(r'Acres', value):\n",
    "        numeric_value = float(re.findall(r'\\d+\\.\\d+|\\d+', value)[0])  \n",
    "        sqft_value = numeric_value * 43560      # 1 Acre = 43560 Sq. Feet\n",
    "        return sqft_value\n",
    "    elif re.search(r'Cents', value):\n",
    "        numeric_value = float(re.findall(r'\\d+\\.\\d+|\\d+', value)[0])  \n",
    "        sqft_value = numeric_value *  435.6       # 1 Cent = 435.6 Sq. Feet\n",
    "        return sqft_value\n",
    "    elif re.search(r'Guntha', value):\n",
    "        numeric_value = float(re.findall(r'\\d+\\.\\d+|\\d+', value)[0])  \n",
    "        sqft_value = numeric_value *  435.6       # 1 Cent = 435.6 Sq. Feet\n",
    "        return sqft_value\n",
    "    elif re.search(r'Grounds', value):\n",
    "        numeric_value = float(re.findall(r'\\d+\\.\\d+|\\d+', value)[0])  \n",
    "        sqft_value = numeric_value *  2400                # 1 Ground = 2400 Sq. Feet\n",
    "        return sqft_value\n",
    "    else:\n",
    "        # For values in square feet, keep them as they are\n",
    "        return float(re.findall(r'\\d+\\.\\d+|\\d+', value)[0])\n"
   ]
  },
  {
   "cell_type": "code",
   "execution_count": 23,
   "id": "4091f268",
   "metadata": {},
   "outputs": [],
   "source": [
    "# applying the function to the first column of sqft and storing it as area \n",
    "sqft['area'] = sqft.iloc[:,0].apply(convert_to_sqft)\n",
    "\n",
    "# succesfully converted all records units into sqft. "
   ]
  },
  {
   "cell_type": "code",
   "execution_count": 24,
   "id": "db341b88",
   "metadata": {},
   "outputs": [
    {
     "data": {
      "text/html": [
       "<div>\n",
       "<style scoped>\n",
       "    .dataframe tbody tr th:only-of-type {\n",
       "        vertical-align: middle;\n",
       "    }\n",
       "\n",
       "    .dataframe tbody tr th {\n",
       "        vertical-align: top;\n",
       "    }\n",
       "\n",
       "    .dataframe thead th {\n",
       "        text-align: right;\n",
       "    }\n",
       "</style>\n",
       "<table border=\"1\" class=\"dataframe\">\n",
       "  <thead>\n",
       "    <tr style=\"text-align: right;\">\n",
       "      <th></th>\n",
       "      <th>0</th>\n",
       "      <th>1</th>\n",
       "      <th>area</th>\n",
       "    </tr>\n",
       "  </thead>\n",
       "  <tbody>\n",
       "    <tr>\n",
       "      <th>0</th>\n",
       "      <td>1056</td>\n",
       "      <td>0</td>\n",
       "      <td>1056.0</td>\n",
       "    </tr>\n",
       "    <tr>\n",
       "      <th>1</th>\n",
       "      <td>2600</td>\n",
       "      <td>0</td>\n",
       "      <td>2600.0</td>\n",
       "    </tr>\n",
       "    <tr>\n",
       "      <th>2</th>\n",
       "      <td>1440</td>\n",
       "      <td>0</td>\n",
       "      <td>1440.0</td>\n",
       "    </tr>\n",
       "    <tr>\n",
       "      <th>3</th>\n",
       "      <td>1521</td>\n",
       "      <td>0</td>\n",
       "      <td>1521.0</td>\n",
       "    </tr>\n",
       "    <tr>\n",
       "      <th>4</th>\n",
       "      <td>1200</td>\n",
       "      <td>0</td>\n",
       "      <td>1200.0</td>\n",
       "    </tr>\n",
       "  </tbody>\n",
       "</table>\n",
       "</div>"
      ],
      "text/plain": [
       "      0  1    area\n",
       "0  1056  0  1056.0\n",
       "1  2600  0  2600.0\n",
       "2  1440  0  1440.0\n",
       "3  1521  0  1521.0\n",
       "4  1200  0  1200.0"
      ]
     },
     "execution_count": 24,
     "metadata": {},
     "output_type": "execute_result"
    }
   ],
   "source": [
    "sqft.head()"
   ]
  },
  {
   "cell_type": "markdown",
   "id": "5ac85738",
   "metadata": {},
   "source": [
    "##### converting the second column into float"
   ]
  },
  {
   "cell_type": "code",
   "execution_count": 25,
   "id": "45e13937",
   "metadata": {},
   "outputs": [],
   "source": [
    "sqft.iloc[:,1]=sqft.iloc[:,1].astype(float)"
   ]
  },
  {
   "cell_type": "code",
   "execution_count": 26,
   "id": "6dea6903",
   "metadata": {
    "scrolled": true
   },
   "outputs": [
    {
     "data": {
      "text/plain": [
       "0        object\n",
       "1       float64\n",
       "area    float64\n",
       "dtype: object"
      ]
     },
     "execution_count": 26,
     "metadata": {},
     "output_type": "execute_result"
    }
   ],
   "source": [
    "sqft.dtypes"
   ]
  },
  {
   "cell_type": "markdown",
   "id": "d388f3e7",
   "metadata": {},
   "source": [
    "#### coverting the total_sqft  column in df by taking average of column 2 and 3 in sqft. "
   ]
  },
  {
   "cell_type": "code",
   "execution_count": 27,
   "id": "aa3b5fbd",
   "metadata": {},
   "outputs": [],
   "source": [
    "df['total_sqft']=(sqft.iloc[:,1]+sqft.iloc[:,2])/2"
   ]
  },
  {
   "cell_type": "code",
   "execution_count": 28,
   "id": "a689e7f8",
   "metadata": {},
   "outputs": [
    {
     "name": "stdout",
     "output_type": "stream",
     "text": [
      "<class 'pandas.core.frame.DataFrame'>\n",
      "RangeIndex: 13320 entries, 0 to 13319\n",
      "Data columns (total 9 columns):\n",
      " #   Column        Non-Null Count  Dtype  \n",
      "---  ------        --------------  -----  \n",
      " 0   area_type     13320 non-null  object \n",
      " 1   availability  13320 non-null  object \n",
      " 2   location      13319 non-null  object \n",
      " 3   size          13304 non-null  object \n",
      " 4   society       7818 non-null   object \n",
      " 5   total_sqft    13320 non-null  float64\n",
      " 6   bath          13247 non-null  float64\n",
      " 7   balcony       12711 non-null  float64\n",
      " 8   price         13320 non-null  float64\n",
      "dtypes: float64(4), object(5)\n",
      "memory usage: 936.7+ KB\n"
     ]
    }
   ],
   "source": [
    "df.info()"
   ]
  },
  {
   "cell_type": "markdown",
   "id": "397724b4",
   "metadata": {},
   "source": [
    "successfully converted the column squarefeet into float. "
   ]
  },
  {
   "cell_type": "markdown",
   "id": "ac8ccdd3",
   "metadata": {},
   "source": [
    "## 2. TREATING THE SIZE COLUMN"
   ]
  },
  {
   "cell_type": "code",
   "execution_count": 29,
   "id": "c98aefdf",
   "metadata": {
    "scrolled": true
   },
   "outputs": [
    {
     "data": {
      "text/plain": [
       "array(['2 BHK', '4 Bedroom', '3 BHK', '4 BHK', '6 Bedroom', '3 Bedroom',\n",
       "       '1 BHK', '1 RK', '1 Bedroom', '8 Bedroom', '2 Bedroom',\n",
       "       '7 Bedroom', '5 BHK', '7 BHK', '6 BHK', '5 Bedroom', '11 BHK',\n",
       "       '9 BHK', nan, '9 Bedroom', '27 BHK', '10 Bedroom', '11 Bedroom',\n",
       "       '10 BHK', '19 BHK', '16 BHK', '43 Bedroom', '14 BHK', '8 BHK',\n",
       "       '12 Bedroom', '13 BHK', '18 Bedroom'], dtype=object)"
      ]
     },
     "execution_count": 29,
     "metadata": {},
     "output_type": "execute_result"
    }
   ],
   "source": [
    "# checking for unique values \n",
    "df['size'].unique()"
   ]
  },
  {
   "cell_type": "code",
   "execution_count": 30,
   "id": "78da3b74",
   "metadata": {},
   "outputs": [
    {
     "data": {
      "text/plain": [
       "2 BHK         5199\n",
       "3 BHK         4310\n",
       "4 Bedroom      826\n",
       "4 BHK          591\n",
       "3 Bedroom      547\n",
       "1 BHK          538\n",
       "2 Bedroom      329\n",
       "5 Bedroom      297\n",
       "6 Bedroom      191\n",
       "1 Bedroom      105\n",
       "8 Bedroom       84\n",
       "7 Bedroom       83\n",
       "5 BHK           59\n",
       "9 Bedroom       46\n",
       "6 BHK           30\n",
       "7 BHK           17\n",
       "1 RK            13\n",
       "10 Bedroom      12\n",
       "9 BHK            8\n",
       "8 BHK            5\n",
       "11 BHK           2\n",
       "11 Bedroom       2\n",
       "10 BHK           2\n",
       "14 BHK           1\n",
       "13 BHK           1\n",
       "12 Bedroom       1\n",
       "27 BHK           1\n",
       "43 Bedroom       1\n",
       "16 BHK           1\n",
       "19 BHK           1\n",
       "18 Bedroom       1\n",
       "Name: size, dtype: int64"
      ]
     },
     "execution_count": 30,
     "metadata": {},
     "output_type": "execute_result"
    }
   ],
   "source": [
    "# checking for value counts \n",
    "df['size'].value_counts()"
   ]
  },
  {
   "cell_type": "markdown",
   "id": "f459243a",
   "metadata": {},
   "source": [
    "The data has 3 bedroom, and 3bhk houses which are actually same. both has 3 bedrooms. so iam going to drop the bhk and bedrrom from the column to keep the column having numericals only. (not changing dtype of the column)"
   ]
  },
  {
   "cell_type": "code",
   "execution_count": 31,
   "id": "d4664966",
   "metadata": {
    "scrolled": true
   },
   "outputs": [],
   "source": [
    "# creating a new column called bhk -- meaning no of bed rooms in the house. \n",
    "df['BHK']=df['size'].str.split(' ', expand=True)[0]"
   ]
  },
  {
   "cell_type": "code",
   "execution_count": 32,
   "id": "643d5676",
   "metadata": {},
   "outputs": [
    {
     "data": {
      "text/plain": [
       "2     5528\n",
       "3     4857\n",
       "4     1417\n",
       "1      656\n",
       "5      356\n",
       "6      221\n",
       "7      100\n",
       "8       89\n",
       "9       54\n",
       "10      14\n",
       "11       4\n",
       "27       1\n",
       "19       1\n",
       "16       1\n",
       "43       1\n",
       "14       1\n",
       "12       1\n",
       "13       1\n",
       "18       1\n",
       "Name: BHK, dtype: int64"
      ]
     },
     "execution_count": 32,
     "metadata": {},
     "output_type": "execute_result"
    }
   ],
   "source": [
    "df['BHK'].value_counts()"
   ]
  },
  {
   "cell_type": "markdown",
   "id": "907da737",
   "metadata": {},
   "source": [
    "The new column clearly shows that when the bedrOoms are higher then 10 it act as an outlier in the column."
   ]
  },
  {
   "cell_type": "code",
   "execution_count": 33,
   "id": "5bd93084",
   "metadata": {},
   "outputs": [],
   "source": [
    "# Drop size column, not needed anymore. \n",
    "df.drop('size', axis=1, inplace=True)"
   ]
  },
  {
   "cell_type": "code",
   "execution_count": 34,
   "id": "a3678fdb",
   "metadata": {},
   "outputs": [],
   "source": [
    "# value counts of all BHK with 10 or more are below 10. so these records in df can be replaced  with morethan10 \n",
    "value_counts=df['BHK'].value_counts()\n",
    "values_to_replace = value_counts[value_counts<10].index.tolist()\n",
    "df['BHK'] = df['BHK'].replace(values_to_replace, 'morethan10')"
   ]
  },
  {
   "cell_type": "code",
   "execution_count": 35,
   "id": "7b2a63ff",
   "metadata": {},
   "outputs": [],
   "source": [
    "# value counts of all BHK between 7 and 10 are between 10 and 100. so these records in df can be replaced  with 7 to 10. \n",
    "\n",
    "values_to_replace = value_counts[(value_counts>=10 ) & (value_counts<=100) ].index.tolist()\n",
    "df['BHK'] = df['BHK'].replace(values_to_replace, '7 to 10 ')\n"
   ]
  },
  {
   "cell_type": "code",
   "execution_count": 36,
   "id": "dc545f2f",
   "metadata": {},
   "outputs": [],
   "source": [
    "# value counts of all BHK between '5 or 6 ' are between 100 and 400. so these records in df can be replaced  with 5 or 6 \n",
    "\n",
    "values_to_replace = value_counts[(value_counts>100 ) & (value_counts<400) ].index.tolist()\n",
    "df['BHK'] = df['BHK'].replace(values_to_replace, '5 or 6 ')"
   ]
  },
  {
   "cell_type": "code",
   "execution_count": 37,
   "id": "73b078eb",
   "metadata": {
    "scrolled": true
   },
   "outputs": [
    {
     "data": {
      "text/plain": [
       "2             5528\n",
       "3             4857\n",
       "4             1417\n",
       "1              656\n",
       "5 or 6         577\n",
       "7 to 10        257\n",
       "morethan10      12\n",
       "Name: BHK, dtype: int64"
      ]
     },
     "execution_count": 37,
     "metadata": {},
     "output_type": "execute_result"
    }
   ],
   "source": [
    "#checking for value counts again \n",
    "df['BHK'].value_counts()\n"
   ]
  },
  {
   "cell_type": "code",
   "execution_count": null,
   "id": "9669adc8",
   "metadata": {},
   "outputs": [],
   "source": []
  },
  {
   "cell_type": "markdown",
   "id": "4fd48219",
   "metadata": {},
   "source": [
    "## 3. TREATING THE AVAILABILTY COLUMN"
   ]
  },
  {
   "cell_type": "code",
   "execution_count": 38,
   "id": "16f58f3b",
   "metadata": {},
   "outputs": [
    {
     "data": {
      "text/plain": [
       "Ready To Move    10581\n",
       "18-Dec             307\n",
       "18-May             295\n",
       "18-Apr             271\n",
       "18-Aug             200\n",
       "                 ...  \n",
       "15-Aug               1\n",
       "17-Jan               1\n",
       "16-Nov               1\n",
       "16-Jan               1\n",
       "14-Jul               1\n",
       "Name: availability, Length: 81, dtype: int64"
      ]
     },
     "execution_count": 38,
     "metadata": {},
     "output_type": "execute_result"
    }
   ],
   "source": [
    "df['availability'].value_counts()"
   ]
  },
  {
   "cell_type": "code",
   "execution_count": 39,
   "id": "ab7864dd",
   "metadata": {},
   "outputs": [
    {
     "data": {
      "text/plain": [
       "array(['19-Dec', 'Ready To Move', '18-May', '18-Feb', '18-Nov', '20-Dec',\n",
       "       '17-Oct', '21-Dec', '19-Sep', '20-Sep', '18-Mar', '20-Feb',\n",
       "       '18-Apr', '20-Aug', '18-Oct', '19-Mar', '17-Sep', '18-Dec',\n",
       "       '17-Aug', '19-Apr', '18-Jun', '22-Dec', '22-Jan', '18-Aug',\n",
       "       '19-Jan', '17-Jul', '18-Jul', '21-Jun', '20-May', '19-Aug',\n",
       "       '18-Sep', '17-May', '17-Jun', '21-May', '18-Jan', '20-Mar',\n",
       "       '17-Dec', '16-Mar', '19-Jun', '22-Jun', '19-Jul', '21-Feb',\n",
       "       'Immediate Possession', '19-May', '17-Nov', '20-Oct', '20-Jun',\n",
       "       '19-Feb', '21-Oct', '21-Jan', '17-Mar', '17-Apr', '22-May',\n",
       "       '19-Oct', '21-Jul', '21-Nov', '21-Mar', '16-Dec', '22-Mar',\n",
       "       '20-Jan', '21-Sep', '21-Aug', '14-Nov', '19-Nov', '15-Nov',\n",
       "       '16-Jul', '15-Jun', '17-Feb', '20-Nov', '20-Jul', '16-Sep',\n",
       "       '15-Oct', '15-Dec', '16-Oct', '22-Nov', '15-Aug', '17-Jan',\n",
       "       '16-Nov', '20-Apr', '16-Jan', '14-Jul'], dtype=object)"
      ]
     },
     "execution_count": 39,
     "metadata": {},
     "output_type": "execute_result"
    }
   ],
   "source": [
    "df['availability'].unique()"
   ]
  },
  {
   "cell_type": "markdown",
   "id": "005118c4",
   "metadata": {},
   "source": [
    "Here we have more than 10000 properties which are ready to move and others specifies a date to move in. \n",
    "\n",
    "so iam going to replace all dates availability with upcoming to reduce the categories. "
   ]
  },
  {
   "cell_type": "code",
   "execution_count": 40,
   "id": "bdba3c98",
   "metadata": {
    "scrolled": false
   },
   "outputs": [],
   "source": [
    "# replacing all dated records with upcoming \n",
    "df['dates'] = np.where(~df['availability'].isin(['Ready To Move', 'Immediate Possession']), 'upcoming', df['availability'])"
   ]
  },
  {
   "cell_type": "code",
   "execution_count": 41,
   "id": "9ae72884",
   "metadata": {},
   "outputs": [],
   "source": [
    "# dropping the original\n",
    "df.drop('availability', axis=1, inplace=True)"
   ]
  },
  {
   "cell_type": "code",
   "execution_count": 42,
   "id": "4414b182",
   "metadata": {
    "scrolled": false
   },
   "outputs": [
    {
     "data": {
      "text/plain": [
       "Ready To Move           10581\n",
       "upcoming                 2723\n",
       "Immediate Possession       16\n",
       "Name: dates, dtype: int64"
      ]
     },
     "execution_count": 42,
     "metadata": {},
     "output_type": "execute_result"
    }
   ],
   "source": [
    "# recheking the valuecounts\n",
    "df['dates'].value_counts()"
   ]
  },
  {
   "cell_type": "code",
   "execution_count": null,
   "id": "85eed6a3",
   "metadata": {},
   "outputs": [],
   "source": []
  },
  {
   "cell_type": "markdown",
   "id": "b84b4fa6",
   "metadata": {},
   "source": [
    "## 4. TREATING LOCATION COLUMN"
   ]
  },
  {
   "cell_type": "code",
   "execution_count": 43,
   "id": "0d5cce07",
   "metadata": {},
   "outputs": [
    {
     "data": {
      "text/plain": [
       "Whitefield                        540\n",
       "Sarjapur  Road                    399\n",
       "Electronic City                   302\n",
       "Kanakpura Road                    273\n",
       "Thanisandra                       234\n",
       "                                 ... \n",
       "Bapuji Layout                       1\n",
       "1st Stage Radha Krishna Layout      1\n",
       "BEML Layout 5th stage               1\n",
       "singapura paradise                  1\n",
       "Abshot Layout                       1\n",
       "Name: location, Length: 1305, dtype: int64"
      ]
     },
     "execution_count": 43,
     "metadata": {},
     "output_type": "execute_result"
    }
   ],
   "source": [
    "# checking for value counts \n",
    "value_counts=df['location'].value_counts()\n",
    "value_counts"
   ]
  },
  {
   "cell_type": "markdown",
   "id": "8d5a1fb0",
   "metadata": {},
   "source": [
    "Here iam going to change the location name into others if the location is not repeated atleast 100."
   ]
  },
  {
   "cell_type": "code",
   "execution_count": 44,
   "id": "671f73f5",
   "metadata": {},
   "outputs": [],
   "source": [
    "# Identify values occurring less than 100 and replace it with other\n",
    "values_to_replace = value_counts[value_counts <=100].index.tolist()\n",
    "\n",
    "df['location'] = df['location'].replace(values_to_replace, 'Other')\n"
   ]
  },
  {
   "cell_type": "code",
   "execution_count": 45,
   "id": "034121f5",
   "metadata": {
    "scrolled": false
   },
   "outputs": [
    {
     "data": {
      "text/plain": [
       "Other                       9815\n",
       "Whitefield                   540\n",
       "Sarjapur  Road               399\n",
       "Electronic City              302\n",
       "Kanakpura Road               273\n",
       "Thanisandra                  234\n",
       "Yelahanka                    213\n",
       "Uttarahalli                  186\n",
       "Hebbal                       177\n",
       "Marathahalli                 175\n",
       "Raja Rajeshwari Nagar        171\n",
       "Hennur Road                  152\n",
       "Bannerghatta Road            152\n",
       "7th Phase JP Nagar           149\n",
       "Haralur Road                 142\n",
       "Electronic City Phase II     132\n",
       "Rajaji Nagar                 107\n",
       "Name: location, dtype: int64"
      ]
     },
     "execution_count": 45,
     "metadata": {},
     "output_type": "execute_result"
    }
   ],
   "source": [
    "# recheking value_counts\n",
    "df['location'].value_counts()"
   ]
  },
  {
   "cell_type": "markdown",
   "id": "08f323d3",
   "metadata": {},
   "source": [
    "## 5. TREATING SOCIETY COLUMN"
   ]
  },
  {
   "cell_type": "markdown",
   "id": "2ce3af6a",
   "metadata": {},
   "source": [
    "Society has a number of names only repeating once. iam going to keep only the names repeated atleast 50 times. renaming all other into other category"
   ]
  },
  {
   "cell_type": "code",
   "execution_count": 46,
   "id": "39df5cea",
   "metadata": {},
   "outputs": [],
   "source": [
    "#taking value counts, if value counts less than 50 replace the recors with other\n",
    "value_counts=df['society'].value_counts()\n",
    "values_to_replace = value_counts[value_counts <=50].index.tolist()\n",
    "df['society'] = df['society'].replace(values_to_replace, 'Other')"
   ]
  },
  {
   "cell_type": "code",
   "execution_count": 47,
   "id": "d382f708",
   "metadata": {},
   "outputs": [
    {
     "data": {
      "text/plain": [
       "Other      7386\n",
       "GrrvaGr      80\n",
       "PrarePa      76\n",
       "Sryalan      59\n",
       "Prtates      59\n",
       "GMown E      56\n",
       "Bhmesy       51\n",
       "Prtanha      51\n",
       "Name: society, dtype: int64"
      ]
     },
     "execution_count": 47,
     "metadata": {},
     "output_type": "execute_result"
    }
   ],
   "source": [
    "# recheking the value counts\n",
    "df['society'].value_counts()"
   ]
  },
  {
   "cell_type": "markdown",
   "id": "fcd8e6c7",
   "metadata": {},
   "source": [
    "# * TREATING MISSING VALUES "
   ]
  },
  {
   "cell_type": "code",
   "execution_count": 48,
   "id": "5c27c1a6",
   "metadata": {},
   "outputs": [
    {
     "data": {
      "text/plain": [
       "area_type        0\n",
       "location         1\n",
       "society       5502\n",
       "total_sqft       0\n",
       "bath            73\n",
       "balcony        609\n",
       "price            0\n",
       "BHK             16\n",
       "dates            0\n",
       "dtype: int64"
      ]
     },
     "execution_count": 48,
     "metadata": {},
     "output_type": "execute_result"
    }
   ],
   "source": [
    "#Checking for missing values \n",
    "df.isnull().sum()"
   ]
  },
  {
   "cell_type": "markdown",
   "id": "bbf99c4d",
   "metadata": {},
   "source": [
    "#### location"
   ]
  },
  {
   "cell_type": "code",
   "execution_count": 49,
   "id": "118672d7",
   "metadata": {},
   "outputs": [
    {
     "data": {
      "text/html": [
       "<div>\n",
       "<style scoped>\n",
       "    .dataframe tbody tr th:only-of-type {\n",
       "        vertical-align: middle;\n",
       "    }\n",
       "\n",
       "    .dataframe tbody tr th {\n",
       "        vertical-align: top;\n",
       "    }\n",
       "\n",
       "    .dataframe thead th {\n",
       "        text-align: right;\n",
       "    }\n",
       "</style>\n",
       "<table border=\"1\" class=\"dataframe\">\n",
       "  <thead>\n",
       "    <tr style=\"text-align: right;\">\n",
       "      <th></th>\n",
       "      <th>area_type</th>\n",
       "      <th>location</th>\n",
       "      <th>society</th>\n",
       "      <th>total_sqft</th>\n",
       "      <th>bath</th>\n",
       "      <th>balcony</th>\n",
       "      <th>price</th>\n",
       "      <th>BHK</th>\n",
       "      <th>dates</th>\n",
       "    </tr>\n",
       "  </thead>\n",
       "  <tbody>\n",
       "    <tr>\n",
       "      <th>568</th>\n",
       "      <td>Super built-up  Area</td>\n",
       "      <td>NaN</td>\n",
       "      <td>Other</td>\n",
       "      <td>800.0</td>\n",
       "      <td>3.0</td>\n",
       "      <td>2.0</td>\n",
       "      <td>86.0</td>\n",
       "      <td>3</td>\n",
       "      <td>Ready To Move</td>\n",
       "    </tr>\n",
       "  </tbody>\n",
       "</table>\n",
       "</div>"
      ],
      "text/plain": [
       "                area_type location society  total_sqft  bath  balcony  price  \\\n",
       "568  Super built-up  Area      NaN   Other       800.0   3.0      2.0   86.0   \n",
       "\n",
       "    BHK          dates  \n",
       "568   3  Ready To Move  "
      ]
     },
     "execution_count": 49,
     "metadata": {},
     "output_type": "execute_result"
    }
   ],
   "source": [
    "df[df['location'].isnull()]"
   ]
  },
  {
   "cell_type": "code",
   "execution_count": 50,
   "id": "c0407e0b",
   "metadata": {},
   "outputs": [],
   "source": [
    "# filling with other\n",
    "df['location'] = df['location'].fillna('other')"
   ]
  },
  {
   "cell_type": "markdown",
   "id": "26360658",
   "metadata": {},
   "source": [
    "The missing value in location can be filled with other. "
   ]
  },
  {
   "cell_type": "markdown",
   "id": "1a83f327",
   "metadata": {},
   "source": [
    "#### society"
   ]
  },
  {
   "cell_type": "code",
   "execution_count": 51,
   "id": "e922510c",
   "metadata": {},
   "outputs": [],
   "source": [
    "# on the asumption that the house is not in any of the societies, iam going to fill it is No. \n",
    "df['society']=df['society'].fillna('No')"
   ]
  },
  {
   "cell_type": "markdown",
   "id": "aba0434c",
   "metadata": {},
   "source": [
    "#### bath , balcony and bhk "
   ]
  },
  {
   "cell_type": "code",
   "execution_count": 52,
   "id": "9faa14e5",
   "metadata": {
    "scrolled": true
   },
   "outputs": [
    {
     "data": {
      "text/plain": [
       "area_type       0\n",
       "location        0\n",
       "society         0\n",
       "total_sqft      0\n",
       "bath           73\n",
       "balcony       609\n",
       "price           0\n",
       "BHK            16\n",
       "dates           0\n",
       "dtype: int64"
      ]
     },
     "execution_count": 52,
     "metadata": {},
     "output_type": "execute_result"
    }
   ],
   "source": [
    "df.isnull().sum()"
   ]
  },
  {
   "cell_type": "markdown",
   "id": "da5e2f8b",
   "metadata": {},
   "source": [
    "The null values in bath are going to be imputed with the average value of bath, considering the bhk of the house, "
   ]
  },
  {
   "cell_type": "code",
   "execution_count": 53,
   "id": "1b8223b5",
   "metadata": {},
   "outputs": [],
   "source": [
    "# imputing mean of the bath size to the bath grouping on BHK values \n",
    "df['bath'] = df['bath'].fillna(df.groupby('BHK')['bath'].transform('mean'))"
   ]
  },
  {
   "cell_type": "code",
   "execution_count": 54,
   "id": "cc5d9939",
   "metadata": {
    "scrolled": true
   },
   "outputs": [],
   "source": [
    "# rounding the imputted values to whole numbers\n",
    "df['bath']=round(df['bath'],0)"
   ]
  },
  {
   "cell_type": "code",
   "execution_count": 55,
   "id": "47fb03b7",
   "metadata": {},
   "outputs": [
    {
     "data": {
      "text/plain": [
       "array([ 2.,  5.,  3.,  4.,  6.,  1.,  9.,  8.,  7., nan, 11., 10., 14.,\n",
       "       27., 12., 16., 40., 15., 13., 18.])"
      ]
     },
     "execution_count": 55,
     "metadata": {},
     "output_type": "execute_result"
    }
   ],
   "source": [
    "df['bath'].unique()"
   ]
  },
  {
   "cell_type": "code",
   "execution_count": 56,
   "id": "459e911d",
   "metadata": {},
   "outputs": [],
   "source": [
    "# imputing mean of the balcony size to the balcony grouping on BHK values \n",
    "df['balcony'] = df['balcony'].fillna(df.groupby('BHK')['balcony'].transform('mean'))"
   ]
  },
  {
   "cell_type": "code",
   "execution_count": 57,
   "id": "b46d2b22",
   "metadata": {},
   "outputs": [],
   "source": [
    "# rounding the imputted values to whole numbers\n",
    "df['balcony']=round(df['balcony'],0)"
   ]
  },
  {
   "cell_type": "code",
   "execution_count": 58,
   "id": "bd29a3eb",
   "metadata": {},
   "outputs": [
    {
     "data": {
      "text/plain": [
       "array([ 1.,  3.,  2.,  0., nan])"
      ]
     },
     "execution_count": 58,
     "metadata": {},
     "output_type": "execute_result"
    }
   ],
   "source": [
    "df['balcony'].unique()"
   ]
  },
  {
   "cell_type": "code",
   "execution_count": 59,
   "id": "64c824c5",
   "metadata": {
    "scrolled": false
   },
   "outputs": [
    {
     "data": {
      "text/html": [
       "<div>\n",
       "<style scoped>\n",
       "    .dataframe tbody tr th:only-of-type {\n",
       "        vertical-align: middle;\n",
       "    }\n",
       "\n",
       "    .dataframe tbody tr th {\n",
       "        vertical-align: top;\n",
       "    }\n",
       "\n",
       "    .dataframe thead th {\n",
       "        text-align: right;\n",
       "    }\n",
       "</style>\n",
       "<table border=\"1\" class=\"dataframe\">\n",
       "  <thead>\n",
       "    <tr style=\"text-align: right;\">\n",
       "      <th></th>\n",
       "      <th>area_type</th>\n",
       "      <th>location</th>\n",
       "      <th>society</th>\n",
       "      <th>total_sqft</th>\n",
       "      <th>bath</th>\n",
       "      <th>balcony</th>\n",
       "      <th>price</th>\n",
       "      <th>BHK</th>\n",
       "      <th>dates</th>\n",
       "    </tr>\n",
       "  </thead>\n",
       "  <tbody>\n",
       "    <tr>\n",
       "      <th>579</th>\n",
       "      <td>Plot  Area</td>\n",
       "      <td>Sarjapur  Road</td>\n",
       "      <td>Other</td>\n",
       "      <td>1800.0</td>\n",
       "      <td>NaN</td>\n",
       "      <td>NaN</td>\n",
       "      <td>34.185</td>\n",
       "      <td>NaN</td>\n",
       "      <td>Immediate Possession</td>\n",
       "    </tr>\n",
       "    <tr>\n",
       "      <th>1775</th>\n",
       "      <td>Plot  Area</td>\n",
       "      <td>Other</td>\n",
       "      <td>Other</td>\n",
       "      <td>3817.0</td>\n",
       "      <td>NaN</td>\n",
       "      <td>NaN</td>\n",
       "      <td>124.000</td>\n",
       "      <td>NaN</td>\n",
       "      <td>Immediate Possession</td>\n",
       "    </tr>\n",
       "    <tr>\n",
       "      <th>2264</th>\n",
       "      <td>Plot  Area</td>\n",
       "      <td>Other</td>\n",
       "      <td>No</td>\n",
       "      <td>1200.0</td>\n",
       "      <td>NaN</td>\n",
       "      <td>NaN</td>\n",
       "      <td>460.000</td>\n",
       "      <td>NaN</td>\n",
       "      <td>Immediate Possession</td>\n",
       "    </tr>\n",
       "    <tr>\n",
       "      <th>2809</th>\n",
       "      <td>Plot  Area</td>\n",
       "      <td>Sarjapur  Road</td>\n",
       "      <td>Other</td>\n",
       "      <td>1800.0</td>\n",
       "      <td>NaN</td>\n",
       "      <td>NaN</td>\n",
       "      <td>28.785</td>\n",
       "      <td>NaN</td>\n",
       "      <td>Immediate Possession</td>\n",
       "    </tr>\n",
       "    <tr>\n",
       "      <th>2862</th>\n",
       "      <td>Plot  Area</td>\n",
       "      <td>Other</td>\n",
       "      <td>Other</td>\n",
       "      <td>1950.0</td>\n",
       "      <td>NaN</td>\n",
       "      <td>NaN</td>\n",
       "      <td>46.800</td>\n",
       "      <td>NaN</td>\n",
       "      <td>Immediate Possession</td>\n",
       "    </tr>\n",
       "    <tr>\n",
       "      <th>5333</th>\n",
       "      <td>Plot  Area</td>\n",
       "      <td>Other</td>\n",
       "      <td>Other</td>\n",
       "      <td>3752.5</td>\n",
       "      <td>NaN</td>\n",
       "      <td>NaN</td>\n",
       "      <td>177.115</td>\n",
       "      <td>NaN</td>\n",
       "      <td>Immediate Possession</td>\n",
       "    </tr>\n",
       "    <tr>\n",
       "      <th>6423</th>\n",
       "      <td>Plot  Area</td>\n",
       "      <td>Whitefield</td>\n",
       "      <td>Other</td>\n",
       "      <td>1162.0</td>\n",
       "      <td>NaN</td>\n",
       "      <td>NaN</td>\n",
       "      <td>26.730</td>\n",
       "      <td>NaN</td>\n",
       "      <td>Immediate Possession</td>\n",
       "    </tr>\n",
       "    <tr>\n",
       "      <th>6636</th>\n",
       "      <td>Plot  Area</td>\n",
       "      <td>Other</td>\n",
       "      <td>Other</td>\n",
       "      <td>750.0</td>\n",
       "      <td>NaN</td>\n",
       "      <td>NaN</td>\n",
       "      <td>25.490</td>\n",
       "      <td>NaN</td>\n",
       "      <td>Immediate Possession</td>\n",
       "    </tr>\n",
       "    <tr>\n",
       "      <th>6719</th>\n",
       "      <td>Plot  Area</td>\n",
       "      <td>Other</td>\n",
       "      <td>Other</td>\n",
       "      <td>1730.0</td>\n",
       "      <td>NaN</td>\n",
       "      <td>NaN</td>\n",
       "      <td>28.545</td>\n",
       "      <td>NaN</td>\n",
       "      <td>Immediate Possession</td>\n",
       "    </tr>\n",
       "    <tr>\n",
       "      <th>7680</th>\n",
       "      <td>Plot  Area</td>\n",
       "      <td>Other</td>\n",
       "      <td>No</td>\n",
       "      <td>2500.0</td>\n",
       "      <td>NaN</td>\n",
       "      <td>NaN</td>\n",
       "      <td>400.000</td>\n",
       "      <td>NaN</td>\n",
       "      <td>Immediate Possession</td>\n",
       "    </tr>\n",
       "    <tr>\n",
       "      <th>8306</th>\n",
       "      <td>Plot  Area</td>\n",
       "      <td>Other</td>\n",
       "      <td>Other</td>\n",
       "      <td>726.5</td>\n",
       "      <td>NaN</td>\n",
       "      <td>NaN</td>\n",
       "      <td>16.500</td>\n",
       "      <td>NaN</td>\n",
       "      <td>Immediate Possession</td>\n",
       "    </tr>\n",
       "    <tr>\n",
       "      <th>8565</th>\n",
       "      <td>Plot  Area</td>\n",
       "      <td>Other</td>\n",
       "      <td>Other</td>\n",
       "      <td>1000.0</td>\n",
       "      <td>NaN</td>\n",
       "      <td>NaN</td>\n",
       "      <td>120.000</td>\n",
       "      <td>NaN</td>\n",
       "      <td>Immediate Possession</td>\n",
       "    </tr>\n",
       "    <tr>\n",
       "      <th>8703</th>\n",
       "      <td>Plot  Area</td>\n",
       "      <td>Other</td>\n",
       "      <td>Other</td>\n",
       "      <td>1800.0</td>\n",
       "      <td>NaN</td>\n",
       "      <td>NaN</td>\n",
       "      <td>42.300</td>\n",
       "      <td>NaN</td>\n",
       "      <td>Immediate Possession</td>\n",
       "    </tr>\n",
       "    <tr>\n",
       "      <th>10634</th>\n",
       "      <td>Plot  Area</td>\n",
       "      <td>Other</td>\n",
       "      <td>No</td>\n",
       "      <td>787.5</td>\n",
       "      <td>NaN</td>\n",
       "      <td>NaN</td>\n",
       "      <td>31.110</td>\n",
       "      <td>NaN</td>\n",
       "      <td>Immediate Possession</td>\n",
       "    </tr>\n",
       "    <tr>\n",
       "      <th>11019</th>\n",
       "      <td>Plot  Area</td>\n",
       "      <td>Yelahanka</td>\n",
       "      <td>Other</td>\n",
       "      <td>1500.0</td>\n",
       "      <td>NaN</td>\n",
       "      <td>NaN</td>\n",
       "      <td>12.750</td>\n",
       "      <td>NaN</td>\n",
       "      <td>Immediate Possession</td>\n",
       "    </tr>\n",
       "    <tr>\n",
       "      <th>11569</th>\n",
       "      <td>Plot  Area</td>\n",
       "      <td>Other</td>\n",
       "      <td>Other</td>\n",
       "      <td>675.0</td>\n",
       "      <td>NaN</td>\n",
       "      <td>NaN</td>\n",
       "      <td>8.440</td>\n",
       "      <td>NaN</td>\n",
       "      <td>Immediate Possession</td>\n",
       "    </tr>\n",
       "  </tbody>\n",
       "</table>\n",
       "</div>"
      ],
      "text/plain": [
       "        area_type        location society  total_sqft  bath  balcony    price  \\\n",
       "579    Plot  Area  Sarjapur  Road   Other      1800.0   NaN      NaN   34.185   \n",
       "1775   Plot  Area           Other   Other      3817.0   NaN      NaN  124.000   \n",
       "2264   Plot  Area           Other      No      1200.0   NaN      NaN  460.000   \n",
       "2809   Plot  Area  Sarjapur  Road   Other      1800.0   NaN      NaN   28.785   \n",
       "2862   Plot  Area           Other   Other      1950.0   NaN      NaN   46.800   \n",
       "5333   Plot  Area           Other   Other      3752.5   NaN      NaN  177.115   \n",
       "6423   Plot  Area      Whitefield   Other      1162.0   NaN      NaN   26.730   \n",
       "6636   Plot  Area           Other   Other       750.0   NaN      NaN   25.490   \n",
       "6719   Plot  Area           Other   Other      1730.0   NaN      NaN   28.545   \n",
       "7680   Plot  Area           Other      No      2500.0   NaN      NaN  400.000   \n",
       "8306   Plot  Area           Other   Other       726.5   NaN      NaN   16.500   \n",
       "8565   Plot  Area           Other   Other      1000.0   NaN      NaN  120.000   \n",
       "8703   Plot  Area           Other   Other      1800.0   NaN      NaN   42.300   \n",
       "10634  Plot  Area           Other      No       787.5   NaN      NaN   31.110   \n",
       "11019  Plot  Area       Yelahanka   Other      1500.0   NaN      NaN   12.750   \n",
       "11569  Plot  Area           Other   Other       675.0   NaN      NaN    8.440   \n",
       "\n",
       "       BHK                 dates  \n",
       "579    NaN  Immediate Possession  \n",
       "1775   NaN  Immediate Possession  \n",
       "2264   NaN  Immediate Possession  \n",
       "2809   NaN  Immediate Possession  \n",
       "2862   NaN  Immediate Possession  \n",
       "5333   NaN  Immediate Possession  \n",
       "6423   NaN  Immediate Possession  \n",
       "6636   NaN  Immediate Possession  \n",
       "6719   NaN  Immediate Possession  \n",
       "7680   NaN  Immediate Possession  \n",
       "8306   NaN  Immediate Possession  \n",
       "8565   NaN  Immediate Possession  \n",
       "8703   NaN  Immediate Possession  \n",
       "10634  NaN  Immediate Possession  \n",
       "11019  NaN  Immediate Possession  \n",
       "11569  NaN  Immediate Possession  "
      ]
     },
     "execution_count": 59,
     "metadata": {},
     "output_type": "execute_result"
    }
   ],
   "source": [
    "df[df['balcony'].isnull()]"
   ]
  },
  {
   "cell_type": "markdown",
   "id": "8cb24b4b",
   "metadata": {},
   "source": [
    "iam dropping these 16 records as they wont be much contributing to the analysis. \n",
    "To predict the BHK, BATH number and BALCONY USING THE ONLY VARIABLE AREA SEEMS A BAD IDEA. "
   ]
  },
  {
   "cell_type": "code",
   "execution_count": 60,
   "id": "a8415b9e",
   "metadata": {},
   "outputs": [],
   "source": [
    "# dropping the columns which are null in all 3 attributes and saving the data into new data\n",
    "df1=df[~((df['bath'].isnull()) & (df['balcony'].isnull()) & (df['BHK'].isnull()))]"
   ]
  },
  {
   "cell_type": "code",
   "execution_count": 61,
   "id": "a923f6a0",
   "metadata": {},
   "outputs": [
    {
     "data": {
      "text/plain": [
       "area_type     0\n",
       "location      0\n",
       "society       0\n",
       "total_sqft    0\n",
       "bath          0\n",
       "balcony       0\n",
       "price         0\n",
       "BHK           0\n",
       "dates         0\n",
       "dtype: int64"
      ]
     },
     "execution_count": 61,
     "metadata": {},
     "output_type": "execute_result"
    }
   ],
   "source": [
    "df1.isnull().sum()"
   ]
  },
  {
   "cell_type": "markdown",
   "id": "c901b4db",
   "metadata": {},
   "source": [
    " no null values remaining. "
   ]
  },
  {
   "cell_type": "markdown",
   "id": "f7c0fde4",
   "metadata": {},
   "source": [
    "#  *Visualization of the cleaned data "
   ]
  },
  {
   "cell_type": "code",
   "execution_count": 62,
   "id": "c8b09072",
   "metadata": {},
   "outputs": [],
   "source": [
    "df1_cat=df1.select_dtypes(include=object)\n",
    "df1_num=df1.select_dtypes(exclude=object)"
   ]
  },
  {
   "cell_type": "markdown",
   "id": "c618c0f1",
   "metadata": {},
   "source": [
    "#### numerical columns"
   ]
  },
  {
   "cell_type": "code",
   "execution_count": 63,
   "id": "d51b8cbf",
   "metadata": {
    "scrolled": false
   },
   "outputs": [
    {
     "data": {
      "image/png": "[encoded data removed]",
      "text/plain": [
       "<Figure size 400x1200 with 4 Axes>"
      ]
     },
     "metadata": {},
     "output_type": "display_data"
    }
   ],
   "source": [
    "plt.figure(figsize=(4,12))\n",
    "re=1\n",
    "for i in df1_num.columns:\n",
    "    plt.subplot(4,1,re)\n",
    "    sns.boxplot(df1[i], color='brown')\n",
    "    plt.title(i)\n",
    "    re+=1\n",
    "    \n",
    "plt.tight_layout()\n",
    "plt.show() "
   ]
  },
  {
   "cell_type": "markdown",
   "id": "f366b39d",
   "metadata": {},
   "source": [
    "outliers exists in all columns "
   ]
  },
  {
   "cell_type": "code",
   "execution_count": null,
   "id": "a5b165be",
   "metadata": {},
   "outputs": [],
   "source": []
  },
  {
   "cell_type": "markdown",
   "id": "fe682a93",
   "metadata": {},
   "source": [
    "#### categorical columns"
   ]
  },
  {
   "cell_type": "code",
   "execution_count": 66,
   "id": "6dc05c8e",
   "metadata": {
    "scrolled": false
   },
   "outputs": [
    {
     "data": {
      "image/png": "[encoded data removed]",
      "text/plain": [
       "<Figure size 400x1500 with 5 Axes>"
      ]
     },
     "metadata": {},
     "output_type": "display_data"
    }
   ],
   "source": [
    "plt.figure(figsize=(4,15))\n",
    "re=1\n",
    "for i in df1_cat.columns:\n",
    "    plt.subplot(5,1,re)\n",
    "    sns.boxplot(df1[i].value_counts(), color='brown')\n",
    "    plt.title(i)\n",
    "    re+=1\n",
    "    \n",
    "plt.tight_layout()\n",
    "plt.show()"
   ]
  },
  {
   "cell_type": "code",
   "execution_count": 67,
   "id": "05a85b76",
   "metadata": {
    "scrolled": false
   },
   "outputs": [
    {
     "data": {
      "text/plain": [
       "Index(['area_type', 'location', 'society', 'total_sqft', 'bath', 'balcony',\n",
       "       'price', 'BHK', 'dates'],\n",
       "      dtype='object')"
      ]
     },
     "execution_count": 67,
     "metadata": {},
     "output_type": "execute_result"
    }
   ],
   "source": [
    "df1.columns"
   ]
  },
  {
   "cell_type": "code",
   "execution_count": null,
   "id": "d8877458",
   "metadata": {},
   "outputs": [],
   "source": []
  },
  {
   "cell_type": "markdown",
   "id": "0ff3107d",
   "metadata": {},
   "source": [
    "### area_type "
   ]
  },
  {
   "cell_type": "code",
   "execution_count": 68,
   "id": "08c6239f",
   "metadata": {
    "scrolled": false
   },
   "outputs": [
    {
     "data": {
      "image/png": "[encoded data removed]",
      "text/plain": [
       "<Figure size 640x480 with 1 Axes>"
      ]
     },
     "metadata": {},
     "output_type": "display_data"
    }
   ],
   "source": [
    "sns.countplot(x='area_type',data=df1, palette='twilight' )\n",
    "plt.show()"
   ]
  },
  {
   "cell_type": "markdown",
   "id": "1715f210",
   "metadata": {},
   "source": [
    "super built up area has the highest number of houses present."
   ]
  },
  {
   "cell_type": "code",
   "execution_count": null,
   "id": "e7dc67f6",
   "metadata": {},
   "outputs": [],
   "source": []
  },
  {
   "cell_type": "markdown",
   "id": "fd8a0022",
   "metadata": {},
   "source": [
    "### dates"
   ]
  },
  {
   "cell_type": "code",
   "execution_count": 69,
   "id": "545b8011",
   "metadata": {
    "scrolled": false
   },
   "outputs": [
    {
     "data": {
      "image/png": "[encoded data removed]",
      "text/plain": [
       "<Figure size 640x480 with 1 Axes>"
      ]
     },
     "metadata": {},
     "output_type": "display_data"
    }
   ],
   "source": [
    "sns.countplot(x='dates',data=df1 , palette='twilight')\n",
    "plt.xticks(rotation=90)\n",
    "plt.show()"
   ]
  },
  {
   "cell_type": "markdown",
   "id": "8eca06c6",
   "metadata": {},
   "source": [
    "ready to move houses are high in number"
   ]
  },
  {
   "cell_type": "markdown",
   "id": "94547d2a",
   "metadata": {},
   "source": [
    "\n",
    "### society "
   ]
  },
  {
   "cell_type": "code",
   "execution_count": 86,
   "id": "1310e68a",
   "metadata": {
    "scrolled": true
   },
   "outputs": [
    {
     "data": {
      "text/plain": [
       "Other      7373\n",
       "No         5499\n",
       "GrrvaGr      80\n",
       "PrarePa      76\n",
       "Sryalan      59\n",
       "Prtates      59\n",
       "GMown E      56\n",
       "Bhmesy       51\n",
       "Prtanha      51\n",
       "Name: society, dtype: int64"
      ]
     },
     "execution_count": 86,
     "metadata": {},
     "output_type": "execute_result"
    }
   ],
   "source": [
    "# checking for value counts \n",
    "df1['society'].value_counts()  "
   ]
  },
  {
   "cell_type": "markdown",
   "id": "71ec91d4",
   "metadata": {},
   "source": [
    "As the value counts of the other society is high( other include more than 100 separate societies), iam plotting the graph ignoring number of houses present in other society to know exactly which locations counts is the highest. "
   ]
  },
  {
   "cell_type": "code",
   "execution_count": 88,
   "id": "9bd78843",
   "metadata": {},
   "outputs": [],
   "source": [
    "b=df1[~(df1['society']=='Other')]"
   ]
  },
  {
   "cell_type": "code",
   "execution_count": 93,
   "id": "d363f9cf",
   "metadata": {
    "scrolled": false
   },
   "outputs": [
    {
     "data": {
      "image/png": "[encoded data removed]",
      "text/plain": [
       "<Figure size 3000x1000 with 1 Axes>"
      ]
     },
     "metadata": {},
     "output_type": "display_data"
    }
   ],
   "source": [
    "plt.figure(figsize=(30,10))\n",
    "sns.countplot(x='society', data=b , palette='twilight');\n",
    "plt.xticks(rotation=90)\n",
    "plt.show()"
   ]
  },
  {
   "cell_type": "markdown",
   "id": "62470fb0",
   "metadata": {},
   "source": [
    "The houses that doesnt belong to any socity are high."
   ]
  },
  {
   "cell_type": "markdown",
   "id": "9dbc6353",
   "metadata": {},
   "source": [
    "### location"
   ]
  },
  {
   "cell_type": "code",
   "execution_count": 94,
   "id": "47d1fbb5",
   "metadata": {},
   "outputs": [
    {
     "data": {
      "text/plain": [
       "Other                       9803\n",
       "Whitefield                   539\n",
       "Sarjapur  Road               397\n",
       "Electronic City              302\n",
       "Kanakpura Road               273\n",
       "Thanisandra                  234\n",
       "Yelahanka                    212\n",
       "Uttarahalli                  186\n",
       "Hebbal                       177\n",
       "Marathahalli                 175\n",
       "Raja Rajeshwari Nagar        171\n",
       "Hennur Road                  152\n",
       "Bannerghatta Road            152\n",
       "7th Phase JP Nagar           149\n",
       "Haralur Road                 142\n",
       "Electronic City Phase II     132\n",
       "Rajaji Nagar                 107\n",
       "other                          1\n",
       "Name: location, dtype: int64"
      ]
     },
     "execution_count": 94,
     "metadata": {},
     "output_type": "execute_result"
    }
   ],
   "source": [
    "df1['location'].value_counts()"
   ]
  },
  {
   "cell_type": "markdown",
   "id": "d1fbde23",
   "metadata": {},
   "source": [
    "As the value counts of the other location is high( other include more than 100 locations), iam plotting the graph ignoring number of houses present in other location to know exactly which locations counts is the highest. "
   ]
  },
  {
   "cell_type": "code",
   "execution_count": 95,
   "id": "93e5fec6",
   "metadata": {},
   "outputs": [],
   "source": [
    "b=df1[~(df1['location']=='Other')]"
   ]
  },
  {
   "cell_type": "code",
   "execution_count": 97,
   "id": "1b6b939f",
   "metadata": {
    "scrolled": false
   },
   "outputs": [
    {
     "data": {
      "image/png": "[encoded data removed]",
      "text/plain": [
       "<Figure size 3000x1000 with 1 Axes>"
      ]
     },
     "metadata": {},
     "output_type": "display_data"
    }
   ],
   "source": [
    "plt.figure(figsize=(30,10))\n",
    "sns.countplot(x='location',data=b, palette='twilight' )\n",
    "plt.xticks(rotation=90)\n",
    "plt.show()"
   ]
  },
  {
   "cell_type": "markdown",
   "id": "ff9a5207",
   "metadata": {},
   "source": [
    "large number of houses are avilable in whitefield, followed by Sarjapur road"
   ]
  },
  {
   "cell_type": "markdown",
   "id": "eba80502",
   "metadata": {},
   "source": [
    "### BHK"
   ]
  },
  {
   "cell_type": "code",
   "execution_count": 98,
   "id": "b3684b5c",
   "metadata": {
    "scrolled": false
   },
   "outputs": [
    {
     "data": {
      "image/png": "[encoded data removed]",
      "text/plain": [
       "<Figure size 640x480 with 1 Axes>"
      ]
     },
     "metadata": {},
     "output_type": "display_data"
    }
   ],
   "source": [
    "sns.countplot(x='BHK',data=df1, palette='twilight' )\n",
    "plt.show()"
   ]
  },
  {
   "cell_type": "code",
   "execution_count": null,
   "id": "5f334e72",
   "metadata": {},
   "outputs": [],
   "source": [
    "2BHK has the highest count followed by 3BHK"
   ]
  },
  {
   "cell_type": "code",
   "execution_count": null,
   "id": "b7a11569",
   "metadata": {},
   "outputs": [],
   "source": []
  },
  {
   "cell_type": "code",
   "execution_count": null,
   "id": "0a6b89ce",
   "metadata": {},
   "outputs": [],
   "source": []
  },
  {
   "cell_type": "code",
   "execution_count": null,
   "id": "bce951d7",
   "metadata": {},
   "outputs": [],
   "source": []
  },
  {
   "cell_type": "markdown",
   "id": "7b8cb5d4",
   "metadata": {},
   "source": [
    "## PRICE VS FEATURES "
   ]
  },
  {
   "cell_type": "markdown",
   "id": "96d15e34",
   "metadata": {},
   "source": [
    "## 1. price vs location"
   ]
  },
  {
   "cell_type": "code",
   "execution_count": 114,
   "id": "a3c5b10f",
   "metadata": {},
   "outputs": [
    {
     "data": {
      "image/png": "[encoded data removed]",
      "text/plain": [
       "<Figure size 700x400 with 1 Axes>"
      ]
     },
     "metadata": {},
     "output_type": "display_data"
    }
   ],
   "source": [
    "plt.figure(figsize=(7,4))\n",
    "sns.barplot(y=df1['price'] ,x=df1['location'])\n",
    "plt.xticks(rotation=90)\n",
    "plt.show()"
   ]
  },
  {
   "cell_type": "markdown",
   "id": "3ec5a8a9",
   "metadata": {},
   "source": [
    "there is a high price variation in rajaji nagar. may presence of some some outliers. "
   ]
  },
  {
   "cell_type": "markdown",
   "id": "6bbaed9f",
   "metadata": {},
   "source": [
    "### 2. area_type vs price "
   ]
  },
  {
   "cell_type": "code",
   "execution_count": 113,
   "id": "a8fa0667",
   "metadata": {
    "scrolled": false
   },
   "outputs": [
    {
     "data": {
      "text/plain": [
       "<Axes: xlabel='area_type', ylabel='price'>"
      ]
     },
     "execution_count": 113,
     "metadata": {},
     "output_type": "execute_result"
    },
    {
     "data": {
      "image/png": "[encoded data removed]",
      "text/plain": [
       "<Figure size 700x400 with 1 Axes>"
      ]
     },
     "metadata": {},
     "output_type": "display_data"
    }
   ],
   "source": [
    "plt.figure(figsize=(7,4))\n",
    "sns.barplot(x=df1['area_type'], y=df1['price'])"
   ]
  },
  {
   "cell_type": "code",
   "execution_count": null,
   "id": "7e78132c",
   "metadata": {},
   "outputs": [],
   "source": [
    "The price of houses with plot area is high compared to others "
   ]
  },
  {
   "cell_type": "markdown",
   "id": "7a83d30b",
   "metadata": {},
   "source": [
    "### 3. society vs price "
   ]
  },
  {
   "cell_type": "code",
   "execution_count": 118,
   "id": "ac6a87f3",
   "metadata": {
    "scrolled": false
   },
   "outputs": [
    {
     "data": {
      "image/png": "[encoded data removed]",
      "text/plain": [
       "<Figure size 700x400 with 1 Axes>"
      ]
     },
     "metadata": {},
     "output_type": "display_data"
    }
   ],
   "source": [
    "plt.figure(figsize=(7,4))\n",
    "sns.barplot(x=df1['society'], y=df1['price'])\n",
    "plt.xticks(rotation=90)\n",
    "plt.show()"
   ]
  },
  {
   "cell_type": "markdown",
   "id": "5e709d78",
   "metadata": {},
   "source": [
    "The average price of houses in prtanha society is the highest followed by houses doesnt belongs to any socity and prtates.  "
   ]
  },
  {
   "cell_type": "markdown",
   "id": "12f6f129",
   "metadata": {},
   "source": [
    "### 4. BHK vs price "
   ]
  },
  {
   "cell_type": "code",
   "execution_count": 123,
   "id": "652c429a",
   "metadata": {
    "scrolled": false
   },
   "outputs": [
    {
     "data": {
      "text/plain": [
       "<Axes: xlabel='BHK', ylabel='price'>"
      ]
     },
     "execution_count": 123,
     "metadata": {},
     "output_type": "execute_result"
    },
    {
     "data": {
      "image/png": "[encoded data removed]",
      "text/plain": [
       "<Figure size 700x400 with 1 Axes>"
      ]
     },
     "metadata": {},
     "output_type": "display_data"
    }
   ],
   "source": [
    "plt.figure(figsize=(7,4))\n",
    "sns.barplot(x=df1['BHK'], y= df1['price'])"
   ]
  },
  {
   "cell_type": "markdown",
   "id": "9453f7b9",
   "metadata": {},
   "source": [
    "The price of houses with more than 10 bedrooms are high followed by bedrooms of 4 and so on. "
   ]
  },
  {
   "cell_type": "markdown",
   "id": "8aeff3a2",
   "metadata": {},
   "source": [
    "### 5. dates vs price "
   ]
  },
  {
   "cell_type": "code",
   "execution_count": 126,
   "id": "92ed3d86",
   "metadata": {},
   "outputs": [
    {
     "data": {
      "text/plain": [
       "<Axes: xlabel='dates', ylabel='price'>"
      ]
     },
     "execution_count": 126,
     "metadata": {},
     "output_type": "execute_result"
    },
    {
     "data": {
      "image/png": "[encoded data removed]",
      "text/plain": [
       "<Figure size 640x480 with 1 Axes>"
      ]
     },
     "metadata": {},
     "output_type": "display_data"
    }
   ],
   "source": [
    "sns.barplot(x=df1['dates'], y=df1['price'])"
   ]
  },
  {
   "cell_type": "markdown",
   "id": "030040cd",
   "metadata": {},
   "source": [
    "The average price of ready to move houses are high "
   ]
  },
  {
   "cell_type": "code",
   "execution_count": null,
   "id": "9f43f597",
   "metadata": {},
   "outputs": [],
   "source": []
  },
  {
   "cell_type": "markdown",
   "id": "a84b19e3",
   "metadata": {},
   "source": [
    "#  *TREATING OUTLIERS "
   ]
  },
  {
   "cell_type": "markdown",
   "id": "34142c06",
   "metadata": {},
   "source": [
    "checking for outliers "
   ]
  },
  {
   "cell_type": "code",
   "execution_count": 128,
   "id": "641153bc",
   "metadata": {
    "scrolled": false
   },
   "outputs": [
    {
     "data": {
      "text/plain": [
       "<Axes: >"
      ]
     },
     "execution_count": 128,
     "metadata": {},
     "output_type": "execute_result"
    },
    {
     "data": {
      "image/png": "[encoded data removed]",
      "text/plain": [
       "<Figure size 640x480 with 1 Axes>"
      ]
     },
     "metadata": {},
     "output_type": "display_data"
    }
   ],
   "source": [
    "df1.boxplot()"
   ]
  },
  {
   "cell_type": "markdown",
   "id": "f2ac62dc",
   "metadata": {},
   "source": [
    "total sqft has the highest number of outliers. it had records with 40  acres and 3 cents. so this column has extreme outliers "
   ]
  },
  {
   "cell_type": "code",
   "execution_count": 133,
   "id": "f8e18c32",
   "metadata": {},
   "outputs": [
    {
     "data": {
      "image/png": "[encoded data removed]",
      "text/plain": [
       "<Figure size 640x480 with 1 Axes>"
      ]
     },
     "metadata": {},
     "output_type": "display_data"
    }
   ],
   "source": [
    "# checking for skeweness in th data\n",
    "df1.skew().plot(kind='bar')\n",
    "plt.show()"
   ]
  },
  {
   "cell_type": "markdown",
   "id": "f01fe155",
   "metadata": {},
   "source": [
    "Total sqft is highly skewed. "
   ]
  },
  {
   "cell_type": "code",
   "execution_count": 131,
   "id": "242ed90d",
   "metadata": {},
   "outputs": [],
   "source": [
    "#finding quantiles and iqr and then fixing the whisker length to 1.25 ( to remove all extreme outliers)\n",
    "# saving the outlier removed data into a new data called df2\n",
    "\n",
    "\n",
    "q1=df1.quantile(0.25)\n",
    "q3=df1.quantile(0.75)\n",
    "\n",
    "\n",
    "iqr=q3-q1\n",
    "\n",
    "\n",
    "ul=q3+((1.25)*(iqr))\n",
    "ll=q1-((1.25)*(iqr))\n",
    "\n",
    "df2=df1[~((df1<ll) |  (df1>ul)).any(axis=1)]"
   ]
  },
  {
   "cell_type": "code",
   "execution_count": 132,
   "id": "46b27d83",
   "metadata": {},
   "outputs": [
    {
     "data": {
      "image/png": "[encoded data removed]",
      "text/plain": [
       "<Figure size 640x480 with 1 Axes>"
      ]
     },
     "metadata": {},
     "output_type": "display_data"
    }
   ],
   "source": [
    "# checking for the skewness again \n",
    "df2.skew().plot(kind='bar')\n",
    "plt.show()"
   ]
  },
  {
   "cell_type": "code",
   "execution_count": 135,
   "id": "7b3fbea5",
   "metadata": {
    "scrolled": false
   },
   "outputs": [
    {
     "data": {
      "image/png": "[encoded data removed]",
      "text/plain": [
       "<Figure size 640x480 with 1 Axes>"
      ]
     },
     "metadata": {},
     "output_type": "display_data"
    }
   ],
   "source": [
    "df2.boxplot()\n",
    "plt.xticks(rotation=90)\n",
    "plt.show()"
   ]
  },
  {
   "cell_type": "code",
   "execution_count": 218,
   "id": "2e326d03",
   "metadata": {},
   "outputs": [
    {
     "data": {
      "text/plain": [
       "(11008, 12)"
      ]
     },
     "execution_count": 218,
     "metadata": {},
     "output_type": "execute_result"
    }
   ],
   "source": [
    "df2.shape"
   ]
  },
  {
   "cell_type": "markdown",
   "id": "a86f3f1d",
   "metadata": {},
   "source": [
    "After removing the outliers the skeness decreases along with less number of outliers "
   ]
  },
  {
   "cell_type": "markdown",
   "id": "f5b6b927",
   "metadata": {},
   "source": [
    "# * FEATURE ENGINEERING"
   ]
  },
  {
   "cell_type": "markdown",
   "id": "bf47167a",
   "metadata": {},
   "source": [
    "### adding new column called pricepersqft"
   ]
  },
  {
   "cell_type": "code",
   "execution_count": 136,
   "id": "5f47e6f9",
   "metadata": {
    "scrolled": true
   },
   "outputs": [],
   "source": [
    "df2['pricepersqft']=df2['price']/df2['total_sqft']"
   ]
  },
  {
   "cell_type": "markdown",
   "id": "75bff329",
   "metadata": {},
   "source": [
    "### adding new column called bathroom, balcony interaction ( zero exists so cannt take ratio)"
   ]
  },
  {
   "cell_type": "code",
   "execution_count": 138,
   "id": "3a277eaa",
   "metadata": {},
   "outputs": [],
   "source": [
    "df2['bat-bal']=df2['balcony']*df2['bath']"
   ]
  },
  {
   "cell_type": "markdown",
   "id": "612cc6df",
   "metadata": {},
   "source": [
    "### log transformation on the pricepersqft variable "
   ]
  },
  {
   "cell_type": "code",
   "execution_count": 139,
   "id": "47067923",
   "metadata": {},
   "outputs": [],
   "source": [
    "df2['log_pricepersqft'] = np.log1p(df2['pricepersqft'])"
   ]
  },
  {
   "cell_type": "code",
   "execution_count": null,
   "id": "7ee3c467",
   "metadata": {},
   "outputs": [],
   "source": []
  },
  {
   "cell_type": "code",
   "execution_count": null,
   "id": "f39e5792",
   "metadata": {},
   "outputs": [],
   "source": []
  },
  {
   "cell_type": "code",
   "execution_count": null,
   "id": "41cf3206",
   "metadata": {},
   "outputs": [],
   "source": []
  },
  {
   "cell_type": "markdown",
   "id": "e5cd70d6",
   "metadata": {},
   "source": [
    "# MODELLING  -- LINEAR REGRESSION MODEL"
   ]
  },
  {
   "cell_type": "code",
   "execution_count": 145,
   "id": "b80d95c5",
   "metadata": {},
   "outputs": [],
   "source": [
    "# IMPORT THE LIBRARIES \n",
    "from sklearn.linear_model import LinearRegression\n",
    "from sklearn.model_selection import train_test_split\n",
    "import statsmodels.api as sm\n",
    "from sklearn.preprocessing import PowerTransformer,StandardScaler,MinMaxScaler,RobustScaler,LabelEncoder\n",
    "from statsmodels.stats.outliers_influence import variance_inflation_factor\n",
    "from sklearn.metrics import mean_squared_error,mean_absolute_error,mean_absolute_percentage_error,r2_score\n",
    "from sklearn.model_selection import train_test_split,cross_val_score,LeaveOneOut,GridSearchCV ,RandomizedSearchCV\n",
    "from sklearn.feature_selection import RFE\n",
    "from mlxtend.feature_selection import SequentialFeatureSelector as sfs\n",
    "from sklearn.linear_model import Lasso,Ridge,ElasticNet,LinearRegression,SGDRegressor\n",
    "from statsmodels.stats.diagnostic import het_breuschpagan\n",
    "from sklearn.ensemble import RandomForestRegressor, RandomForestClassifier\n"
   ]
  },
  {
   "cell_type": "code",
   "execution_count": 142,
   "id": "9cb35d9a",
   "metadata": {},
   "outputs": [],
   "source": [
    "# get dummies of the processed data with one hot encoding\n",
    "df5=pd.get_dummies(df2, drop_first=True)"
   ]
  },
  {
   "cell_type": "code",
   "execution_count": 143,
   "id": "73c4b3c0",
   "metadata": {},
   "outputs": [
    {
     "data": {
      "text/html": [
       "<div>\n",
       "<style scoped>\n",
       "    .dataframe tbody tr th:only-of-type {\n",
       "        vertical-align: middle;\n",
       "    }\n",
       "\n",
       "    .dataframe tbody tr th {\n",
       "        vertical-align: top;\n",
       "    }\n",
       "\n",
       "    .dataframe thead th {\n",
       "        text-align: right;\n",
       "    }\n",
       "</style>\n",
       "<table border=\"1\" class=\"dataframe\">\n",
       "  <thead>\n",
       "    <tr style=\"text-align: right;\">\n",
       "      <th></th>\n",
       "      <th>total_sqft</th>\n",
       "      <th>bath</th>\n",
       "      <th>balcony</th>\n",
       "      <th>price</th>\n",
       "      <th>pricepersqft</th>\n",
       "      <th>bat-bal</th>\n",
       "      <th>log_pricepersqft</th>\n",
       "      <th>area_type_Carpet  Area</th>\n",
       "      <th>area_type_Plot  Area</th>\n",
       "      <th>area_type_Super built-up  Area</th>\n",
       "      <th>...</th>\n",
       "      <th>society_PrarePa</th>\n",
       "      <th>society_Prtanha</th>\n",
       "      <th>society_Prtates</th>\n",
       "      <th>society_Sryalan</th>\n",
       "      <th>BHK_2</th>\n",
       "      <th>BHK_3</th>\n",
       "      <th>BHK_4</th>\n",
       "      <th>BHK_5 or 6</th>\n",
       "      <th>BHK_7 to 10</th>\n",
       "      <th>dates_upcoming</th>\n",
       "    </tr>\n",
       "  </thead>\n",
       "  <tbody>\n",
       "    <tr>\n",
       "      <th>0</th>\n",
       "      <td>528.0</td>\n",
       "      <td>2.0</td>\n",
       "      <td>1.0</td>\n",
       "      <td>39.07</td>\n",
       "      <td>0.073996</td>\n",
       "      <td>2.0</td>\n",
       "      <td>0.071386</td>\n",
       "      <td>0</td>\n",
       "      <td>0</td>\n",
       "      <td>1</td>\n",
       "      <td>...</td>\n",
       "      <td>0</td>\n",
       "      <td>0</td>\n",
       "      <td>0</td>\n",
       "      <td>0</td>\n",
       "      <td>1</td>\n",
       "      <td>0</td>\n",
       "      <td>0</td>\n",
       "      <td>0</td>\n",
       "      <td>0</td>\n",
       "      <td>1</td>\n",
       "    </tr>\n",
       "    <tr>\n",
       "      <th>2</th>\n",
       "      <td>720.0</td>\n",
       "      <td>2.0</td>\n",
       "      <td>3.0</td>\n",
       "      <td>62.00</td>\n",
       "      <td>0.086111</td>\n",
       "      <td>6.0</td>\n",
       "      <td>0.082604</td>\n",
       "      <td>0</td>\n",
       "      <td>0</td>\n",
       "      <td>0</td>\n",
       "      <td>...</td>\n",
       "      <td>0</td>\n",
       "      <td>0</td>\n",
       "      <td>0</td>\n",
       "      <td>0</td>\n",
       "      <td>0</td>\n",
       "      <td>1</td>\n",
       "      <td>0</td>\n",
       "      <td>0</td>\n",
       "      <td>0</td>\n",
       "      <td>0</td>\n",
       "    </tr>\n",
       "    <tr>\n",
       "      <th>3</th>\n",
       "      <td>760.5</td>\n",
       "      <td>3.0</td>\n",
       "      <td>1.0</td>\n",
       "      <td>95.00</td>\n",
       "      <td>0.124918</td>\n",
       "      <td>3.0</td>\n",
       "      <td>0.117710</td>\n",
       "      <td>0</td>\n",
       "      <td>0</td>\n",
       "      <td>1</td>\n",
       "      <td>...</td>\n",
       "      <td>0</td>\n",
       "      <td>0</td>\n",
       "      <td>0</td>\n",
       "      <td>0</td>\n",
       "      <td>0</td>\n",
       "      <td>1</td>\n",
       "      <td>0</td>\n",
       "      <td>0</td>\n",
       "      <td>0</td>\n",
       "      <td>0</td>\n",
       "    </tr>\n",
       "    <tr>\n",
       "      <th>4</th>\n",
       "      <td>600.0</td>\n",
       "      <td>2.0</td>\n",
       "      <td>1.0</td>\n",
       "      <td>51.00</td>\n",
       "      <td>0.085000</td>\n",
       "      <td>2.0</td>\n",
       "      <td>0.081580</td>\n",
       "      <td>0</td>\n",
       "      <td>0</td>\n",
       "      <td>1</td>\n",
       "      <td>...</td>\n",
       "      <td>0</td>\n",
       "      <td>0</td>\n",
       "      <td>0</td>\n",
       "      <td>0</td>\n",
       "      <td>1</td>\n",
       "      <td>0</td>\n",
       "      <td>0</td>\n",
       "      <td>0</td>\n",
       "      <td>0</td>\n",
       "      <td>0</td>\n",
       "    </tr>\n",
       "    <tr>\n",
       "      <th>5</th>\n",
       "      <td>585.0</td>\n",
       "      <td>2.0</td>\n",
       "      <td>1.0</td>\n",
       "      <td>38.00</td>\n",
       "      <td>0.064957</td>\n",
       "      <td>2.0</td>\n",
       "      <td>0.062935</td>\n",
       "      <td>0</td>\n",
       "      <td>0</td>\n",
       "      <td>1</td>\n",
       "      <td>...</td>\n",
       "      <td>0</td>\n",
       "      <td>0</td>\n",
       "      <td>0</td>\n",
       "      <td>0</td>\n",
       "      <td>1</td>\n",
       "      <td>0</td>\n",
       "      <td>0</td>\n",
       "      <td>0</td>\n",
       "      <td>0</td>\n",
       "      <td>0</td>\n",
       "    </tr>\n",
       "    <tr>\n",
       "      <th>...</th>\n",
       "      <td>...</td>\n",
       "      <td>...</td>\n",
       "      <td>...</td>\n",
       "      <td>...</td>\n",
       "      <td>...</td>\n",
       "      <td>...</td>\n",
       "      <td>...</td>\n",
       "      <td>...</td>\n",
       "      <td>...</td>\n",
       "      <td>...</td>\n",
       "      <td>...</td>\n",
       "      <td>...</td>\n",
       "      <td>...</td>\n",
       "      <td>...</td>\n",
       "      <td>...</td>\n",
       "      <td>...</td>\n",
       "      <td>...</td>\n",
       "      <td>...</td>\n",
       "      <td>...</td>\n",
       "      <td>...</td>\n",
       "      <td>...</td>\n",
       "    </tr>\n",
       "    <tr>\n",
       "      <th>13312</th>\n",
       "      <td>631.0</td>\n",
       "      <td>2.0</td>\n",
       "      <td>2.0</td>\n",
       "      <td>47.00</td>\n",
       "      <td>0.074485</td>\n",
       "      <td>4.0</td>\n",
       "      <td>0.071841</td>\n",
       "      <td>0</td>\n",
       "      <td>0</td>\n",
       "      <td>1</td>\n",
       "      <td>...</td>\n",
       "      <td>0</td>\n",
       "      <td>0</td>\n",
       "      <td>0</td>\n",
       "      <td>0</td>\n",
       "      <td>1</td>\n",
       "      <td>0</td>\n",
       "      <td>0</td>\n",
       "      <td>0</td>\n",
       "      <td>0</td>\n",
       "      <td>0</td>\n",
       "    </tr>\n",
       "    <tr>\n",
       "      <th>13313</th>\n",
       "      <td>672.5</td>\n",
       "      <td>2.0</td>\n",
       "      <td>1.0</td>\n",
       "      <td>57.00</td>\n",
       "      <td>0.084758</td>\n",
       "      <td>2.0</td>\n",
       "      <td>0.081357</td>\n",
       "      <td>0</td>\n",
       "      <td>0</td>\n",
       "      <td>1</td>\n",
       "      <td>...</td>\n",
       "      <td>0</td>\n",
       "      <td>0</td>\n",
       "      <td>0</td>\n",
       "      <td>0</td>\n",
       "      <td>0</td>\n",
       "      <td>1</td>\n",
       "      <td>0</td>\n",
       "      <td>0</td>\n",
       "      <td>0</td>\n",
       "      <td>0</td>\n",
       "    </tr>\n",
       "    <tr>\n",
       "      <th>13314</th>\n",
       "      <td>857.5</td>\n",
       "      <td>3.0</td>\n",
       "      <td>3.0</td>\n",
       "      <td>112.00</td>\n",
       "      <td>0.130612</td>\n",
       "      <td>9.0</td>\n",
       "      <td>0.122759</td>\n",
       "      <td>0</td>\n",
       "      <td>0</td>\n",
       "      <td>1</td>\n",
       "      <td>...</td>\n",
       "      <td>0</td>\n",
       "      <td>0</td>\n",
       "      <td>0</td>\n",
       "      <td>0</td>\n",
       "      <td>0</td>\n",
       "      <td>1</td>\n",
       "      <td>0</td>\n",
       "      <td>0</td>\n",
       "      <td>0</td>\n",
       "      <td>0</td>\n",
       "    </tr>\n",
       "    <tr>\n",
       "      <th>13317</th>\n",
       "      <td>570.5</td>\n",
       "      <td>2.0</td>\n",
       "      <td>1.0</td>\n",
       "      <td>60.00</td>\n",
       "      <td>0.105171</td>\n",
       "      <td>2.0</td>\n",
       "      <td>0.100000</td>\n",
       "      <td>0</td>\n",
       "      <td>0</td>\n",
       "      <td>0</td>\n",
       "      <td>...</td>\n",
       "      <td>0</td>\n",
       "      <td>0</td>\n",
       "      <td>0</td>\n",
       "      <td>0</td>\n",
       "      <td>1</td>\n",
       "      <td>0</td>\n",
       "      <td>0</td>\n",
       "      <td>0</td>\n",
       "      <td>0</td>\n",
       "      <td>0</td>\n",
       "    </tr>\n",
       "    <tr>\n",
       "      <th>13319</th>\n",
       "      <td>275.0</td>\n",
       "      <td>1.0</td>\n",
       "      <td>1.0</td>\n",
       "      <td>17.00</td>\n",
       "      <td>0.061818</td>\n",
       "      <td>1.0</td>\n",
       "      <td>0.059983</td>\n",
       "      <td>0</td>\n",
       "      <td>0</td>\n",
       "      <td>1</td>\n",
       "      <td>...</td>\n",
       "      <td>0</td>\n",
       "      <td>0</td>\n",
       "      <td>0</td>\n",
       "      <td>0</td>\n",
       "      <td>0</td>\n",
       "      <td>0</td>\n",
       "      <td>0</td>\n",
       "      <td>0</td>\n",
       "      <td>0</td>\n",
       "      <td>0</td>\n",
       "    </tr>\n",
       "  </tbody>\n",
       "</table>\n",
       "<p>11008 rows × 41 columns</p>\n",
       "</div>"
      ],
      "text/plain": [
       "       total_sqft  bath  balcony   price  pricepersqft  bat-bal  \\\n",
       "0           528.0   2.0      1.0   39.07      0.073996      2.0   \n",
       "2           720.0   2.0      3.0   62.00      0.086111      6.0   \n",
       "3           760.5   3.0      1.0   95.00      0.124918      3.0   \n",
       "4           600.0   2.0      1.0   51.00      0.085000      2.0   \n",
       "5           585.0   2.0      1.0   38.00      0.064957      2.0   \n",
       "...           ...   ...      ...     ...           ...      ...   \n",
       "13312       631.0   2.0      2.0   47.00      0.074485      4.0   \n",
       "13313       672.5   2.0      1.0   57.00      0.084758      2.0   \n",
       "13314       857.5   3.0      3.0  112.00      0.130612      9.0   \n",
       "13317       570.5   2.0      1.0   60.00      0.105171      2.0   \n",
       "13319       275.0   1.0      1.0   17.00      0.061818      1.0   \n",
       "\n",
       "       log_pricepersqft  area_type_Carpet  Area  area_type_Plot  Area  \\\n",
       "0              0.071386                       0                     0   \n",
       "2              0.082604                       0                     0   \n",
       "3              0.117710                       0                     0   \n",
       "4              0.081580                       0                     0   \n",
       "5              0.062935                       0                     0   \n",
       "...                 ...                     ...                   ...   \n",
       "13312          0.071841                       0                     0   \n",
       "13313          0.081357                       0                     0   \n",
       "13314          0.122759                       0                     0   \n",
       "13317          0.100000                       0                     0   \n",
       "13319          0.059983                       0                     0   \n",
       "\n",
       "       area_type_Super built-up  Area  ...  society_PrarePa  society_Prtanha  \\\n",
       "0                                   1  ...                0                0   \n",
       "2                                   0  ...                0                0   \n",
       "3                                   1  ...                0                0   \n",
       "4                                   1  ...                0                0   \n",
       "5                                   1  ...                0                0   \n",
       "...                               ...  ...              ...              ...   \n",
       "13312                               1  ...                0                0   \n",
       "13313                               1  ...                0                0   \n",
       "13314                               1  ...                0                0   \n",
       "13317                               0  ...                0                0   \n",
       "13319                               1  ...                0                0   \n",
       "\n",
       "       society_Prtates  society_Sryalan  BHK_2  BHK_3  BHK_4  BHK_5 or 6   \\\n",
       "0                    0                0      1      0      0            0   \n",
       "2                    0                0      0      1      0            0   \n",
       "3                    0                0      0      1      0            0   \n",
       "4                    0                0      1      0      0            0   \n",
       "5                    0                0      1      0      0            0   \n",
       "...                ...              ...    ...    ...    ...          ...   \n",
       "13312                0                0      1      0      0            0   \n",
       "13313                0                0      0      1      0            0   \n",
       "13314                0                0      0      1      0            0   \n",
       "13317                0                0      1      0      0            0   \n",
       "13319                0                0      0      0      0            0   \n",
       "\n",
       "       BHK_7 to 10   dates_upcoming  \n",
       "0                 0               1  \n",
       "2                 0               0  \n",
       "3                 0               0  \n",
       "4                 0               0  \n",
       "5                 0               0  \n",
       "...             ...             ...  \n",
       "13312             0               0  \n",
       "13313             0               0  \n",
       "13314             0               0  \n",
       "13317             0               0  \n",
       "13319             0               0  \n",
       "\n",
       "[11008 rows x 41 columns]"
      ]
     },
     "execution_count": 143,
     "metadata": {},
     "output_type": "execute_result"
    }
   ],
   "source": [
    "df5"
   ]
  },
  {
   "cell_type": "markdown",
   "id": "dd0e8df7",
   "metadata": {},
   "source": [
    "# 1.LINEAR REGRESSION"
   ]
  },
  {
   "cell_type": "code",
   "execution_count": 146,
   "id": "8b3c9b15",
   "metadata": {},
   "outputs": [],
   "source": [
    "# call linear regression as lr\n",
    "lr=LinearRegression()"
   ]
  },
  {
   "cell_type": "code",
   "execution_count": 147,
   "id": "87283b22",
   "metadata": {},
   "outputs": [],
   "source": [
    "# define independent and dependent variables \n",
    "x=df5.drop('price', axis=1)\n",
    "y=df5[\"price\"]\n",
    "\n",
    "\n",
    "# split the data into train and test\n",
    "xtrain,xtest,ytrain,ytest=train_test_split(x,y,random_state=1)"
   ]
  },
  {
   "cell_type": "code",
   "execution_count": 149,
   "id": "7945aa5f",
   "metadata": {},
   "outputs": [
    {
     "data": {
      "text/plain": [
       "((8256, 40), (2752, 40), (8256,), (2752,))"
      ]
     },
     "execution_count": 149,
     "metadata": {},
     "output_type": "execute_result"
    }
   ],
   "source": [
    "# checking the shape of the data\n",
    "xtrain.shape,xtest.shape,ytrain.shape,ytest.shape"
   ]
  },
  {
   "cell_type": "code",
   "execution_count": 150,
   "id": "d1073624",
   "metadata": {},
   "outputs": [
    {
     "name": "stdout",
     "output_type": "stream",
     "text": [
      "RMSE Train lr: 8.437590468768228\n",
      "RMSE Test lr: 8.02608605851116\n",
      "R2 Train : 0.9482161241549297\n",
      "R2 Test: 0.9527395913086019\n"
     ]
    }
   ],
   "source": [
    "#fitting the model \n",
    "lr_model = lr.fit(xtrain,ytrain)\n",
    "\n",
    "# getting the predicted values for train and test \n",
    "ypred_train_lr = lr_model.predict(xtrain)\n",
    "ypred_test_lr = lr_model.predict(xtest)\n",
    "\n",
    "# finding rmse train and test \n",
    "print(\"RMSE Train lr:\",mean_squared_error(ytrain,ypred_train_lr,squared=False))\n",
    "print(\"RMSE Test lr:\",mean_squared_error(ytest,ypred_test_lr,squared=False))\n",
    "\n",
    "\n",
    "# finding r2 score train and test\n",
    "r2_train_lr=r2_score(ytrain,ypred_train_lr)\n",
    "r2_test_lr=r2_score(ytest,ypred_test_lr)\n",
    "print(\"R2 Train :\", r2_train_lr)\n",
    "print(\"R2 Test:\" ,r2_test_lr)"
   ]
  },
  {
   "cell_type": "code",
   "execution_count": 151,
   "id": "ec42c0f3",
   "metadata": {},
   "outputs": [],
   "source": [
    "# appending the scores to a dataframe called  D for the final analysis \n",
    "D=pd.DataFrame()\n",
    "D['SCORE']=['rmse train', 'rmse test', 'r2 train','r2 test']\n",
    "D['LINEAR REGRESSION']=[mean_squared_error(ytrain,ypred_train_lr,squared=False),mean_squared_error(ytest,ypred_test_lr,squared=False),\n",
    "                       r2_train_lr,r2_test_lr]"
   ]
  },
  {
   "cell_type": "code",
   "execution_count": 153,
   "id": "46630e54",
   "metadata": {},
   "outputs": [],
   "source": []
  },
  {
   "cell_type": "markdown",
   "id": "9b66693d",
   "metadata": {
    "scrolled": false
   },
   "source": []
  },
  {
   "cell_type": "markdown",
   "id": "7eafdff4",
   "metadata": {
    "scrolled": false
   },
   "source": [
    "\n"
   ]
  },
  {
   "cell_type": "markdown",
   "id": "bafb48c6",
   "metadata": {
    "scrolled": false
   },
   "source": [
    "\n"
   ]
  },
  {
   "cell_type": "code",
   "execution_count": null,
   "id": "459ef4a5",
   "metadata": {},
   "outputs": [],
   "source": []
  },
  {
   "cell_type": "markdown",
   "id": "115f2cf1",
   "metadata": {},
   "source": [
    "# 2.RIDGE "
   ]
  },
  {
   "cell_type": "code",
   "execution_count": 154,
   "id": "56159307",
   "metadata": {},
   "outputs": [
    {
     "name": "stdout",
     "output_type": "stream",
     "text": [
      "Best parameters for Ridge Regression:  {'alpha': 1e-15} \n",
      "\n"
     ]
    }
   ],
   "source": [
    "tuned_paramaters = [{'alpha':[1e-15, 1e-10, 1e-8, 1e-4,1e-3, 1e-2, 0.1, 1, 5, 10, 20, 40, 60, 80, 100]}]\n",
    " \n",
    "# initiate the ridge regression model\n",
    "ridge = Ridge()\n",
    "\n",
    "\n",
    "ridge_grid = GridSearchCV(estimator = ridge, \n",
    "                          param_grid = tuned_paramaters, \n",
    "                          cv = 10)\n",
    "\n",
    "# fit the model on X_train and y_train using fit()\n",
    "ridge_grid.fit(xtrain, ytrain)\n",
    "\n",
    "# get the best parameters\n",
    "print('Best parameters for Ridge Regression: ', ridge_grid.best_params_, '\\n')"
   ]
  },
  {
   "cell_type": "code",
   "execution_count": 155,
   "id": "66e4785a",
   "metadata": {},
   "outputs": [
    {
     "data": {
      "text/html": [
       "<style>#sk-container-id-1 {color: black;background-color: white;}#sk-container-id-1 pre{padding: 0;}#sk-container-id-1 div.sk-toggleable {background-color: white;}#sk-container-id-1 label.sk-toggleable__label {cursor: pointer;display: block;width: 100%;margin-bottom: 0;padding: 0.3em;box-sizing: border-box;text-align: center;}#sk-container-id-1 label.sk-toggleable__label-arrow:before {content: \"▸\";float: left;margin-right: 0.25em;color: #696969;}#sk-container-id-1 label.sk-toggleable__label-arrow:hover:before {color: black;}#sk-container-id-1 div.sk-estimator:hover label.sk-toggleable__label-arrow:before {color: black;}#sk-container-id-1 div.sk-toggleable__content {max-height: 0;max-width: 0;overflow: hidden;text-align: left;background-color: #f0f8ff;}#sk-container-id-1 div.sk-toggleable__content pre {margin: 0.2em;color: black;border-radius: 0.25em;background-color: #f0f8ff;}#sk-container-id-1 input.sk-toggleable__control:checked~div.sk-toggleable__content {max-height: 200px;max-width: 100%;overflow: auto;}#sk-container-id-1 input.sk-toggleable__control:checked~label.sk-toggleable__label-arrow:before {content: \"▾\";}#sk-container-id-1 div.sk-estimator input.sk-toggleable__control:checked~label.sk-toggleable__label {background-color: #d4ebff;}#sk-container-id-1 div.sk-label input.sk-toggleable__control:checked~label.sk-toggleable__label {background-color: #d4ebff;}#sk-container-id-1 input.sk-hidden--visually {border: 0;clip: rect(1px 1px 1px 1px);clip: rect(1px, 1px, 1px, 1px);height: 1px;margin: -1px;overflow: hidden;padding: 0;position: absolute;width: 1px;}#sk-container-id-1 div.sk-estimator {font-family: monospace;background-color: #f0f8ff;border: 1px dotted black;border-radius: 0.25em;box-sizing: border-box;margin-bottom: 0.5em;}#sk-container-id-1 div.sk-estimator:hover {background-color: #d4ebff;}#sk-container-id-1 div.sk-parallel-item::after {content: \"\";width: 100%;border-bottom: 1px solid gray;flex-grow: 1;}#sk-container-id-1 div.sk-label:hover label.sk-toggleable__label {background-color: #d4ebff;}#sk-container-id-1 div.sk-serial::before {content: \"\";position: absolute;border-left: 1px solid gray;box-sizing: border-box;top: 0;bottom: 0;left: 50%;z-index: 0;}#sk-container-id-1 div.sk-serial {display: flex;flex-direction: column;align-items: center;background-color: white;padding-right: 0.2em;padding-left: 0.2em;position: relative;}#sk-container-id-1 div.sk-item {position: relative;z-index: 1;}#sk-container-id-1 div.sk-parallel {display: flex;align-items: stretch;justify-content: center;background-color: white;position: relative;}#sk-container-id-1 div.sk-item::before, #sk-container-id-1 div.sk-parallel-item::before {content: \"\";position: absolute;border-left: 1px solid gray;box-sizing: border-box;top: 0;bottom: 0;left: 50%;z-index: -1;}#sk-container-id-1 div.sk-parallel-item {display: flex;flex-direction: column;z-index: 1;position: relative;background-color: white;}#sk-container-id-1 div.sk-parallel-item:first-child::after {align-self: flex-end;width: 50%;}#sk-container-id-1 div.sk-parallel-item:last-child::after {align-self: flex-start;width: 50%;}#sk-container-id-1 div.sk-parallel-item:only-child::after {width: 0;}#sk-container-id-1 div.sk-dashed-wrapped {border: 1px dashed gray;margin: 0 0.4em 0.5em 0.4em;box-sizing: border-box;padding-bottom: 0.4em;background-color: white;}#sk-container-id-1 div.sk-label label {font-family: monospace;font-weight: bold;display: inline-block;line-height: 1.2em;}#sk-container-id-1 div.sk-label-container {text-align: center;}#sk-container-id-1 div.sk-container {/* jupyter's `normalize.less` sets `[hidden] { display: none; }` but bootstrap.min.css set `[hidden] { display: none !important; }` so we also need the `!important` here to be able to override the default hidden behavior on the sphinx rendered scikit-learn.org. See: https://github.com/scikit-learn/scikit-learn/issues/21755 */display: inline-block !important;position: relative;}#sk-container-id-1 div.sk-text-repr-fallback {display: none;}</style><div id=\"sk-container-id-1\" class=\"sk-top-container\"><div class=\"sk-text-repr-fallback\"><pre>Ridge(alpha=1e-15, max_iter=500)</pre><b>In a Jupyter environment, please rerun this cell to show the HTML representation or trust the notebook. <br />On GitHub, the HTML representation is unable to render, please try loading this page with nbviewer.org.</b></div><div class=\"sk-container\" hidden><div class=\"sk-item\"><div class=\"sk-estimator sk-toggleable\"><input class=\"sk-toggleable__control sk-hidden--visually\" id=\"sk-estimator-id-1\" type=\"checkbox\" checked><label for=\"sk-estimator-id-1\" class=\"sk-toggleable__label sk-toggleable__label-arrow\">Ridge</label><div class=\"sk-toggleable__content\"><pre>Ridge(alpha=1e-15, max_iter=500)</pre></div></div></div></div></div>"
      ],
      "text/plain": [
       "Ridge(alpha=1e-15, max_iter=500)"
      ]
     },
     "execution_count": 155,
     "metadata": {},
     "output_type": "execute_result"
    }
   ],
   "source": [
    "# use Ridge() to perform ridge regression\n",
    "\n",
    "ridge_model = Ridge(alpha = 1e-15, max_iter = 500)\n",
    "\n",
    "# fit the model on train set\n",
    "ridge_model.fit(xtrain, ytrain)\n"
   ]
  },
  {
   "cell_type": "code",
   "execution_count": 156,
   "id": "cea43553",
   "metadata": {},
   "outputs": [],
   "source": [
    "# get predicted values\n",
    "\n",
    "ypred_train_ridge = ridge_model.predict(xtrain)\n",
    "ypred_test_ridge = ridge_model.predict(xtest)\n"
   ]
  },
  {
   "cell_type": "code",
   "execution_count": 157,
   "id": "1b479d17",
   "metadata": {},
   "outputs": [
    {
     "name": "stdout",
     "output_type": "stream",
     "text": [
      "RMSE Train lr_ridge: 8.437590468768224\n",
      "RMSE Test lr_ridge: 8.02608605851112\n",
      "R2 Train ridge2: 0.9482161241549297\n",
      "R2 Test ridge2: 0.9527395913086023\n"
     ]
    }
   ],
   "source": [
    "print(\"RMSE Train lr_ridge:\",mean_squared_error(ytrain,ypred_train_ridge,squared=False))\n",
    "print(\"RMSE Test lr_ridge:\",mean_squared_error(ytest,ypred_test_ridge,squared=False))\n",
    "\n",
    "\n",
    "\n",
    "r2_train_ridge=r2_score(ytrain,ypred_train_ridge)\n",
    "r2_test_ridge=r2_score(ytest,ypred_test_ridge)\n",
    "\n",
    "print(\"R2 Train ridge2:\", r2_train_ridge)\n",
    "print(\"R2 Test ridge2:\" ,r2_test_ridge)\n"
   ]
  },
  {
   "cell_type": "code",
   "execution_count": 168,
   "id": "bbb2e887",
   "metadata": {},
   "outputs": [],
   "source": [
    "\n",
    "D['ridge']=[mean_squared_error(ytrain,ypred_train_ridge,squared=False),\n",
    "                                   mean_squared_error(ytest,ypred_test_ridge,squared=False),\n",
    "                        r2_train_ridge,r2_test_ridge]"
   ]
  },
  {
   "cell_type": "code",
   "execution_count": null,
   "id": "658e3f7c",
   "metadata": {},
   "outputs": [],
   "source": []
  },
  {
   "cell_type": "code",
   "execution_count": 174,
   "id": "564b4a1b",
   "metadata": {},
   "outputs": [
    {
     "data": {
      "text/html": [
       "<div>\n",
       "<style scoped>\n",
       "    .dataframe tbody tr th:only-of-type {\n",
       "        vertical-align: middle;\n",
       "    }\n",
       "\n",
       "    .dataframe tbody tr th {\n",
       "        vertical-align: top;\n",
       "    }\n",
       "\n",
       "    .dataframe thead th {\n",
       "        text-align: right;\n",
       "    }\n",
       "</style>\n",
       "<table border=\"1\" class=\"dataframe\">\n",
       "  <thead>\n",
       "    <tr style=\"text-align: right;\">\n",
       "      <th></th>\n",
       "      <th>SCORE</th>\n",
       "      <th>LINEAR REGRESSION</th>\n",
       "      <th>ridge</th>\n",
       "    </tr>\n",
       "  </thead>\n",
       "  <tbody>\n",
       "    <tr>\n",
       "      <th>0</th>\n",
       "      <td>rmse train</td>\n",
       "      <td>8.437590</td>\n",
       "      <td>8.437590</td>\n",
       "    </tr>\n",
       "    <tr>\n",
       "      <th>1</th>\n",
       "      <td>rmse test</td>\n",
       "      <td>8.026086</td>\n",
       "      <td>8.026086</td>\n",
       "    </tr>\n",
       "    <tr>\n",
       "      <th>2</th>\n",
       "      <td>r2 train</td>\n",
       "      <td>0.948216</td>\n",
       "      <td>0.948216</td>\n",
       "    </tr>\n",
       "    <tr>\n",
       "      <th>3</th>\n",
       "      <td>r2 test</td>\n",
       "      <td>0.952740</td>\n",
       "      <td>0.952740</td>\n",
       "    </tr>\n",
       "  </tbody>\n",
       "</table>\n",
       "</div>"
      ],
      "text/plain": [
       "        SCORE  LINEAR REGRESSION     ridge\n",
       "0  rmse train           8.437590  8.437590\n",
       "1   rmse test           8.026086  8.026086\n",
       "2    r2 train           0.948216  0.948216\n",
       "3     r2 test           0.952740  0.952740"
      ]
     },
     "execution_count": 174,
     "metadata": {},
     "output_type": "execute_result"
    }
   ],
   "source": []
  },
  {
   "cell_type": "markdown",
   "id": "0e496666",
   "metadata": {},
   "source": [
    "## 3. LASSO"
   ]
  },
  {
   "cell_type": "code",
   "execution_count": 160,
   "id": "fb7e0c39",
   "metadata": {},
   "outputs": [
    {
     "name": "stdout",
     "output_type": "stream",
     "text": [
      "Best parameters for Ridge Regression:  {'alpha': 1e-15} \n",
      "\n"
     ]
    }
   ],
   "source": [
    "tuned_paramaters = [{'alpha':[1e-15, 1e-10, 1e-8, 1e-4,1e-3, 1e-2, 0.1, 1, 5, 10, 20, 40, 60, 80, 100]}]\n",
    " \n",
    "# initiate the LASSO regression model\n",
    "lasso = Lasso()\n",
    "\n",
    "\n",
    "lasso_grid = GridSearchCV(estimator = lasso, \n",
    "                          param_grid = tuned_paramaters, \n",
    "                          cv = 10)\n",
    "\n",
    "# fit the model on X_train and y_train using fit()\n",
    "lasso_grid.fit(xtrain, ytrain)\n",
    "\n",
    "# get the best parameters\n",
    "print('Best parameters for Ridge Regression: ', lasso_grid.best_params_, '\\n')\n"
   ]
  },
  {
   "cell_type": "code",
   "execution_count": 161,
   "id": "0bc2db0a",
   "metadata": {},
   "outputs": [],
   "source": [
    "lasso_model = Lasso(alpha = 1e-15, max_iter = 500)"
   ]
  },
  {
   "cell_type": "code",
   "execution_count": 162,
   "id": "b4e0b850",
   "metadata": {
    "scrolled": true
   },
   "outputs": [
    {
     "data": {
      "text/html": [
       "<style>#sk-container-id-2 {color: black;background-color: white;}#sk-container-id-2 pre{padding: 0;}#sk-container-id-2 div.sk-toggleable {background-color: white;}#sk-container-id-2 label.sk-toggleable__label {cursor: pointer;display: block;width: 100%;margin-bottom: 0;padding: 0.3em;box-sizing: border-box;text-align: center;}#sk-container-id-2 label.sk-toggleable__label-arrow:before {content: \"▸\";float: left;margin-right: 0.25em;color: #696969;}#sk-container-id-2 label.sk-toggleable__label-arrow:hover:before {color: black;}#sk-container-id-2 div.sk-estimator:hover label.sk-toggleable__label-arrow:before {color: black;}#sk-container-id-2 div.sk-toggleable__content {max-height: 0;max-width: 0;overflow: hidden;text-align: left;background-color: #f0f8ff;}#sk-container-id-2 div.sk-toggleable__content pre {margin: 0.2em;color: black;border-radius: 0.25em;background-color: #f0f8ff;}#sk-container-id-2 input.sk-toggleable__control:checked~div.sk-toggleable__content {max-height: 200px;max-width: 100%;overflow: auto;}#sk-container-id-2 input.sk-toggleable__control:checked~label.sk-toggleable__label-arrow:before {content: \"▾\";}#sk-container-id-2 div.sk-estimator input.sk-toggleable__control:checked~label.sk-toggleable__label {background-color: #d4ebff;}#sk-container-id-2 div.sk-label input.sk-toggleable__control:checked~label.sk-toggleable__label {background-color: #d4ebff;}#sk-container-id-2 input.sk-hidden--visually {border: 0;clip: rect(1px 1px 1px 1px);clip: rect(1px, 1px, 1px, 1px);height: 1px;margin: -1px;overflow: hidden;padding: 0;position: absolute;width: 1px;}#sk-container-id-2 div.sk-estimator {font-family: monospace;background-color: #f0f8ff;border: 1px dotted black;border-radius: 0.25em;box-sizing: border-box;margin-bottom: 0.5em;}#sk-container-id-2 div.sk-estimator:hover {background-color: #d4ebff;}#sk-container-id-2 div.sk-parallel-item::after {content: \"\";width: 100%;border-bottom: 1px solid gray;flex-grow: 1;}#sk-container-id-2 div.sk-label:hover label.sk-toggleable__label {background-color: #d4ebff;}#sk-container-id-2 div.sk-serial::before {content: \"\";position: absolute;border-left: 1px solid gray;box-sizing: border-box;top: 0;bottom: 0;left: 50%;z-index: 0;}#sk-container-id-2 div.sk-serial {display: flex;flex-direction: column;align-items: center;background-color: white;padding-right: 0.2em;padding-left: 0.2em;position: relative;}#sk-container-id-2 div.sk-item {position: relative;z-index: 1;}#sk-container-id-2 div.sk-parallel {display: flex;align-items: stretch;justify-content: center;background-color: white;position: relative;}#sk-container-id-2 div.sk-item::before, #sk-container-id-2 div.sk-parallel-item::before {content: \"\";position: absolute;border-left: 1px solid gray;box-sizing: border-box;top: 0;bottom: 0;left: 50%;z-index: -1;}#sk-container-id-2 div.sk-parallel-item {display: flex;flex-direction: column;z-index: 1;position: relative;background-color: white;}#sk-container-id-2 div.sk-parallel-item:first-child::after {align-self: flex-end;width: 50%;}#sk-container-id-2 div.sk-parallel-item:last-child::after {align-self: flex-start;width: 50%;}#sk-container-id-2 div.sk-parallel-item:only-child::after {width: 0;}#sk-container-id-2 div.sk-dashed-wrapped {border: 1px dashed gray;margin: 0 0.4em 0.5em 0.4em;box-sizing: border-box;padding-bottom: 0.4em;background-color: white;}#sk-container-id-2 div.sk-label label {font-family: monospace;font-weight: bold;display: inline-block;line-height: 1.2em;}#sk-container-id-2 div.sk-label-container {text-align: center;}#sk-container-id-2 div.sk-container {/* jupyter's `normalize.less` sets `[hidden] { display: none; }` but bootstrap.min.css set `[hidden] { display: none !important; }` so we also need the `!important` here to be able to override the default hidden behavior on the sphinx rendered scikit-learn.org. See: https://github.com/scikit-learn/scikit-learn/issues/21755 */display: inline-block !important;position: relative;}#sk-container-id-2 div.sk-text-repr-fallback {display: none;}</style><div id=\"sk-container-id-2\" class=\"sk-top-container\"><div class=\"sk-text-repr-fallback\"><pre>Lasso(alpha=1e-15, max_iter=500)</pre><b>In a Jupyter environment, please rerun this cell to show the HTML representation or trust the notebook. <br />On GitHub, the HTML representation is unable to render, please try loading this page with nbviewer.org.</b></div><div class=\"sk-container\" hidden><div class=\"sk-item\"><div class=\"sk-estimator sk-toggleable\"><input class=\"sk-toggleable__control sk-hidden--visually\" id=\"sk-estimator-id-2\" type=\"checkbox\" checked><label for=\"sk-estimator-id-2\" class=\"sk-toggleable__label sk-toggleable__label-arrow\">Lasso</label><div class=\"sk-toggleable__content\"><pre>Lasso(alpha=1e-15, max_iter=500)</pre></div></div></div></div></div>"
      ],
      "text/plain": [
       "Lasso(alpha=1e-15, max_iter=500)"
      ]
     },
     "execution_count": 162,
     "metadata": {},
     "output_type": "execute_result"
    }
   ],
   "source": [
    "# fit the model \n",
    "lasso_model.fit(xtrain, ytrain)"
   ]
  },
  {
   "cell_type": "code",
   "execution_count": 163,
   "id": "5206edb7",
   "metadata": {},
   "outputs": [],
   "source": [
    "# get the predicted values\n",
    "ypred_train_LASSO = lasso_model.predict(xtrain)\n",
    "ypred_test_LASSO = lasso_model.predict(xtest)"
   ]
  },
  {
   "cell_type": "code",
   "execution_count": 164,
   "id": "f01e84a5",
   "metadata": {},
   "outputs": [
    {
     "name": "stdout",
     "output_type": "stream",
     "text": [
      "RMSE Train lasso: 8.62758859070492\n",
      "RMSE Test lasso: 8.10024875365991\n",
      "R2 Train : 0.9458577222030639\n",
      "R2 Test: 0.951862164246133\n"
     ]
    }
   ],
   "source": [
    "# get rmse and r2 score \n",
    "print(\"RMSE Train lasso:\",mean_squared_error(ytrain,ypred_train_LASSO ,squared=False))\n",
    "print(\"RMSE Test lasso:\",mean_squared_error(ytest,ypred_test_LASSO ,squared=False))\n",
    "r2_train_lasso=r2_score(ytrain,ypred_train_LASSO)\n",
    "r2_test_lasso=r2_score(ytest,ypred_test_LASSO)\n",
    "print(\"R2 Train :\", r2_train_lasso)\n",
    "print(\"R2 Test:\" ,r2_test_lasso)"
   ]
  },
  {
   "cell_type": "code",
   "execution_count": 175,
   "id": "2f10ccac",
   "metadata": {},
   "outputs": [],
   "source": [
    "\n",
    "D[' lasso']=[mean_squared_error(ytrain,ypred_train_LASSO ,squared=False),\n",
    "                                   mean_squared_error(ytest,ypred_test_LASSO ,squared=False),\n",
    "                        r2_train_lasso,r2_test_lasso]"
   ]
  },
  {
   "cell_type": "code",
   "execution_count": null,
   "id": "c485ef51",
   "metadata": {},
   "outputs": [],
   "source": []
  },
  {
   "cell_type": "markdown",
   "id": "6fb14c87",
   "metadata": {},
   "source": [
    "# 4. ELASTIC NET "
   ]
  },
  {
   "cell_type": "code",
   "execution_count": 177,
   "id": "71af693d",
   "metadata": {},
   "outputs": [
    {
     "name": "stdout",
     "output_type": "stream",
     "text": [
      "Best parameters for Elastic Net Regression:  {'alpha': 0.0001, 'l1_ratio': 0.2} \n",
      "\n"
     ]
    }
   ],
   "source": [
    "tuned_paramaters = [{'alpha':[0.0001, 0.001, 0.01, 0.1, 1, 5, 10, 20, 40, 60],\n",
    "                      'l1_ratio':[0.0001, 0.0002, 0.001, 0.01, 0.1, 0.2]}]\n",
    "\n",
    "# initiate the elastic net regression model  \n",
    "enet = ElasticNet()\n",
    "\n",
    "# use GridSearchCV() to find the optimal value of alpha and l1_ratio\n",
    "# estimator: pass the elastic net regression model\n",
    "# param_grid: pass the list 'tuned_parameters'\n",
    "# cv: number of folds in k-fold i.e. here cv = 10\n",
    "enet_grid = GridSearchCV(estimator = enet, \n",
    "                          param_grid = tuned_paramaters, \n",
    "                          cv = 10)\n",
    "\n",
    "# fit the model on X_train and y_train using fit()\n",
    "enet_grid.fit(xtrain, ytrain)\n",
    "\n",
    "# get the best parameters\n",
    "print('Best parameters for Elastic Net Regression: ', enet_grid.best_params_, '\\n')\n",
    "\n"
   ]
  },
  {
   "cell_type": "code",
   "execution_count": 178,
   "id": "0570af66",
   "metadata": {},
   "outputs": [],
   "source": [
    "elasticnet_model = ElasticNet(alpha = 0.0001, l1_ratio=0.2, max_iter = 500)"
   ]
  },
  {
   "cell_type": "code",
   "execution_count": 179,
   "id": "b2d1df40",
   "metadata": {},
   "outputs": [
    {
     "data": {
      "text/html": [
       "<style>#sk-container-id-3 {color: black;background-color: white;}#sk-container-id-3 pre{padding: 0;}#sk-container-id-3 div.sk-toggleable {background-color: white;}#sk-container-id-3 label.sk-toggleable__label {cursor: pointer;display: block;width: 100%;margin-bottom: 0;padding: 0.3em;box-sizing: border-box;text-align: center;}#sk-container-id-3 label.sk-toggleable__label-arrow:before {content: \"▸\";float: left;margin-right: 0.25em;color: #696969;}#sk-container-id-3 label.sk-toggleable__label-arrow:hover:before {color: black;}#sk-container-id-3 div.sk-estimator:hover label.sk-toggleable__label-arrow:before {color: black;}#sk-container-id-3 div.sk-toggleable__content {max-height: 0;max-width: 0;overflow: hidden;text-align: left;background-color: #f0f8ff;}#sk-container-id-3 div.sk-toggleable__content pre {margin: 0.2em;color: black;border-radius: 0.25em;background-color: #f0f8ff;}#sk-container-id-3 input.sk-toggleable__control:checked~div.sk-toggleable__content {max-height: 200px;max-width: 100%;overflow: auto;}#sk-container-id-3 input.sk-toggleable__control:checked~label.sk-toggleable__label-arrow:before {content: \"▾\";}#sk-container-id-3 div.sk-estimator input.sk-toggleable__control:checked~label.sk-toggleable__label {background-color: #d4ebff;}#sk-container-id-3 div.sk-label input.sk-toggleable__control:checked~label.sk-toggleable__label {background-color: #d4ebff;}#sk-container-id-3 input.sk-hidden--visually {border: 0;clip: rect(1px 1px 1px 1px);clip: rect(1px, 1px, 1px, 1px);height: 1px;margin: -1px;overflow: hidden;padding: 0;position: absolute;width: 1px;}#sk-container-id-3 div.sk-estimator {font-family: monospace;background-color: #f0f8ff;border: 1px dotted black;border-radius: 0.25em;box-sizing: border-box;margin-bottom: 0.5em;}#sk-container-id-3 div.sk-estimator:hover {background-color: #d4ebff;}#sk-container-id-3 div.sk-parallel-item::after {content: \"\";width: 100%;border-bottom: 1px solid gray;flex-grow: 1;}#sk-container-id-3 div.sk-label:hover label.sk-toggleable__label {background-color: #d4ebff;}#sk-container-id-3 div.sk-serial::before {content: \"\";position: absolute;border-left: 1px solid gray;box-sizing: border-box;top: 0;bottom: 0;left: 50%;z-index: 0;}#sk-container-id-3 div.sk-serial {display: flex;flex-direction: column;align-items: center;background-color: white;padding-right: 0.2em;padding-left: 0.2em;position: relative;}#sk-container-id-3 div.sk-item {position: relative;z-index: 1;}#sk-container-id-3 div.sk-parallel {display: flex;align-items: stretch;justify-content: center;background-color: white;position: relative;}#sk-container-id-3 div.sk-item::before, #sk-container-id-3 div.sk-parallel-item::before {content: \"\";position: absolute;border-left: 1px solid gray;box-sizing: border-box;top: 0;bottom: 0;left: 50%;z-index: -1;}#sk-container-id-3 div.sk-parallel-item {display: flex;flex-direction: column;z-index: 1;position: relative;background-color: white;}#sk-container-id-3 div.sk-parallel-item:first-child::after {align-self: flex-end;width: 50%;}#sk-container-id-3 div.sk-parallel-item:last-child::after {align-self: flex-start;width: 50%;}#sk-container-id-3 div.sk-parallel-item:only-child::after {width: 0;}#sk-container-id-3 div.sk-dashed-wrapped {border: 1px dashed gray;margin: 0 0.4em 0.5em 0.4em;box-sizing: border-box;padding-bottom: 0.4em;background-color: white;}#sk-container-id-3 div.sk-label label {font-family: monospace;font-weight: bold;display: inline-block;line-height: 1.2em;}#sk-container-id-3 div.sk-label-container {text-align: center;}#sk-container-id-3 div.sk-container {/* jupyter's `normalize.less` sets `[hidden] { display: none; }` but bootstrap.min.css set `[hidden] { display: none !important; }` so we also need the `!important` here to be able to override the default hidden behavior on the sphinx rendered scikit-learn.org. See: https://github.com/scikit-learn/scikit-learn/issues/21755 */display: inline-block !important;position: relative;}#sk-container-id-3 div.sk-text-repr-fallback {display: none;}</style><div id=\"sk-container-id-3\" class=\"sk-top-container\"><div class=\"sk-text-repr-fallback\"><pre>ElasticNet(alpha=0.0001, l1_ratio=0.2, max_iter=500)</pre><b>In a Jupyter environment, please rerun this cell to show the HTML representation or trust the notebook. <br />On GitHub, the HTML representation is unable to render, please try loading this page with nbviewer.org.</b></div><div class=\"sk-container\" hidden><div class=\"sk-item\"><div class=\"sk-estimator sk-toggleable\"><input class=\"sk-toggleable__control sk-hidden--visually\" id=\"sk-estimator-id-3\" type=\"checkbox\" checked><label for=\"sk-estimator-id-3\" class=\"sk-toggleable__label sk-toggleable__label-arrow\">ElasticNet</label><div class=\"sk-toggleable__content\"><pre>ElasticNet(alpha=0.0001, l1_ratio=0.2, max_iter=500)</pre></div></div></div></div></div>"
      ],
      "text/plain": [
       "ElasticNet(alpha=0.0001, l1_ratio=0.2, max_iter=500)"
      ]
     },
     "execution_count": 179,
     "metadata": {},
     "output_type": "execute_result"
    }
   ],
   "source": [
    "# fit the model \n",
    "elasticnet_model .fit(xtrain, ytrain)"
   ]
  },
  {
   "cell_type": "code",
   "execution_count": 181,
   "id": "53a3312f",
   "metadata": {},
   "outputs": [],
   "source": [
    "# get the predicted values \n",
    "ypred_train_ENET = elasticnet_model.predict(xtrain)\n",
    "ypred_test_ENET = elasticnet_model.predict(xtest)"
   ]
  },
  {
   "cell_type": "code",
   "execution_count": 182,
   "id": "1677a26a",
   "metadata": {},
   "outputs": [
    {
     "name": "stdout",
     "output_type": "stream",
     "text": [
      "RMSE Train lr enet: 9.32709899392942\n",
      "RMSE Test lr enet: 8.67233608323727\n",
      "R2 Train _enet: 0.9367222773896424\n",
      "R2 Test enet: 0.944822496285986\n"
     ]
    }
   ],
   "source": [
    "# get the scores\n",
    "print(\"RMSE Train lr enet:\",mean_squared_error(ytrain,ypred_train_ENET ,squared=False))\n",
    "print(\"RMSE Test lr enet:\",mean_squared_error(ytest,ypred_test_ENET,squared=False))\n",
    "r2_train_enet=r2_score(ytrain,ypred_train_ENET)\n",
    "r2_test_enet=r2_score(ytest,ypred_test_ENET)\n",
    "print(\"R2 Train _enet:\", r2_train_enet)\n",
    "print(\"R2 Test enet:\" ,r2_test_enet)"
   ]
  },
  {
   "cell_type": "code",
   "execution_count": 184,
   "id": "0f3ffbd8",
   "metadata": {},
   "outputs": [],
   "source": [
    "\n",
    "D[' enet']=[mean_squared_error(ytrain,ypred_train_ENET ,squared=False),\n",
    "                                   mean_squared_error(ytest,ypred_test_ENET,squared=False),\n",
    "                       r2_train_enet,r2_test_enet]"
   ]
  },
  {
   "cell_type": "markdown",
   "id": "2c88331b",
   "metadata": {},
   "source": [
    "# FEATURE SELECTION AND REBUILDING THE MODEL "
   ]
  },
  {
   "cell_type": "markdown",
   "id": "f1d874e7",
   "metadata": {},
   "source": [
    "# forward feature selection"
   ]
  },
  {
   "cell_type": "code",
   "execution_count": 185,
   "id": "8bd57835",
   "metadata": {
    "scrolled": false
   },
   "outputs": [
    {
     "name": "stderr",
     "output_type": "stream",
     "text": [
      "[Parallel(n_jobs=1)]: Using backend SequentialBackend with 1 concurrent workers.\n",
      "[Parallel(n_jobs=1)]: Done   1 out of   1 | elapsed:    0.0s remaining:    0.0s\n",
      "[Parallel(n_jobs=1)]: Done  40 out of  40 | elapsed:    0.2s finished\n",
      "\n",
      "[2023-10-24 10:48:09] Features: 1/40 -- score: 0.5482736501527591[Parallel(n_jobs=1)]: Using backend SequentialBackend with 1 concurrent workers.\n",
      "[Parallel(n_jobs=1)]: Done   1 out of   1 | elapsed:    0.0s remaining:    0.0s\n",
      "[Parallel(n_jobs=1)]: Done  39 out of  39 | elapsed:    0.2s finished\n",
      "\n",
      "[2023-10-24 10:48:09] Features: 2/40 -- score: 0.9361328507441152[Parallel(n_jobs=1)]: Using backend SequentialBackend with 1 concurrent workers.\n",
      "[Parallel(n_jobs=1)]: Done   1 out of   1 | elapsed:    0.0s remaining:    0.0s\n",
      "[Parallel(n_jobs=1)]: Done  38 out of  38 | elapsed:    0.2s finished\n",
      "\n",
      "[2023-10-24 10:48:10] Features: 3/40 -- score: 0.9456096466118197[Parallel(n_jobs=1)]: Using backend SequentialBackend with 1 concurrent workers.\n",
      "[Parallel(n_jobs=1)]: Done   1 out of   1 | elapsed:    0.0s remaining:    0.0s\n",
      "[Parallel(n_jobs=1)]: Done  37 out of  37 | elapsed:    0.2s finished\n",
      "\n",
      "[2023-10-24 10:48:10] Features: 4/40 -- score: 0.946220412723046[Parallel(n_jobs=1)]: Using backend SequentialBackend with 1 concurrent workers.\n",
      "[Parallel(n_jobs=1)]: Done   1 out of   1 | elapsed:    0.0s remaining:    0.0s\n",
      "[Parallel(n_jobs=1)]: Done  36 out of  36 | elapsed:    0.2s finished\n",
      "\n",
      "[2023-10-24 10:48:10] Features: 5/40 -- score: 0.9468103110364297[Parallel(n_jobs=1)]: Using backend SequentialBackend with 1 concurrent workers.\n",
      "[Parallel(n_jobs=1)]: Done   1 out of   1 | elapsed:    0.0s remaining:    0.0s\n",
      "[Parallel(n_jobs=1)]: Done  35 out of  35 | elapsed:    0.2s finished\n",
      "\n",
      "[2023-10-24 10:48:11] Features: 6/40 -- score: 0.9469640768144059[Parallel(n_jobs=1)]: Using backend SequentialBackend with 1 concurrent workers.\n",
      "[Parallel(n_jobs=1)]: Done   1 out of   1 | elapsed:    0.0s remaining:    0.0s\n",
      "[Parallel(n_jobs=1)]: Done  34 out of  34 | elapsed:    0.3s finished\n",
      "\n",
      "[2023-10-24 10:48:11] Features: 7/40 -- score: 0.9470478550918218[Parallel(n_jobs=1)]: Using backend SequentialBackend with 1 concurrent workers.\n",
      "[Parallel(n_jobs=1)]: Done   1 out of   1 | elapsed:    0.0s remaining:    0.0s\n",
      "[Parallel(n_jobs=1)]: Done  33 out of  33 | elapsed:    0.3s finished\n",
      "\n",
      "[2023-10-24 10:48:11] Features: 8/40 -- score: 0.9471301922556272[Parallel(n_jobs=1)]: Using backend SequentialBackend with 1 concurrent workers.\n",
      "[Parallel(n_jobs=1)]: Done   1 out of   1 | elapsed:    0.0s remaining:    0.0s\n",
      "[Parallel(n_jobs=1)]: Done  32 out of  32 | elapsed:    0.3s finished\n",
      "\n",
      "[2023-10-24 10:48:12] Features: 9/40 -- score: 0.9472264415541339[Parallel(n_jobs=1)]: Using backend SequentialBackend with 1 concurrent workers.\n",
      "[Parallel(n_jobs=1)]: Done   1 out of   1 | elapsed:    0.0s remaining:    0.0s\n",
      "[Parallel(n_jobs=1)]: Done  31 out of  31 | elapsed:    0.3s finished\n",
      "\n",
      "[2023-10-24 10:48:12] Features: 10/40 -- score: 0.947276350933991[Parallel(n_jobs=1)]: Using backend SequentialBackend with 1 concurrent workers.\n",
      "[Parallel(n_jobs=1)]: Done   1 out of   1 | elapsed:    0.0s remaining:    0.0s\n",
      "[Parallel(n_jobs=1)]: Done  30 out of  30 | elapsed:    0.3s finished\n",
      "\n",
      "[2023-10-24 10:48:13] Features: 11/40 -- score: 0.9474931216651672[Parallel(n_jobs=1)]: Using backend SequentialBackend with 1 concurrent workers.\n",
      "[Parallel(n_jobs=1)]: Done   1 out of   1 | elapsed:    0.0s remaining:    0.0s\n",
      "[Parallel(n_jobs=1)]: Done  29 out of  29 | elapsed:    0.3s finished\n",
      "\n",
      "[2023-10-24 10:48:13] Features: 12/40 -- score: 0.9475307767958145[Parallel(n_jobs=1)]: Using backend SequentialBackend with 1 concurrent workers.\n",
      "[Parallel(n_jobs=1)]: Done   1 out of   1 | elapsed:    0.0s remaining:    0.0s\n",
      "[Parallel(n_jobs=1)]: Done  28 out of  28 | elapsed:    0.3s finished\n",
      "\n",
      "[2023-10-24 10:48:13] Features: 13/40 -- score: 0.9475596116490645[Parallel(n_jobs=1)]: Using backend SequentialBackend with 1 concurrent workers.\n",
      "[Parallel(n_jobs=1)]: Done   1 out of   1 | elapsed:    0.0s remaining:    0.0s\n",
      "[Parallel(n_jobs=1)]: Done  27 out of  27 | elapsed:    0.3s finished\n",
      "\n",
      "[2023-10-24 10:48:14] Features: 14/40 -- score: 0.947581586424301[Parallel(n_jobs=1)]: Using backend SequentialBackend with 1 concurrent workers.\n",
      "[Parallel(n_jobs=1)]: Done   1 out of   1 | elapsed:    0.0s remaining:    0.0s\n",
      "[Parallel(n_jobs=1)]: Done  26 out of  26 | elapsed:    0.3s finished\n",
      "\n",
      "[2023-10-24 10:48:14] Features: 15/40 -- score: 0.9476032559846462[Parallel(n_jobs=1)]: Using backend SequentialBackend with 1 concurrent workers.\n",
      "[Parallel(n_jobs=1)]: Done   1 out of   1 | elapsed:    0.0s remaining:    0.0s\n",
      "[Parallel(n_jobs=1)]: Done  25 out of  25 | elapsed:    0.3s finished\n",
      "\n",
      "[2023-10-24 10:48:15] Features: 16/40 -- score: 0.9476185140694966[Parallel(n_jobs=1)]: Using backend SequentialBackend with 1 concurrent workers.\n",
      "[Parallel(n_jobs=1)]: Done   1 out of   1 | elapsed:    0.0s remaining:    0.0s\n",
      "[Parallel(n_jobs=1)]: Done  24 out of  24 | elapsed:    0.4s finished\n",
      "\n",
      "[2023-10-24 10:48:15] Features: 17/40 -- score: 0.9476329579964784[Parallel(n_jobs=1)]: Using backend SequentialBackend with 1 concurrent workers.\n",
      "[Parallel(n_jobs=1)]: Done   1 out of   1 | elapsed:    0.0s remaining:    0.0s\n",
      "[Parallel(n_jobs=1)]: Done  23 out of  23 | elapsed:    0.4s finished\n",
      "\n",
      "[2023-10-24 10:48:16] Features: 18/40 -- score: 0.947642515001626[Parallel(n_jobs=1)]: Using backend SequentialBackend with 1 concurrent workers.\n",
      "[Parallel(n_jobs=1)]: Done   1 out of   1 | elapsed:    0.0s remaining:    0.0s\n",
      "[Parallel(n_jobs=1)]: Done  22 out of  22 | elapsed:    0.4s finished\n",
      "\n",
      "[2023-10-24 10:48:16] Features: 19/40 -- score: 0.947651438054206[Parallel(n_jobs=1)]: Using backend SequentialBackend with 1 concurrent workers.\n",
      "[Parallel(n_jobs=1)]: Done   1 out of   1 | elapsed:    0.0s remaining:    0.0s\n",
      "[Parallel(n_jobs=1)]: Done  21 out of  21 | elapsed:    0.5s finished\n",
      "\n",
      "[2023-10-24 10:48:17] Features: 20/40 -- score: 0.9476581097610778[Parallel(n_jobs=1)]: Using backend SequentialBackend with 1 concurrent workers.\n",
      "[Parallel(n_jobs=1)]: Done   1 out of   1 | elapsed:    0.0s remaining:    0.0s\n",
      "[Parallel(n_jobs=1)]: Done  20 out of  20 | elapsed:    0.4s finished\n",
      "\n",
      "[2023-10-24 10:48:17] Features: 21/40 -- score: 0.9476636229278581[Parallel(n_jobs=1)]: Using backend SequentialBackend with 1 concurrent workers.\n",
      "[Parallel(n_jobs=1)]: Done   1 out of   1 | elapsed:    0.0s remaining:    0.0s\n",
      "[Parallel(n_jobs=1)]: Done  19 out of  19 | elapsed:    0.4s finished\n",
      "\n",
      "[2023-10-24 10:48:18] Features: 22/40 -- score: 0.9476740305336726[Parallel(n_jobs=1)]: Using backend SequentialBackend with 1 concurrent workers.\n",
      "[Parallel(n_jobs=1)]: Done   1 out of   1 | elapsed:    0.0s remaining:    0.0s\n",
      "[Parallel(n_jobs=1)]: Done  18 out of  18 | elapsed:    0.4s finished\n",
      "\n",
      "[2023-10-24 10:48:18] Features: 23/40 -- score: 0.9476774953268986[Parallel(n_jobs=1)]: Using backend SequentialBackend with 1 concurrent workers.\n",
      "[Parallel(n_jobs=1)]: Done   1 out of   1 | elapsed:    0.0s remaining:    0.0s\n",
      "[Parallel(n_jobs=1)]: Done  17 out of  17 | elapsed:    0.4s finished\n",
      "\n",
      "[2023-10-24 10:48:19] Features: 24/40 -- score: 0.9476815987941644[Parallel(n_jobs=1)]: Using backend SequentialBackend with 1 concurrent workers.\n",
      "[Parallel(n_jobs=1)]: Done   1 out of   1 | elapsed:    0.0s remaining:    0.0s\n",
      "[Parallel(n_jobs=1)]: Done  16 out of  16 | elapsed:    0.4s finished\n",
      "\n",
      "[2023-10-24 10:48:19] Features: 25/40 -- score: 0.9476861096420148[Parallel(n_jobs=1)]: Using backend SequentialBackend with 1 concurrent workers.\n",
      "[Parallel(n_jobs=1)]: Done   1 out of   1 | elapsed:    0.0s remaining:    0.0s\n",
      "[Parallel(n_jobs=1)]: Done  15 out of  15 | elapsed:    0.4s finished\n",
      "\n",
      "[2023-10-24 10:48:20] Features: 26/40 -- score: 0.9476954709399095[Parallel(n_jobs=1)]: Using backend SequentialBackend with 1 concurrent workers.\n",
      "[Parallel(n_jobs=1)]: Done   1 out of   1 | elapsed:    0.0s remaining:    0.0s\n",
      "[Parallel(n_jobs=1)]: Done  14 out of  14 | elapsed:    0.3s finished\n",
      "\n",
      "[2023-10-24 10:48:20] Features: 27/40 -- score: 0.9477038482553372[Parallel(n_jobs=1)]: Using backend SequentialBackend with 1 concurrent workers.\n",
      "[Parallel(n_jobs=1)]: Done   1 out of   1 | elapsed:    0.0s remaining:    0.0s\n"
     ]
    },
    {
     "name": "stderr",
     "output_type": "stream",
     "text": [
      "[Parallel(n_jobs=1)]: Done  13 out of  13 | elapsed:    0.3s finished\n",
      "\n",
      "[2023-10-24 10:48:20] Features: 28/40 -- score: 0.9477080049534795[Parallel(n_jobs=1)]: Using backend SequentialBackend with 1 concurrent workers.\n",
      "[Parallel(n_jobs=1)]: Done   1 out of   1 | elapsed:    0.0s remaining:    0.0s\n",
      "[Parallel(n_jobs=1)]: Done  12 out of  12 | elapsed:    0.3s finished\n",
      "\n",
      "[2023-10-24 10:48:21] Features: 29/40 -- score: 0.9477134672950228[Parallel(n_jobs=1)]: Using backend SequentialBackend with 1 concurrent workers.\n",
      "[Parallel(n_jobs=1)]: Done   1 out of   1 | elapsed:    0.0s remaining:    0.0s\n",
      "[Parallel(n_jobs=1)]: Done  11 out of  11 | elapsed:    0.3s finished\n",
      "\n",
      "[2023-10-24 10:48:21] Features: 30/40 -- score: 0.9477127863431181[Parallel(n_jobs=1)]: Using backend SequentialBackend with 1 concurrent workers.\n",
      "[Parallel(n_jobs=1)]: Done   1 out of   1 | elapsed:    0.0s remaining:    0.0s\n",
      "[Parallel(n_jobs=1)]: Done  10 out of  10 | elapsed:    0.3s finished\n",
      "\n",
      "[2023-10-24 10:48:22] Features: 31/40 -- score: 0.9477105643491276[Parallel(n_jobs=1)]: Using backend SequentialBackend with 1 concurrent workers.\n",
      "[Parallel(n_jobs=1)]: Done   1 out of   1 | elapsed:    0.0s remaining:    0.0s\n",
      "[Parallel(n_jobs=1)]: Done   9 out of   9 | elapsed:    0.2s finished\n",
      "\n",
      "[2023-10-24 10:48:22] Features: 32/40 -- score: 0.9477081452120647[Parallel(n_jobs=1)]: Using backend SequentialBackend with 1 concurrent workers.\n",
      "[Parallel(n_jobs=1)]: Done   1 out of   1 | elapsed:    0.0s remaining:    0.0s\n",
      "[Parallel(n_jobs=1)]: Done   8 out of   8 | elapsed:    0.2s finished\n",
      "\n",
      "[2023-10-24 10:48:22] Features: 33/40 -- score: 0.9477006478925205[Parallel(n_jobs=1)]: Using backend SequentialBackend with 1 concurrent workers.\n",
      "[Parallel(n_jobs=1)]: Done   1 out of   1 | elapsed:    0.0s remaining:    0.0s\n",
      "[Parallel(n_jobs=1)]: Done   7 out of   7 | elapsed:    0.1s finished\n",
      "\n",
      "[2023-10-24 10:48:23] Features: 34/40 -- score: 0.9476823279407824[Parallel(n_jobs=1)]: Using backend SequentialBackend with 1 concurrent workers.\n",
      "[Parallel(n_jobs=1)]: Done   1 out of   1 | elapsed:    0.0s remaining:    0.0s\n",
      "[Parallel(n_jobs=1)]: Done   6 out of   6 | elapsed:    0.1s finished\n",
      "\n",
      "[2023-10-24 10:48:23] Features: 35/40 -- score: 0.9476603655711626[Parallel(n_jobs=1)]: Using backend SequentialBackend with 1 concurrent workers.\n",
      "[Parallel(n_jobs=1)]: Done   1 out of   1 | elapsed:    0.0s remaining:    0.0s\n",
      "[Parallel(n_jobs=1)]: Done   5 out of   5 | elapsed:    0.1s finished\n",
      "\n",
      "[2023-10-24 10:48:23] Features: 36/40 -- score: 0.9476351356580686[Parallel(n_jobs=1)]: Using backend SequentialBackend with 1 concurrent workers.\n",
      "[Parallel(n_jobs=1)]: Done   1 out of   1 | elapsed:    0.0s remaining:    0.0s\n",
      "[Parallel(n_jobs=1)]: Done   4 out of   4 | elapsed:    0.1s finished\n",
      "\n",
      "[2023-10-24 10:48:23] Features: 37/40 -- score: 0.9476079774943997[Parallel(n_jobs=1)]: Using backend SequentialBackend with 1 concurrent workers.\n",
      "[Parallel(n_jobs=1)]: Done   1 out of   1 | elapsed:    0.0s remaining:    0.0s\n",
      "[Parallel(n_jobs=1)]: Done   3 out of   3 | elapsed:    0.0s finished\n",
      "\n",
      "[2023-10-24 10:48:23] Features: 38/40 -- score: 0.9475665606374566[Parallel(n_jobs=1)]: Using backend SequentialBackend with 1 concurrent workers.\n",
      "[Parallel(n_jobs=1)]: Done   1 out of   1 | elapsed:    0.0s remaining:    0.0s\n",
      "[Parallel(n_jobs=1)]: Done   2 out of   2 | elapsed:    0.0s finished\n",
      "\n",
      "[2023-10-24 10:48:23] Features: 39/40 -- score: 0.9475219126533064[Parallel(n_jobs=1)]: Using backend SequentialBackend with 1 concurrent workers.\n",
      "[Parallel(n_jobs=1)]: Done   1 out of   1 | elapsed:    0.0s remaining:    0.0s\n",
      "[Parallel(n_jobs=1)]: Done   1 out of   1 | elapsed:    0.0s finished\n",
      "\n",
      "[2023-10-24 10:48:23] Features: 40/40 -- score: 0.9474672865786269"
     ]
    }
   ],
   "source": [
    "lr= LinearRegression()\n",
    "\n",
    "lr_forward = sfs(estimator=lr, k_features ='best', forward=True,\n",
    "                     verbose=2, scoring='r2')\n",
    "\n",
    "\n",
    "sfs_forward = lr_forward.fit(xtrain, ytrain)"
   ]
  },
  {
   "cell_type": "code",
   "execution_count": 186,
   "id": "14bf783b",
   "metadata": {},
   "outputs": [
    {
     "data": {
      "text/plain": [
       "('total_sqft',\n",
       " 'pricepersqft',\n",
       " 'log_pricepersqft',\n",
       " 'area_type_Plot  Area',\n",
       " 'location_Bannerghatta Road',\n",
       " 'location_Electronic City',\n",
       " 'location_Haralur Road',\n",
       " 'location_Hebbal',\n",
       " 'location_Hennur Road',\n",
       " 'location_Kanakpura Road',\n",
       " 'location_Marathahalli',\n",
       " 'location_Other',\n",
       " 'location_Raja Rajeshwari Nagar',\n",
       " 'location_Sarjapur  Road',\n",
       " 'location_Thanisandra',\n",
       " 'location_Uttarahalli',\n",
       " 'location_Whitefield',\n",
       " 'location_Yelahanka',\n",
       " 'society_GMown E',\n",
       " 'society_No',\n",
       " 'society_Other',\n",
       " 'society_PrarePa',\n",
       " 'society_Prtanha',\n",
       " 'society_Prtates',\n",
       " 'society_Sryalan',\n",
       " 'BHK_2',\n",
       " 'BHK_3',\n",
       " 'BHK_4',\n",
       " 'BHK_5 or 6 ')"
      ]
     },
     "execution_count": 186,
     "metadata": {},
     "output_type": "execute_result"
    }
   ],
   "source": [
    "sfs_forward.k_feature_names_"
   ]
  },
  {
   "cell_type": "markdown",
   "id": "a7b49d92",
   "metadata": {},
   "source": [
    "### rebuilding the model using sfs forward features"
   ]
  },
  {
   "cell_type": "code",
   "execution_count": 187,
   "id": "08469d48",
   "metadata": {},
   "outputs": [],
   "source": [
    "x=df5.loc[:,sfs_forward.k_feature_names_]"
   ]
  },
  {
   "cell_type": "code",
   "execution_count": 188,
   "id": "acd5b3c1",
   "metadata": {},
   "outputs": [],
   "source": [
    "y=df5['price']"
   ]
  },
  {
   "cell_type": "code",
   "execution_count": 189,
   "id": "99141c32",
   "metadata": {},
   "outputs": [],
   "source": [
    "xtrain,xtest,ytrain,ytest=train_test_split(x,y,random_state=1)"
   ]
  },
  {
   "cell_type": "code",
   "execution_count": 190,
   "id": "cc384bf9",
   "metadata": {},
   "outputs": [
    {
     "data": {
      "text/plain": [
       "((8256, 29), (2752, 29), (8256,), (2752,))"
      ]
     },
     "execution_count": 190,
     "metadata": {},
     "output_type": "execute_result"
    }
   ],
   "source": [
    "xtrain.shape,xtest.shape,ytrain.shape,ytest.shape"
   ]
  },
  {
   "cell_type": "code",
   "execution_count": 191,
   "id": "e5eb47c2",
   "metadata": {
    "scrolled": true
   },
   "outputs": [
    {
     "name": "stdout",
     "output_type": "stream",
     "text": [
      "RMSE Train lr sfs: 8.44537240994446\n",
      "RMSE Test lr sfs: 8.042824541523775\n",
      "R2 Train_sfs : 0.9481205601642767\n",
      "R2 Test_sfs: 0.9525422616433249\n"
     ]
    }
   ],
   "source": [
    "lr_model_sfs = lr.fit(xtrain,ytrain)\n",
    "ypred_train_lr_sfs = lr_model_sfs.predict(xtrain)\n",
    "ypred_test_lr_sfs = lr_model_sfs.predict(xtest)\n",
    "print(\"RMSE Train lr sfs:\",mean_squared_error(ytrain,ypred_train_lr_sfs,squared=False))\n",
    "print(\"RMSE Test lr sfs:\",mean_squared_error(ytest,ypred_test_lr_sfs,squared=False))\n",
    "\n",
    "\n",
    "r2_train_lr_sfs=r2_score(ytrain,ypred_train_lr_sfs)\n",
    "r2_test_lr_sfs=r2_score(ytest,ypred_test_lr_sfs)\n",
    "print(\"R2 Train_sfs :\", r2_train_lr_sfs)\n",
    "print(\"R2 Test_sfs:\" ,r2_test_lr_sfs)"
   ]
  },
  {
   "cell_type": "code",
   "execution_count": 192,
   "id": "693939bc",
   "metadata": {},
   "outputs": [],
   "source": [
    "D['SFS_FW']=[mean_squared_error(ytrain,ypred_train_lr_sfs,squared=False),\n",
    "                                   mean_squared_error(ytest,ypred_test_lr_sfs,squared=False),\n",
    "                       r2_train_lr_sfs,r2_test_lr_sfs]"
   ]
  },
  {
   "cell_type": "code",
   "execution_count": null,
   "id": "b0089333",
   "metadata": {},
   "outputs": [],
   "source": []
  },
  {
   "cell_type": "markdown",
   "id": "e72880c4",
   "metadata": {},
   "source": [
    "# sfs backward "
   ]
  },
  {
   "cell_type": "code",
   "execution_count": 196,
   "id": "5486d05a",
   "metadata": {
    "scrolled": false
   },
   "outputs": [
    {
     "name": "stderr",
     "output_type": "stream",
     "text": [
      "[Parallel(n_jobs=1)]: Using backend SequentialBackend with 1 concurrent workers.\n",
      "[Parallel(n_jobs=1)]: Done   1 out of   1 | elapsed:    0.0s remaining:    0.0s\n",
      "[Parallel(n_jobs=1)]: Done  29 out of  29 | elapsed:    0.8s finished\n",
      "\n",
      "[2023-10-24 10:50:39] Features: 28/1 -- score: 0.9477311934431212[Parallel(n_jobs=1)]: Using backend SequentialBackend with 1 concurrent workers.\n",
      "[Parallel(n_jobs=1)]: Done   1 out of   1 | elapsed:    0.0s remaining:    0.0s\n",
      "[Parallel(n_jobs=1)]: Done  28 out of  28 | elapsed:    0.8s finished\n",
      "\n",
      "[2023-10-24 10:50:40] Features: 27/1 -- score: 0.9477309012769343[Parallel(n_jobs=1)]: Using backend SequentialBackend with 1 concurrent workers.\n",
      "[Parallel(n_jobs=1)]: Done   1 out of   1 | elapsed:    0.0s remaining:    0.0s\n",
      "[Parallel(n_jobs=1)]: Done  27 out of  27 | elapsed:    0.7s finished\n",
      "\n",
      "[2023-10-24 10:50:41] Features: 26/1 -- score: 0.947727328137286[Parallel(n_jobs=1)]: Using backend SequentialBackend with 1 concurrent workers.\n",
      "[Parallel(n_jobs=1)]: Done   1 out of   1 | elapsed:    0.0s remaining:    0.0s\n",
      "[Parallel(n_jobs=1)]: Done  26 out of  26 | elapsed:    0.7s finished\n",
      "\n",
      "[2023-10-24 10:50:42] Features: 25/1 -- score: 0.9477227635582803[Parallel(n_jobs=1)]: Using backend SequentialBackend with 1 concurrent workers.\n",
      "[Parallel(n_jobs=1)]: Done   1 out of   1 | elapsed:    0.0s remaining:    0.0s\n",
      "[Parallel(n_jobs=1)]: Done  25 out of  25 | elapsed:    0.6s finished\n",
      "\n",
      "[2023-10-24 10:50:43] Features: 24/1 -- score: 0.9477182227194595[Parallel(n_jobs=1)]: Using backend SequentialBackend with 1 concurrent workers.\n",
      "[Parallel(n_jobs=1)]: Done   1 out of   1 | elapsed:    0.0s remaining:    0.0s\n",
      "[Parallel(n_jobs=1)]: Done  24 out of  24 | elapsed:    0.6s finished\n",
      "\n",
      "[2023-10-24 10:50:43] Features: 23/1 -- score: 0.9477125844996026[Parallel(n_jobs=1)]: Using backend SequentialBackend with 1 concurrent workers.\n",
      "[Parallel(n_jobs=1)]: Done   1 out of   1 | elapsed:    0.0s remaining:    0.0s\n",
      "[Parallel(n_jobs=1)]: Done  23 out of  23 | elapsed:    0.5s finished\n",
      "\n",
      "[2023-10-24 10:50:44] Features: 22/1 -- score: 0.947707114363175[Parallel(n_jobs=1)]: Using backend SequentialBackend with 1 concurrent workers.\n",
      "[Parallel(n_jobs=1)]: Done   1 out of   1 | elapsed:    0.0s remaining:    0.0s\n",
      "[Parallel(n_jobs=1)]: Done  22 out of  22 | elapsed:    0.5s finished\n",
      "\n",
      "[2023-10-24 10:50:45] Features: 21/1 -- score: 0.9476993299338066[Parallel(n_jobs=1)]: Using backend SequentialBackend with 1 concurrent workers.\n",
      "[Parallel(n_jobs=1)]: Done   1 out of   1 | elapsed:    0.0s remaining:    0.0s\n",
      "[Parallel(n_jobs=1)]: Done  21 out of  21 | elapsed:    0.5s finished\n",
      "\n",
      "[2023-10-24 10:50:45] Features: 20/1 -- score: 0.9476895066792022[Parallel(n_jobs=1)]: Using backend SequentialBackend with 1 concurrent workers.\n",
      "[Parallel(n_jobs=1)]: Done   1 out of   1 | elapsed:    0.0s remaining:    0.0s\n",
      "[Parallel(n_jobs=1)]: Done  20 out of  20 | elapsed:    0.3s finished\n",
      "\n",
      "[2023-10-24 10:50:46] Features: 19/1 -- score: 0.9476796289445979[Parallel(n_jobs=1)]: Using backend SequentialBackend with 1 concurrent workers.\n",
      "[Parallel(n_jobs=1)]: Done   1 out of   1 | elapsed:    0.0s remaining:    0.0s\n",
      "[Parallel(n_jobs=1)]: Done  19 out of  19 | elapsed:    0.3s finished\n",
      "\n",
      "[2023-10-24 10:50:46] Features: 18/1 -- score: 0.9476668095795647[Parallel(n_jobs=1)]: Using backend SequentialBackend with 1 concurrent workers.\n",
      "[Parallel(n_jobs=1)]: Done   1 out of   1 | elapsed:    0.0s remaining:    0.0s\n",
      "[Parallel(n_jobs=1)]: Done  18 out of  18 | elapsed:    0.2s finished\n",
      "\n",
      "[2023-10-24 10:50:46] Features: 17/1 -- score: 0.9476524764990806[Parallel(n_jobs=1)]: Using backend SequentialBackend with 1 concurrent workers.\n",
      "[Parallel(n_jobs=1)]: Done   1 out of   1 | elapsed:    0.0s remaining:    0.0s\n",
      "[Parallel(n_jobs=1)]: Done  17 out of  17 | elapsed:    0.2s finished\n",
      "\n",
      "[2023-10-24 10:50:47] Features: 16/1 -- score: 0.9476361795104872[Parallel(n_jobs=1)]: Using backend SequentialBackend with 1 concurrent workers.\n",
      "[Parallel(n_jobs=1)]: Done   1 out of   1 | elapsed:    0.0s remaining:    0.0s\n",
      "[Parallel(n_jobs=1)]: Done  16 out of  16 | elapsed:    0.2s finished\n",
      "\n",
      "[2023-10-24 10:50:47] Features: 15/1 -- score: 0.94761361734866[Parallel(n_jobs=1)]: Using backend SequentialBackend with 1 concurrent workers.\n",
      "[Parallel(n_jobs=1)]: Done   1 out of   1 | elapsed:    0.0s remaining:    0.0s\n",
      "[Parallel(n_jobs=1)]: Done  15 out of  15 | elapsed:    0.1s finished\n",
      "\n",
      "[2023-10-24 10:50:47] Features: 14/1 -- score: 0.9475780513686065[Parallel(n_jobs=1)]: Using backend SequentialBackend with 1 concurrent workers.\n",
      "[Parallel(n_jobs=1)]: Done   1 out of   1 | elapsed:    0.0s remaining:    0.0s\n",
      "[Parallel(n_jobs=1)]: Done  14 out of  14 | elapsed:    0.1s finished\n",
      "\n",
      "[2023-10-24 10:50:47] Features: 13/1 -- score: 0.947542732392033[Parallel(n_jobs=1)]: Using backend SequentialBackend with 1 concurrent workers.\n",
      "[Parallel(n_jobs=1)]: Done   1 out of   1 | elapsed:    0.0s remaining:    0.0s\n",
      "[Parallel(n_jobs=1)]: Done  13 out of  13 | elapsed:    0.1s finished\n",
      "\n",
      "[2023-10-24 10:50:48] Features: 12/1 -- score: 0.9475065910561131[Parallel(n_jobs=1)]: Using backend SequentialBackend with 1 concurrent workers.\n",
      "[Parallel(n_jobs=1)]: Done   1 out of   1 | elapsed:    0.0s remaining:    0.0s\n",
      "[Parallel(n_jobs=1)]: Done  12 out of  12 | elapsed:    0.1s finished\n",
      "\n",
      "[2023-10-24 10:50:48] Features: 11/1 -- score: 0.9474637238634992[Parallel(n_jobs=1)]: Using backend SequentialBackend with 1 concurrent workers.\n",
      "[Parallel(n_jobs=1)]: Done   1 out of   1 | elapsed:    0.0s remaining:    0.0s\n",
      "[Parallel(n_jobs=1)]: Done  11 out of  11 | elapsed:    0.0s finished\n",
      "\n",
      "[2023-10-24 10:50:48] Features: 10/1 -- score: 0.9473920316400963[Parallel(n_jobs=1)]: Using backend SequentialBackend with 1 concurrent workers.\n",
      "[Parallel(n_jobs=1)]: Done   1 out of   1 | elapsed:    0.0s remaining:    0.0s\n",
      "[Parallel(n_jobs=1)]: Done  10 out of  10 | elapsed:    0.0s finished\n",
      "\n",
      "[2023-10-24 10:50:48] Features: 9/1 -- score: 0.9473151532165083[Parallel(n_jobs=1)]: Using backend SequentialBackend with 1 concurrent workers.\n",
      "[Parallel(n_jobs=1)]: Done   1 out of   1 | elapsed:    0.0s remaining:    0.0s\n",
      "[Parallel(n_jobs=1)]: Done   9 out of   9 | elapsed:    0.0s finished\n",
      "\n",
      "[2023-10-24 10:50:48] Features: 8/1 -- score: 0.9472225495623048[Parallel(n_jobs=1)]: Using backend SequentialBackend with 1 concurrent workers.\n",
      "[Parallel(n_jobs=1)]: Done   1 out of   1 | elapsed:    0.0s remaining:    0.0s\n",
      "[Parallel(n_jobs=1)]: Done   8 out of   8 | elapsed:    0.0s finished\n",
      "\n",
      "[2023-10-24 10:50:48] Features: 7/1 -- score: 0.9470572239317047[Parallel(n_jobs=1)]: Using backend SequentialBackend with 1 concurrent workers.\n",
      "[Parallel(n_jobs=1)]: Done   1 out of   1 | elapsed:    0.0s remaining:    0.0s\n",
      "[Parallel(n_jobs=1)]: Done   7 out of   7 | elapsed:    0.0s finished\n",
      "\n",
      "[2023-10-24 10:50:48] Features: 6/1 -- score: 0.9468583679587985[Parallel(n_jobs=1)]: Using backend SequentialBackend with 1 concurrent workers.\n",
      "[Parallel(n_jobs=1)]: Done   1 out of   1 | elapsed:    0.0s remaining:    0.0s\n",
      "[Parallel(n_jobs=1)]: Done   6 out of   6 | elapsed:    0.0s finished\n",
      "\n",
      "[2023-10-24 10:50:48] Features: 5/1 -- score: 0.9468103110364297[Parallel(n_jobs=1)]: Using backend SequentialBackend with 1 concurrent workers.\n",
      "[Parallel(n_jobs=1)]: Done   1 out of   1 | elapsed:    0.0s remaining:    0.0s\n",
      "[Parallel(n_jobs=1)]: Done   5 out of   5 | elapsed:    0.0s finished\n",
      "\n",
      "[2023-10-24 10:50:48] Features: 4/1 -- score: 0.946220412723046[Parallel(n_jobs=1)]: Using backend SequentialBackend with 1 concurrent workers.\n",
      "[Parallel(n_jobs=1)]: Done   1 out of   1 | elapsed:    0.0s remaining:    0.0s\n",
      "[Parallel(n_jobs=1)]: Done   4 out of   4 | elapsed:    0.0s finished\n",
      "\n",
      "[2023-10-24 10:50:48] Features: 3/1 -- score: 0.9456096466118197[Parallel(n_jobs=1)]: Using backend SequentialBackend with 1 concurrent workers.\n",
      "[Parallel(n_jobs=1)]: Done   1 out of   1 | elapsed:    0.0s remaining:    0.0s\n",
      "[Parallel(n_jobs=1)]: Done   3 out of   3 | elapsed:    0.0s finished\n",
      "\n",
      "[2023-10-24 10:50:48] Features: 2/1 -- score: 0.9361328507441152[Parallel(n_jobs=1)]: Using backend SequentialBackend with 1 concurrent workers.\n",
      "[Parallel(n_jobs=1)]: Done   1 out of   1 | elapsed:    0.0s remaining:    0.0s\n",
      "[Parallel(n_jobs=1)]: Done   2 out of   2 | elapsed:    0.0s finished\n",
      "\n",
      "[2023-10-24 10:50:48] Features: 1/1 -- score: 0.5482736501527591"
     ]
    }
   ],
   "source": [
    "lr= LinearRegression()\n",
    "\n",
    "lr_backward = sfs(estimator=lr, k_features ='best', forward=False,\n",
    "                     verbose=2, scoring='r2')\n",
    "\n",
    "\n",
    "sfs_backward = lr_backward.fit(xtrain, ytrain)"
   ]
  },
  {
   "cell_type": "code",
   "execution_count": 197,
   "id": "5ef771bb",
   "metadata": {},
   "outputs": [
    {
     "data": {
      "text/plain": [
       "('total_sqft',\n",
       " 'pricepersqft',\n",
       " 'log_pricepersqft',\n",
       " 'area_type_Plot  Area',\n",
       " 'location_Bannerghatta Road',\n",
       " 'location_Electronic City',\n",
       " 'location_Haralur Road',\n",
       " 'location_Hennur Road',\n",
       " 'location_Kanakpura Road',\n",
       " 'location_Marathahalli',\n",
       " 'location_Other',\n",
       " 'location_Raja Rajeshwari Nagar',\n",
       " 'location_Sarjapur  Road',\n",
       " 'location_Thanisandra',\n",
       " 'location_Uttarahalli',\n",
       " 'location_Whitefield',\n",
       " 'location_Yelahanka',\n",
       " 'society_GMown E',\n",
       " 'society_No',\n",
       " 'society_Other',\n",
       " 'society_PrarePa',\n",
       " 'society_Prtanha',\n",
       " 'society_Prtates',\n",
       " 'society_Sryalan',\n",
       " 'BHK_2',\n",
       " 'BHK_3',\n",
       " 'BHK_4',\n",
       " 'BHK_5 or 6 ')"
      ]
     },
     "execution_count": 197,
     "metadata": {},
     "output_type": "execute_result"
    }
   ],
   "source": [
    "sfs_backward.k_feature_names_ "
   ]
  },
  {
   "cell_type": "code",
   "execution_count": 198,
   "id": "6dee4fce",
   "metadata": {},
   "outputs": [],
   "source": [
    "x=df5.loc[:,sfs_backward.k_feature_names_]\n",
    "y=df5['price']"
   ]
  },
  {
   "cell_type": "code",
   "execution_count": 199,
   "id": "ba368757",
   "metadata": {},
   "outputs": [],
   "source": [
    "xtrain,xtest,ytrain,ytest=train_test_split(x,y,random_state=1)"
   ]
  },
  {
   "cell_type": "code",
   "execution_count": 200,
   "id": "b8130a71",
   "metadata": {},
   "outputs": [
    {
     "name": "stdout",
     "output_type": "stream",
     "text": [
      "RMSE Train lr_sfs_bc: 8.445384384289964\n",
      "RMSE Test lr_sfs_bc: 8.042942588329874\n",
      "R2 Train_sfs_bc: 0.9481204130487328\n",
      "R2 Test_sfs_bc: 0.9525408685318573\n"
     ]
    }
   ],
   "source": [
    "lr_model_sfs_bc = lr.fit(xtrain,ytrain)\n",
    "ypred_train_lr_sfs_bc = lr_model_sfs_bc.predict(xtrain)\n",
    "ypred_test_lr_sfs_bc= lr_model_sfs_bc.predict(xtest)\n",
    "print(\"RMSE Train lr_sfs_bc:\",mean_squared_error(ytrain,ypred_train_lr_sfs_bc,squared=False))\n",
    "print(\"RMSE Test lr_sfs_bc:\",mean_squared_error(ytest,ypred_test_lr_sfs_bc,squared=False))\n",
    "\n",
    "r2_train_lr_sfs_bc=r2_score(ytrain,ypred_train_lr_sfs_bc)\n",
    "r2_test_lr_sfs_bc=r2_score(ytest,ypred_test_lr_sfs_bc)\n",
    "print(\"R2 Train_sfs_bc:\", r2_train_lr_sfs_bc)\n",
    "print(\"R2 Test_sfs_bc:\" ,r2_test_lr_sfs_bc)"
   ]
  },
  {
   "cell_type": "code",
   "execution_count": 201,
   "id": "628f3630",
   "metadata": {},
   "outputs": [],
   "source": [
    "D['SFS_BW']=[mean_squared_error(ytrain,ypred_train_lr_sfs_bc,squared=False),\n",
    "                                   mean_squared_error(ytest,ypred_test_lr_sfs_bc,squared=False),\n",
    "                       r2_train_lr_sfs_bc,r2_test_lr_sfs_bc]"
   ]
  },
  {
   "cell_type": "markdown",
   "id": "3612b672",
   "metadata": {},
   "source": [
    "## cross validation "
   ]
  },
  {
   "cell_type": "code",
   "execution_count": 203,
   "id": "3f883675",
   "metadata": {},
   "outputs": [],
   "source": [
    "from sklearn.model_selection import cross_val_score, KFold"
   ]
  },
  {
   "cell_type": "code",
   "execution_count": 206,
   "id": "156f4dc5",
   "metadata": {},
   "outputs": [
    {
     "name": "stdout",
     "output_type": "stream",
     "text": [
      "bias error 0.9741497618986762\n",
      "variance error 0.0023522627002365297\n"
     ]
    }
   ],
   "source": [
    "lr=LinearRegression()\n",
    "kf=KFold(n_splits=5, shuffle=True, random_state=1)\n",
    "cros_cal_score=cross_val_score(lr, x, y , cv = kf, scoring='r2')\n",
    "rmse=np.sqrt(np.mean(np.abs(cros_cal_score)))\n",
    "print('bias error', rmse)\n",
    "std=np.std(np.abs(cros_cal_score), ddof=1)\n",
    "print('variance error', std)"
   ]
  },
  {
   "cell_type": "markdown",
   "id": "f82d872c",
   "metadata": {},
   "source": [
    "# summary of all linear models "
   ]
  },
  {
   "cell_type": "code",
   "execution_count": 207,
   "id": "745ca5b9",
   "metadata": {},
   "outputs": [
    {
     "data": {
      "text/html": [
       "<div>\n",
       "<style scoped>\n",
       "    .dataframe tbody tr th:only-of-type {\n",
       "        vertical-align: middle;\n",
       "    }\n",
       "\n",
       "    .dataframe tbody tr th {\n",
       "        vertical-align: top;\n",
       "    }\n",
       "\n",
       "    .dataframe thead th {\n",
       "        text-align: right;\n",
       "    }\n",
       "</style>\n",
       "<table border=\"1\" class=\"dataframe\">\n",
       "  <thead>\n",
       "    <tr style=\"text-align: right;\">\n",
       "      <th></th>\n",
       "      <th>SCORE</th>\n",
       "      <th>LINEAR REGRESSION</th>\n",
       "      <th>ridge</th>\n",
       "      <th>lasso</th>\n",
       "      <th>enet</th>\n",
       "      <th>SFS_FW</th>\n",
       "      <th>SFS_BW</th>\n",
       "    </tr>\n",
       "  </thead>\n",
       "  <tbody>\n",
       "    <tr>\n",
       "      <th>0</th>\n",
       "      <td>rmse train</td>\n",
       "      <td>8.437590</td>\n",
       "      <td>8.437590</td>\n",
       "      <td>8.627589</td>\n",
       "      <td>9.327099</td>\n",
       "      <td>8.445372</td>\n",
       "      <td>8.445384</td>\n",
       "    </tr>\n",
       "    <tr>\n",
       "      <th>1</th>\n",
       "      <td>rmse test</td>\n",
       "      <td>8.026086</td>\n",
       "      <td>8.026086</td>\n",
       "      <td>8.100249</td>\n",
       "      <td>8.672336</td>\n",
       "      <td>8.042825</td>\n",
       "      <td>8.042943</td>\n",
       "    </tr>\n",
       "    <tr>\n",
       "      <th>2</th>\n",
       "      <td>r2 train</td>\n",
       "      <td>0.948216</td>\n",
       "      <td>0.948216</td>\n",
       "      <td>0.945858</td>\n",
       "      <td>0.936722</td>\n",
       "      <td>0.948121</td>\n",
       "      <td>0.948120</td>\n",
       "    </tr>\n",
       "    <tr>\n",
       "      <th>3</th>\n",
       "      <td>r2 test</td>\n",
       "      <td>0.952740</td>\n",
       "      <td>0.952740</td>\n",
       "      <td>0.951862</td>\n",
       "      <td>0.944822</td>\n",
       "      <td>0.952542</td>\n",
       "      <td>0.952541</td>\n",
       "    </tr>\n",
       "  </tbody>\n",
       "</table>\n",
       "</div>"
      ],
      "text/plain": [
       "        SCORE  LINEAR REGRESSION     ridge     lasso      enet    SFS_FW  \\\n",
       "0  rmse train           8.437590  8.437590  8.627589  9.327099  8.445372   \n",
       "1   rmse test           8.026086  8.026086  8.100249  8.672336  8.042825   \n",
       "2    r2 train           0.948216  0.948216  0.945858  0.936722  0.948121   \n",
       "3     r2 test           0.952740  0.952740  0.951862  0.944822  0.952542   \n",
       "\n",
       "     SFS_BW  \n",
       "0  8.445384  \n",
       "1  8.042943  \n",
       "2  0.948120  \n",
       "3  0.952541  "
      ]
     },
     "execution_count": 207,
     "metadata": {},
     "output_type": "execute_result"
    }
   ],
   "source": [
    "# get the dataframe with all score summary \n",
    "D"
   ]
  },
  {
   "cell_type": "markdown",
   "id": "49cf05ea",
   "metadata": {},
   "source": [
    "from the summary it seems that linear regression and ridge both has the same values of scores in all 4. so iam optiong the first one. linear regression base model. \n",
    "     it has low rmse test and high r2 test. "
   ]
  },
  {
   "cell_type": "markdown",
   "id": "023f6f78",
   "metadata": {},
   "source": [
    "# *Plotting the output of LINEAR REGRESSION MODEL "
   ]
  },
  {
   "cell_type": "code",
   "execution_count": 208,
   "id": "417c16cb",
   "metadata": {},
   "outputs": [
    {
     "data": {
      "text/html": [
       "<div>\n",
       "<style scoped>\n",
       "    .dataframe tbody tr th:only-of-type {\n",
       "        vertical-align: middle;\n",
       "    }\n",
       "\n",
       "    .dataframe tbody tr th {\n",
       "        vertical-align: top;\n",
       "    }\n",
       "\n",
       "    .dataframe thead th {\n",
       "        text-align: right;\n",
       "    }\n",
       "</style>\n",
       "<table border=\"1\" class=\"dataframe\">\n",
       "  <thead>\n",
       "    <tr style=\"text-align: right;\">\n",
       "      <th></th>\n",
       "      <th>ACTUAL</th>\n",
       "      <th>PREDICTED</th>\n",
       "    </tr>\n",
       "  </thead>\n",
       "  <tbody>\n",
       "    <tr>\n",
       "      <th>5596</th>\n",
       "      <td>42.00</td>\n",
       "      <td>41.496328</td>\n",
       "    </tr>\n",
       "    <tr>\n",
       "      <th>11570</th>\n",
       "      <td>46.00</td>\n",
       "      <td>44.476006</td>\n",
       "    </tr>\n",
       "    <tr>\n",
       "      <th>9931</th>\n",
       "      <td>175.00</td>\n",
       "      <td>161.116632</td>\n",
       "    </tr>\n",
       "    <tr>\n",
       "      <th>4523</th>\n",
       "      <td>160.00</td>\n",
       "      <td>142.615001</td>\n",
       "    </tr>\n",
       "    <tr>\n",
       "      <th>584</th>\n",
       "      <td>180.00</td>\n",
       "      <td>154.706710</td>\n",
       "    </tr>\n",
       "    <tr>\n",
       "      <th>...</th>\n",
       "      <td>...</td>\n",
       "      <td>...</td>\n",
       "    </tr>\n",
       "    <tr>\n",
       "      <th>10746</th>\n",
       "      <td>55.00</td>\n",
       "      <td>56.403619</td>\n",
       "    </tr>\n",
       "    <tr>\n",
       "      <th>12065</th>\n",
       "      <td>32.25</td>\n",
       "      <td>25.652481</td>\n",
       "    </tr>\n",
       "    <tr>\n",
       "      <th>6612</th>\n",
       "      <td>37.00</td>\n",
       "      <td>31.875148</td>\n",
       "    </tr>\n",
       "    <tr>\n",
       "      <th>3517</th>\n",
       "      <td>58.00</td>\n",
       "      <td>60.543719</td>\n",
       "    </tr>\n",
       "    <tr>\n",
       "      <th>9443</th>\n",
       "      <td>48.00</td>\n",
       "      <td>48.392306</td>\n",
       "    </tr>\n",
       "  </tbody>\n",
       "</table>\n",
       "<p>2752 rows × 2 columns</p>\n",
       "</div>"
      ],
      "text/plain": [
       "       ACTUAL   PREDICTED\n",
       "5596    42.00   41.496328\n",
       "11570   46.00   44.476006\n",
       "9931   175.00  161.116632\n",
       "4523   160.00  142.615001\n",
       "584    180.00  154.706710\n",
       "...       ...         ...\n",
       "10746   55.00   56.403619\n",
       "12065   32.25   25.652481\n",
       "6612    37.00   31.875148\n",
       "3517    58.00   60.543719\n",
       "9443    48.00   48.392306\n",
       "\n",
       "[2752 rows x 2 columns]"
      ]
     },
     "execution_count": 208,
     "metadata": {},
     "output_type": "execute_result"
    }
   ],
   "source": [
    "# GETTING ACTUAL VS PREDICTED \n",
    "pd.DataFrame({'ACTUAL':ytest, 'PREDICTED': ypred_test_lr})"
   ]
  },
  {
   "cell_type": "markdown",
   "id": "382d9904",
   "metadata": {},
   "source": [
    "## residual  vs actual plot "
   ]
  },
  {
   "cell_type": "code",
   "execution_count": 223,
   "id": "57460004",
   "metadata": {
    "scrolled": false
   },
   "outputs": [
    {
     "data": {
      "image/png": "[encoded data removed]",
      "text/plain": [
       "<Figure size 600x400 with 1 Axes>"
      ]
     },
     "metadata": {},
     "output_type": "display_data"
    }
   ],
   "source": [
    "plt.figure(figsize=(6, 4))\n",
    "sns.scatterplot(x=ytest, y=(ytest - ypred_test_lr), color='blue', label='Residuals')\n",
    "plt.axhline(y=0, color='red', linestyle='--', linewidth=3, label='Zero Residuals')\n",
    "plt.xlabel('Actual Values')\n",
    "plt.ylabel('Residuals')\n",
    "plt.title('Residual Plot')\n",
    "plt.legend()\n",
    "plt.show()\n"
   ]
  },
  {
   "cell_type": "markdown",
   "id": "468e9ac8",
   "metadata": {},
   "source": [
    "## Distribution of residuals "
   ]
  },
  {
   "cell_type": "code",
   "execution_count": 228,
   "id": "74580742",
   "metadata": {},
   "outputs": [
    {
     "data": {
      "image/png": "[encoded data removed]",
      "text/plain": [
       "<Figure size 800x600 with 1 Axes>"
      ]
     },
     "metadata": {},
     "output_type": "display_data"
    }
   ],
   "source": [
    "plt.figure(figsize=(8, 6))\n",
    "sns.histplot(ytest - ypred_test_lr, bins=30, color='purple', alpha=0.7, label='Residuals')\n",
    "plt.xlabel('Residuals')\n",
    "plt.ylabel('Frequency')\n",
    "plt.title('Distribution of Residuals')\n",
    "plt.legend()\n",
    "plt.show()"
   ]
  },
  {
   "cell_type": "markdown",
   "id": "93e4fdf4",
   "metadata": {},
   "source": [
    "## Actual vs predicted"
   ]
  },
  {
   "cell_type": "code",
   "execution_count": 231,
   "id": "2392d356",
   "metadata": {},
   "outputs": [
    {
     "data": {
      "image/png": "[encoded data removed]",
      "text/plain": [
       "<Figure size 800x600 with 1 Axes>"
      ]
     },
     "metadata": {},
     "output_type": "display_data"
    }
   ],
   "source": [
    "plt.figure(figsize=(8, 6))\n",
    "sns.scatterplot(x=ytest,\n",
    "            y=ypred_test_lr, color='blue', label='Actual vs. Predicted')\n",
    "plt.plot([min(ytest), max(ytest)], [min(ytest), max(ytest)], linestyle='--', color='red', linewidth=3, \n",
    "         label='Perfect Prediction')\n",
    "plt.xlabel('Actual Values')\n",
    "plt.ylabel('Predicted Values')\n",
    "plt.title('Actual vs. Predicted Values')\n",
    "plt.legend()\n",
    "plt.show()"
   ]
  },
  {
   "cell_type": "markdown",
   "id": "db8915b4",
   "metadata": {},
   "source": [
    "The graph shows that the accuarcy in prediction is high, or the model performs better in the mmiddle while it performs poor in the side values. "
   ]
  },
  {
   "cell_type": "markdown",
   "id": "7273d368",
   "metadata": {},
   "source": [
    "# CONCLUSION "
   ]
  },
  {
   "cell_type": "markdown",
   "id": "2606410c",
   "metadata": {},
   "source": [
    "The prices of houses in Bengaluru varies from location to location and are highly influenced by the area type, availability dates,society and mainly the presence of balcony. \n",
    "\n",
    "The given dataset had extreme outliers which were dropped during data preprocessing. \n",
    "\n",
    "In this project i used linear regression along with regularization techniques and feature selection methods to build the models. \n",
    "\n",
    "The all models build produced an r2 score above 9 on train and test data, which shows the feature engineering and data cleaning are done properly. And among the models, i choosed the base model of linear regression with all variables, which has the highest r2 score on the test data and lowest rmse on the test data which depicts that this model can predict the house price more accurately. "
   ]
  },
  {
   "cell_type": "markdown",
   "id": "7698bf77",
   "metadata": {},
   "source": [
    "###### thank you "
   ]
  }
 ],
 "metadata": {
  "kernelspec": {
   "display_name": "Python 3 (ipykernel)",
   "language": "python",
   "name": "python3"
  },
  "language_info": {
   "codemirror_mode": {
    "name": "ipython",
    "version": 3
   },
   "file_extension": ".py",
   "mimetype": "text/x-python",
   "name": "python",
   "nbconvert_exporter": "python",
   "pygments_lexer": "ipython3",
   "version": "3.11.5"
  }
 },
 "nbformat": 4,
 "nbformat_minor": 5
}
